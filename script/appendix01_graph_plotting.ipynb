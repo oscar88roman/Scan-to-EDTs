{
 "cells": [
  {
   "cell_type": "code",
   "execution_count": 1,
   "id": "16eb87b0",
   "metadata": {},
   "outputs": [
    {
     "data": {
      "application/vnd.plotly.v1+json": {
       "config": {
        "plotlyServerURL": "https://plot.ly"
       },
       "data": [
        {
         "hoverinfo": "text",
         "line": {
          "color": "red"
         },
         "mode": "lines",
         "name": "partly_wall (ID: 2)",
         "text": [
          "ID: 2",
          "ID: 2",
          "ID: 2",
          "ID: 2",
          "ID: 2"
         ],
         "type": "scatter3d",
         "x": {
          "bdata": "bxKDwMqBQ8CsHFpkO49DwKwcWmQ7j0PAbxKDwMqBQ8BvEoPAyoFDwA==",
          "dtype": "f8"
         },
         "y": {
          "bdata": "qMZLN4lhNkD8qfHSTeI9QPyp8dJN4j1AqMZLN4lhNkCoxks3iWE2QA==",
          "dtype": "f8"
         },
         "z": {
          "bdata": "VOOlm8SgGkBU46WbxKAaQNEi2/l+aghA0SLb+X5qCEBU46WbxKAaQA==",
          "dtype": "f8"
         }
        },
        {
         "hoverinfo": "text",
         "line": {
          "color": "blue"
         },
         "mode": "lines",
         "name": "external (ID: 3)",
         "text": [
          "ID: 3",
          "ID: 3",
          "ID: 3",
          "ID: 3",
          "ID: 3"
         ],
         "type": "scatter3d",
         "x": {
          "bdata": "rBxaZDuPQ8DRItv5fqo/wNEi2/l+qj/ArBxaZDuPQ8CsHFpkO49DwA==",
          "dtype": "f8"
         },
         "y": {
          "bdata": "/Knx0k3iPUDP91Pjpfs9QM/3U+Ol+z1A/Knx0k3iPUD8qfHSTeI9QA==",
          "dtype": "f8"
         },
         "z": {
          "bdata": "VOOlm8SgGkBU46WbxKAaQNEi2/l+aghA0SLb+X5qCEBU46WbxKAaQA==",
          "dtype": "f8"
         }
        },
        {
         "hoverinfo": "text",
         "line": {
          "color": "green"
         },
         "mode": "lines",
         "name": "external_with_hole (ID: 3)",
         "text": [
          "ID: 3",
          "ID: 3",
          "ID: 3",
          "ID: 3",
          "ID: 3"
         ],
         "type": "scatter3d",
         "x": {
          "bdata": "0SLb+X6qP8DRItv5fqo/wKwcWmQ7j0PArBxaZDuPQ8DRItv5fqo/wA==",
          "dtype": "f8"
         },
         "y": {
          "bdata": "0PdT46X7PUDQ91Pjpfs9QP2p8dJN4j1A/anx0k3iPUDQ91Pjpfs9QA==",
          "dtype": "f8"
         },
         "z": {
          "bdata": "VOOlm8SgGkDRItv5fmoIQNEi2/l+aghAVOOlm8SgGkBU46WbxKAaQA==",
          "dtype": "f8"
         }
        },
        {
         "hoverinfo": "text",
         "line": {
          "color": "green"
         },
         "mode": "lines",
         "name": "external_with_hole (ID: 3)",
         "text": [
          "ID: 3",
          "ID: 3",
          "ID: 3",
          "ID: 3",
          "ID: 3"
         ],
         "type": "scatter3d",
         "x": {
          "bdata": "bRKu6HwPQMBIa3HzKHxDwEhrcfMofEPAbRKu6HwPQMBtEq7ofA9AwA==",
          "dtype": "f8"
         },
         "y": {
          "bdata": "LPYPzBn6PUA7moWIz+I9QDuahYjP4j1ALPYPzBn6PUAs9g/MGfo9QA==",
          "dtype": "f8"
         },
         "z": {
          "bdata": "+n5qvHQTEkD6fmq8dBMSQNnO91PjpRdA2c73U+OlF0D6fmq8dBMSQA==",
          "dtype": "f8"
         }
        },
        {
         "hoverinfo": "text",
         "line": {
          "color": "blue"
         },
         "mode": "lines",
         "name": "external (ID: 5)",
         "text": [
          "ID: 5",
          "ID: 5",
          "ID: 5",
          "ID: 5",
          "ID: 5"
         ],
         "type": "scatter3d",
         "x": {
          "bdata": "0SLb+X6qP8DRItv5fqo/wBfZzvdTgz/AF9nO91ODP8DRItv5fqo/wA==",
          "dtype": "f8"
         },
         "y": {
          "bdata": "z/dT46X7PUDP91Pjpfs9QJ7vp8ZL9zZAnu+nxkv3NkDP91Pjpfs9QA==",
          "dtype": "f8"
         },
         "z": {
          "bdata": "0SLb+X5qCEBU46WbxKAaQFTjpZvEoBpA0SLb+X5qCEDRItv5fmoIQA==",
          "dtype": "f8"
         }
        },
        {
         "hoverinfo": "text",
         "line": {
          "color": "blue"
         },
         "mode": "lines",
         "name": "external (ID: 6)",
         "text": [
          "ID: 6",
          "ID: 6",
          "ID: 6",
          "ID: 6",
          "ID: 6"
         ],
         "type": "scatter3d",
         "x": {
          "bdata": "F9nO91ODP8AX2c73U4M/wI2XbhKDgD/AjZduEoOAP8AX2c73U4M/wA==",
          "dtype": "f8"
         },
         "y": {
          "bdata": "nu+nxkv3NkCe76fGS/c2QLByaJHtfDZAsHJoke18NkCe76fGS/c2QA==",
          "dtype": "f8"
         },
         "z": {
          "bdata": "0SLb+X5qCEBU46WbxKAaQFTjpZvEoBpA0SLb+X5qCEDRItv5fmoIQA==",
          "dtype": "f8"
         }
        },
        {
         "hoverinfo": "text",
         "line": {
          "color": "red"
         },
         "mode": "lines",
         "name": "partly_wall (ID: 7)",
         "text": [
          "ID: 7",
          "ID: 7",
          "ID: 7",
          "ID: 7",
          "ID: 7"
         ],
         "type": "scatter3d",
         "x": {
          "bdata": "jZduEoOAP8BvEoPAyoFDwG8Sg8DKgUPAjZduEoOAP8CNl24Sg4A/wA==",
          "dtype": "f8"
         },
         "y": {
          "bdata": "sHJoke18NkCoxks3iWE2QKjGSzeJYTZAsHJoke18NkCwcmiR7Xw2QA==",
          "dtype": "f8"
         },
         "z": {
          "bdata": "VOOlm8SgGkBU46WbxKAaQNEi2/l+aghA0SLb+X5qCEBU46WbxKAaQA==",
          "dtype": "f8"
         }
        },
        {
         "hoverinfo": "text",
         "line": {
          "color": "orange"
         },
         "mode": "lines",
         "name": "partly_wall_with_hole (ID: 7)",
         "text": [
          "ID: 7",
          "ID: 7",
          "ID: 7",
          "ID: 7",
          "ID: 7"
         ],
         "type": "scatter3d",
         "x": {
          "bdata": "bxKDwMqBQ8CNl24Sg4A/wI2XbhKDgD/AbxKDwMqBQ8BvEoPAyoFDwA==",
          "dtype": "f8"
         },
         "y": {
          "bdata": "qMZLN4lhNkCwcmiR7Xw2QLByaJHtfDZAqMZLN4lhNkCoxks3iWE2QA==",
          "dtype": "f8"
         },
         "z": {
          "bdata": "VOOlm8SgGkBU46WbxKAaQNEi2/l+aghA0SLb+X5qCEBU46WbxKAaQA==",
          "dtype": "f8"
         }
        },
        {
         "hoverinfo": "text",
         "line": {
          "color": "orange"
         },
         "mode": "lines",
         "name": "partly_wall_with_hole (ID: 7)",
         "text": [
          "ID: 7",
          "ID: 7",
          "ID: 7",
          "ID: 7",
          "ID: 7"
         ],
         "type": "scatter3d",
         "x": {
          "bdata": "+QlLpsgWQcD5CUumyBZBwL9f0XEgsEDAv1/RcSCwQMD5CUumyBZBwA==",
          "dtype": "f8"
         },
         "y": {
          "bdata": "J/oljytzNkAn+iWPK3M2QNj9IDkYdjZA2P0gORh2NkAn+iWPK3M2QA==",
          "dtype": "f8"
         },
         "z": {
          "bdata": "XrpJDAIrDkB3vp8aL10XQHe+nxovXRdAXrpJDAIrDkBeukkMAisOQA==",
          "dtype": "f8"
         }
        },
        {
         "hoverinfo": "text",
         "line": {
          "color": "magenta"
         },
         "mode": "lines",
         "name": "window (ID: 4)",
         "text": [
          "ID: 4",
          "ID: 4",
          "ID: 4",
          "ID: 4",
          "ID: 4"
         ],
         "type": "scatter3d",
         "x": {
          "bdata": "XI/C9Sh8Q8Bcj8L1KHxDwHNoke18D0DAc2iR7XwPQMBcj8L1KHxDwA==",
          "dtype": "f8"
         },
         "y": {
          "bdata": "iUFg5dDiPUCJQWDl0OI9QCcxCKwc+j1AJzEIrBz6PUCJQWDl0OI9QA==",
          "dtype": "f8"
         },
         "z": {
          "bdata": "+n5qvHQTEkDZzvdT46UXQNnO91PjpRdA+n5qvHQTEkD6fmq8dBMSQA==",
          "dtype": "f8"
         }
        },
        {
         "hoverinfo": "text",
         "line": {
          "color": "gray"
         },
         "mode": "lines",
         "name": "door (ID: 8)",
         "text": [
          "ID: 8",
          "ID: 8",
          "ID: 8",
          "ID: 8",
          "ID: 8"
         ],
         "type": "scatter3d",
         "x": {
          "bdata": "46WbxCCwQMDjpZvEILBAwBBYObTIFkHAEFg5tMgWQcDjpZvEILBAwA==",
          "dtype": "f8"
         },
         "y": {
          "bdata": "g8DKoUV2NkCDwMqhRXY2QDMzMzMzczZAMzMzMzNzNkCDwMqhRXY2QA==",
          "dtype": "f8"
         },
         "z": {
          "bdata": "XrpJDAIrDkB3vp8aL10XQHe+nxovXRdAXrpJDAIrDkBeukkMAisOQA==",
          "dtype": "f8"
         }
        },
        {
         "hoverinfo": "text",
         "line": {
          "color": "red"
         },
         "mode": "lines",
         "name": "partly_wall (ID: 12)",
         "text": [
          "ID: 12",
          "ID: 12",
          "ID: 12",
          "ID: 12",
          "ID: 12"
         ],
         "type": "scatter3d",
         "x": {
          "bdata": "rBxaZDuPQ8BvEoPAyoFDwG8Sg8DKgUPArBxaZDuPQ8CsHFpkO49DwA==",
          "dtype": "f8"
         },
         "y": {
          "bdata": "/Knx0k3iPUCoxks3iWE2QKjGSzeJYTZA/Knx0k3iPUD8qfHSTeI9QA==",
          "dtype": "f8"
         },
         "z": {
          "bdata": "VOOlm8SgGkBU46WbxKAaQNEi2/l+aghA0SLb+X5qCEBU46WbxKAaQA==",
          "dtype": "f8"
         }
        },
        {
         "hoverinfo": "text",
         "line": {
          "color": "red"
         },
         "mode": "lines",
         "name": "partly_wall (ID: 13)",
         "text": [
          "ID: 13",
          "ID: 13",
          "ID: 13",
          "ID: 13",
          "ID: 13"
         ],
         "type": "scatter3d",
         "x": {
          "bdata": "bxKDwMqBQ8ApXI/C9RhHwClcj8L1GEfAbxKDwMqBQ8BvEoPAyoFDwA==",
          "dtype": "f8"
         },
         "y": {
          "bdata": "qMZLN4lhNkC6SQwCK0c2QLpJDAIrRzZAqMZLN4lhNkCoxks3iWE2QA==",
          "dtype": "f8"
         },
         "z": {
          "bdata": "VOOlm8SgGkBU46WbxKAaQNEi2/l+aghA0SLb+X5qCEBU46WbxKAaQA==",
          "dtype": "f8"
         }
        },
        {
         "hoverinfo": "text",
         "line": {
          "color": "orange"
         },
         "mode": "lines",
         "name": "partly_wall_with_hole (ID: 13)",
         "text": [
          "ID: 13",
          "ID: 13",
          "ID: 13",
          "ID: 13",
          "ID: 13"
         ],
         "type": "scatter3d",
         "x": {
          "bdata": "KVyPwvUYR8ApXI/C9RhHwG8Sg8DKgUPAbxKDwMqBQ8ApXI/C9RhHwA==",
          "dtype": "f8"
         },
         "y": {
          "bdata": "uUkMAitHNkC5SQwCK0c2QKfGSzeJYTZAp8ZLN4lhNkC5SQwCK0c2QA==",
          "dtype": "f8"
         },
         "z": {
          "bdata": "VOOlm8SgGkDRItv5fmoIQNEi2/l+aghAVOOlm8SgGkBU46WbxKAaQA==",
          "dtype": "f8"
         }
        },
        {
         "hoverinfo": "text",
         "line": {
          "color": "orange"
         },
         "mode": "lines",
         "name": "partly_wall_with_hole (ID: 13)",
         "text": [
          "ID: 13",
          "ID: 13",
          "ID: 13",
          "ID: 13",
          "ID: 13"
         ],
         "type": "scatter3d",
         "x": {
          "bdata": "ayd32Gq8RMBrJ3fYarxEwDvROW+up0PAO9E5b66nQ8BrJ3fYarxEwA==",
          "dtype": "f8"
         },
         "y": {
          "bdata": "PHSmqYJYNkA8dKapglg2QCkFifZyYDZAKQWJ9nJgNkA8dKapglg2QA==",
          "dtype": "f8"
         },
         "z": {
          "bdata": "PzVeukmMF0BiEFg5tMgNQGIQWDm0yA1APzVeukmMF0A/NV66SYwXQA==",
          "dtype": "f8"
         }
        },
        {
         "hoverinfo": "text",
         "line": {
          "color": "red"
         },
         "mode": "lines",
         "name": "partly_wall (ID: 15)",
         "text": [
          "ID: 15",
          "ID: 15",
          "ID: 15",
          "ID: 15",
          "ID: 15"
         ],
         "type": "scatter3d",
         "x": {
          "bdata": "KVyPwvUYR8Cmm8QgsDJHwKabxCCwMkfAKVyPwvUYR8ApXI/C9RhHwA==",
          "dtype": "f8"
         },
         "y": {
          "bdata": "ukkMAitHNkB9PzVeusk9QH0/NV66yT1AukkMAitHNkC6SQwCK0c2QA==",
          "dtype": "f8"
         },
         "z": {
          "bdata": "VOOlm8SgGkBU46WbxKAaQNEi2/l+aghA0SLb+X5qCEBU46WbxKAaQA==",
          "dtype": "f8"
         }
        },
        {
         "hoverinfo": "text",
         "line": {
          "color": "blue"
         },
         "mode": "lines",
         "name": "external (ID: 16)",
         "text": [
          "ID: 16",
          "ID: 16",
          "ID: 16",
          "ID: 16",
          "ID: 16"
         ],
         "type": "scatter3d",
         "x": {
          "bdata": "ppvEILAyR8CsHFpkO49DwKwcWmQ7j0PAppvEILAyR8Cmm8QgsDJHwA==",
          "dtype": "f8"
         },
         "y": {
          "bdata": "fT81XrrJPUD8qfHSTeI9QPyp8dJN4j1AfT81XrrJPUB9PzVeusk9QA==",
          "dtype": "f8"
         },
         "z": {
          "bdata": "VOOlm8SgGkBU46WbxKAaQNEi2/l+aghA0SLb+X5qCEBU46WbxKAaQA==",
          "dtype": "f8"
         }
        },
        {
         "hoverinfo": "text",
         "line": {
          "color": "green"
         },
         "mode": "lines",
         "name": "external_with_hole (ID: 16)",
         "text": [
          "ID: 16",
          "ID: 16",
          "ID: 16",
          "ID: 16",
          "ID: 16"
         ],
         "type": "scatter3d",
         "x": {
          "bdata": "rBxaZDuPQ8CsHFpkO49DwKabxCCwMkfAppvEILAyR8CsHFpkO49DwA==",
          "dtype": "f8"
         },
         "y": {
          "bdata": "/Knx0k3iPUD8qfHSTeI9QH0/NV66yT1AfT81XrrJPUD8qfHSTeI9QA==",
          "dtype": "f8"
         },
         "z": {
          "bdata": "VOOlm8SgGkDRItv5fmoIQNEi2/l+aghAVOOlm8SgGkBU46WbxKAaQA==",
          "dtype": "f8"
         }
        },
        {
         "hoverinfo": "text",
         "line": {
          "color": "green"
         },
         "mode": "lines",
         "name": "external_with_hole (ID: 16)",
         "text": [
          "ID: 16",
          "ID: 16",
          "ID: 16",
          "ID: 16",
          "ID: 16"
         ],
         "type": "scatter3d",
         "x": {
          "bdata": "NOe4P8arQ8B6E97Y1BhHwHoT3tjUGEfANOe4P8arQ8A057g/xqtDwA==",
          "dtype": "f8"
         },
         "y": {
          "bdata": "fApHCY3hPUBDX7ADaco9QENfsANpyj1AfApHCY3hPUB8CkcJjeE9QA==",
          "dtype": "f8"
         },
         "z": {
          "bdata": "x0s3iUFgEkDHSzeJQWASQGiR7Xw/NRdAaJHtfD81F0DHSzeJQWASQA==",
          "dtype": "f8"
         }
        },
        {
         "hoverinfo": "text",
         "line": {
          "color": "gray"
         },
         "mode": "lines",
         "name": "door (ID: 14)",
         "text": [
          "ID: 14",
          "ID: 14",
          "ID: 14",
          "ID: 14",
          "ID: 14"
         ],
         "type": "scatter3d",
         "x": {
          "bdata": "I9v5fmq8RMBI4XoUrqdDwEjhehSup0PAI9v5fmq8RMAj2/l+arxEwA==",
          "dtype": "f8"
         },
         "y": {
          "bdata": "uB6F61FYNkDHSzeJQWA2QMdLN4lBYDZAuB6F61FYNkC4HoXrUVg2QA==",
          "dtype": "f8"
         },
         "z": {
          "bdata": "YhBYObTIDUBiEFg5tMgNQD81XrpJjBdAPzVeukmMF0BiEFg5tMgNQA==",
          "dtype": "f8"
         }
        },
        {
         "hoverinfo": "text",
         "line": {
          "color": "magenta"
         },
         "mode": "lines",
         "name": "window (ID: 17)",
         "text": [
          "ID: 17",
          "ID: 17",
          "ID: 17",
          "ID: 17",
          "ID: 17"
         ],
         "type": "scatter3d",
         "x": {
          "bdata": "Rrbz/dQYR8BGtvP91BhHwLKd76fGq0PAsp3vp8arQ8BGtvP91BhHwA==",
          "dtype": "f8"
         },
         "y": {
          "bdata": "0SLb+X7KPUDRItv5fso9QG8Sg8DK4T1AbxKDwMrhPUDRItv5fso9QA==",
          "dtype": "f8"
         },
         "z": {
          "bdata": "x0s3iUFgEkBoke18PzUXQGiR7Xw/NRdAx0s3iUFgEkDHSzeJQWASQA==",
          "dtype": "f8"
         }
        },
        {
         "hoverinfo": "text",
         "line": {
          "color": "red"
         },
         "mode": "lines",
         "name": "partly_wall (ID: 21)",
         "text": [
          "ID: 21",
          "ID: 21",
          "ID: 21",
          "ID: 21",
          "ID: 21"
         ],
         "type": "scatter3d",
         "x": {
          "bdata": "KVyPwvUYR8BvEoPAyoFDwG8Sg8DKgUPAKVyPwvUYR8ApXI/C9RhHwA==",
          "dtype": "f8"
         },
         "y": {
          "bdata": "ukkMAitHNkCoxks3iWE2QKjGSzeJYTZAukkMAitHNkC6SQwCK0c2QA==",
          "dtype": "f8"
         },
         "z": {
          "bdata": "VOOlm8SgGkBU46WbxKAaQNEi2/l+aghA0SLb+X5qCEBU46WbxKAaQA==",
          "dtype": "f8"
         }
        },
        {
         "hoverinfo": "text",
         "line": {
          "color": "orange"
         },
         "mode": "lines",
         "name": "partly_wall_with_hole (ID: 21)",
         "text": [
          "ID: 21",
          "ID: 21",
          "ID: 21",
          "ID: 21",
          "ID: 21"
         ],
         "type": "scatter3d",
         "x": {
          "bdata": "bxKDwMqBQ8BvEoPAyoFDwClcj8L1GEfAKVyPwvUYR8BvEoPAyoFDwA==",
          "dtype": "f8"
         },
         "y": {
          "bdata": "qMZLN4lhNkCoxks3iWE2QLpJDAIrRzZAukkMAitHNkCoxks3iWE2QA==",
          "dtype": "f8"
         },
         "z": {
          "bdata": "VOOlm8SgGkDRItv5fmoIQNEi2/l+aghAVOOlm8SgGkBU46WbxKAaQA==",
          "dtype": "f8"
         }
        },
        {
         "hoverinfo": "text",
         "line": {
          "color": "orange"
         },
         "mode": "lines",
         "name": "partly_wall_with_hole (ID: 21)",
         "text": [
          "ID: 21",
          "ID: 21",
          "ID: 21",
          "ID: 21",
          "ID: 21"
         ],
         "type": "scatter3d",
         "x": {
          "bdata": "O9E5b66nQ8BrJ3fYarxEwGsnd9hqvETAO9E5b66nQ8A70TlvrqdDwA==",
          "dtype": "f8"
         },
         "y": {
          "bdata": "KwWJ9nJgNkA9dKapglg2QD10pqmCWDZAKwWJ9nJgNkArBYn2cmA2QA==",
          "dtype": "f8"
         },
         "z": {
          "bdata": "YhBYObTIDUBiEFg5tMgNQD81XrpJjBdAPzVeukmMF0BiEFg5tMgNQA==",
          "dtype": "f8"
         }
        },
        {
         "hoverinfo": "text",
         "line": {
          "color": "red"
         },
         "mode": "lines",
         "name": "partly_wall (ID: 23)",
         "text": [
          "ID: 23",
          "ID: 23",
          "ID: 23",
          "ID: 23",
          "ID: 23"
         ],
         "type": "scatter3d",
         "x": {
          "bdata": "bxKDwMqBQ8CNl24Sg4A/wI2XbhKDgD/AbxKDwMqBQ8BvEoPAyoFDwA==",
          "dtype": "f8"
         },
         "y": {
          "bdata": "qMZLN4lhNkCwcmiR7Xw2QLByaJHtfDZAqMZLN4lhNkCoxks3iWE2QA==",
          "dtype": "f8"
         },
         "z": {
          "bdata": "VOOlm8SgGkBU46WbxKAaQNEi2/l+aghA0SLb+X5qCEBU46WbxKAaQA==",
          "dtype": "f8"
         }
        },
        {
         "hoverinfo": "text",
         "line": {
          "color": "orange"
         },
         "mode": "lines",
         "name": "partly_wall_with_hole (ID: 23)",
         "text": [
          "ID: 23",
          "ID: 23",
          "ID: 23",
          "ID: 23",
          "ID: 23"
         ],
         "type": "scatter3d",
         "x": {
          "bdata": "jZduEoOAP8CNl24Sg4A/wG8Sg8DKgUPAbxKDwMqBQ8CNl24Sg4A/wA==",
          "dtype": "f8"
         },
         "y": {
          "bdata": "sHJoke18NkCwcmiR7Xw2QKjGSzeJYTZAqMZLN4lhNkCwcmiR7Xw2QA==",
          "dtype": "f8"
         },
         "z": {
          "bdata": "VOOlm8SgGkDRItv5fmoIQNEi2/l+aghAVOOlm8SgGkBU46WbxKAaQA==",
          "dtype": "f8"
         }
        },
        {
         "hoverinfo": "text",
         "line": {
          "color": "orange"
         },
         "mode": "lines",
         "name": "partly_wall_with_hole (ID: 23)",
         "text": [
          "ID: 23",
          "ID: 23",
          "ID: 23",
          "ID: 23",
          "ID: 23"
         ],
         "type": "scatter3d",
         "x": {
          "bdata": "v1/RcSCwQMC/X9FxILBAwPkJS6bIFkHA+QlLpsgWQcC/X9FxILBAwA==",
          "dtype": "f8"
         },
         "y": {
          "bdata": "2P0gORh2NkDY/SA5GHY2QCf6JY8rczZAJ/oljytzNkDY/SA5GHY2QA==",
          "dtype": "f8"
         },
         "z": {
          "bdata": "d76fGi9dF0BeukkMAisOQF66SQwCKw5Ad76fGi9dF0B3vp8aL10XQA==",
          "dtype": "f8"
         }
        },
        {
         "hoverinfo": "text",
         "line": {
          "color": "blue"
         },
         "mode": "lines",
         "name": "external (ID: 25)",
         "text": [
          "ID: 25",
          "ID: 25",
          "ID: 25",
          "ID: 25",
          "ID: 25"
         ],
         "type": "scatter3d",
         "x": {
          "bdata": "jZduEoOAP8CNl24Sg4A/wJqZmZmZuT/AmpmZmZm5P8CNl24Sg4A/wA==",
          "dtype": "f8"
         },
         "y": {
          "bdata": "sHJoke18NkCwcmiR7Xw2QClcj8L1KDRAKVyPwvUoNECwcmiR7Xw2QA==",
          "dtype": "f8"
         },
         "z": {
          "bdata": "0SLb+X5qCEBU46WbxKAaQFTjpZvEoBpA0SLb+X5qCEDRItv5fmoIQA==",
          "dtype": "f8"
         }
        },
        {
         "hoverinfo": "text",
         "line": {
          "color": "red"
         },
         "mode": "lines",
         "name": "partly_wall (ID: 26)",
         "text": [
          "ID: 26",
          "ID: 26",
          "ID: 26",
          "ID: 26",
          "ID: 26"
         ],
         "type": "scatter3d",
         "x": {
          "bdata": "mpmZmZm5P8DXo3A9CtdAwNejcD0K10DAmpmZmZm5P8CamZmZmbk/wA==",
          "dtype": "f8"
         },
         "y": {
          "bdata": "KVyPwvUoNEAbL90kBiE0QBsv3SQGITRAKVyPwvUoNEApXI/C9Sg0QA==",
          "dtype": "f8"
         },
         "z": {
          "bdata": "VOOlm8SgGkBU46WbxKAaQNEi2/l+aghA0SLb+X5qCEBU46WbxKAaQA==",
          "dtype": "f8"
         }
        },
        {
         "hoverinfo": "text",
         "line": {
          "color": "orange"
         },
         "mode": "lines",
         "name": "partly_wall_with_hole (ID: 26)",
         "text": [
          "ID: 26",
          "ID: 26",
          "ID: 26",
          "ID: 26",
          "ID: 26"
         ],
         "type": "scatter3d",
         "x": {
          "bdata": "16NwPQrXQMCamZmZmbk/wJqZmZmZuT/A16NwPQrXQMDXo3A9CtdAwA==",
          "dtype": "f8"
         },
         "y": {
          "bdata": "Gy/dJAYhNEApXI/C9Sg0QClcj8L1KDRAGy/dJAYhNEAbL90kBiE0QA==",
          "dtype": "f8"
         },
         "z": {
          "bdata": "VOOlm8SgGkBU46WbxKAaQNEi2/l+aghA0SLb+X5qCEBU46WbxKAaQA==",
          "dtype": "f8"
         }
        },
        {
         "hoverinfo": "text",
         "line": {
          "color": "orange"
         },
         "mode": "lines",
         "name": "partly_wall_with_hole (ID: 26)",
         "text": [
          "ID: 26",
          "ID: 26",
          "ID: 26",
          "ID: 26",
          "ID: 26"
         ],
         "type": "scatter3d",
         "x": {
          "bdata": "H+pIxx5lQMAf6kjHHmVAwBVVOSQO7T/AFVU5JA7tP8Af6kjHHmVAwA==",
          "dtype": "f8"
         },
         "y": {
          "bdata": "JPZiBaMkNEAk9mIFoyQ0QKj9zOIkKDRAqP3M4iQoNEAk9mIFoyQ0QA==",
          "dtype": "f8"
         },
         "z": {
          "bdata": "2c73U+OlCECYbhKDwEoXQJhuEoPAShdA2c73U+OlCEDZzvdT46UIQA==",
          "dtype": "f8"
         }
        },
        {
         "hoverinfo": "text",
         "line": {
          "color": "red"
         },
         "mode": "lines",
         "name": "partly_wall (ID: 28)",
         "text": [
          "ID: 28",
          "ID: 28",
          "ID: 28",
          "ID: 28",
          "ID: 28"
         ],
         "type": "scatter3d",
         "x": {
          "bdata": "16NwPQrXQMDXo3A9CtdAwMdLN4lBkEHAx0s3iUGQQcDXo3A9CtdAwA==",
          "dtype": "f8"
         },
         "y": {
          "bdata": "Gy/dJAYhNEAbL90kBiE0QEJg5dAiGzRAQmDl0CIbNEAbL90kBiE0QA==",
          "dtype": "f8"
         },
         "z": {
          "bdata": "0SLb+X5qCEBU46WbxKAaQFTjpZvEoBpA0SLb+X5qCEDRItv5fmoIQA==",
          "dtype": "f8"
         }
        },
        {
         "hoverinfo": "text",
         "line": {
          "color": "red"
         },
         "mode": "lines",
         "name": "partly_wall (ID: 29)",
         "text": [
          "ID: 29",
          "ID: 29",
          "ID: 29",
          "ID: 29",
          "ID: 29"
         ],
         "type": "scatter3d",
         "x": {
          "bdata": "x0s3iUGQQcDHSzeJQZBBwKwcWmQ7f0LArBxaZDt/QsDHSzeJQZBBwA==",
          "dtype": "f8"
         },
         "y": {
          "bdata": "QmDl0CIbNEBCYOXQIhs0QPp+arx0EzRA+n5qvHQTNEBCYOXQIhs0QA==",
          "dtype": "f8"
         },
         "z": {
          "bdata": "0SLb+X5qCEBU46WbxKAaQFTjpZvEoBpA0SLb+X5qCEDRItv5fmoIQA==",
          "dtype": "f8"
         }
        },
        {
         "hoverinfo": "text",
         "line": {
          "color": "red"
         },
         "mode": "lines",
         "name": "partly_wall (ID: 30)",
         "text": [
          "ID: 30",
          "ID: 30",
          "ID: 30",
          "ID: 30",
          "ID: 30"
         ],
         "type": "scatter3d",
         "x": {
          "bdata": "rBxaZDt/QsCsHFpkO39CwNEi2/l+ekLA0SLb+X56QsCsHFpkO39CwA==",
          "dtype": "f8"
         },
         "y": {
          "bdata": "+n5qvHQTNED6fmq8dBM0QL6fGi/dpDBAvp8aL92kMED6fmq8dBM0QA==",
          "dtype": "f8"
         },
         "z": {
          "bdata": "0SLb+X5qCEBU46WbxKAaQFTjpZvEoBpA0SLb+X5qCEDRItv5fmoIQA==",
          "dtype": "f8"
         }
        },
        {
         "hoverinfo": "text",
         "line": {
          "color": "red"
         },
         "mode": "lines",
         "name": "partly_wall (ID: 31)",
         "text": [
          "ID: 31",
          "ID: 31",
          "ID: 31",
          "ID: 31",
          "ID: 31"
         ],
         "type": "scatter3d",
         "x": {
          "bdata": "0SLb+X56QsDRItv5fnpCwAisHFpky0HACKwcWmTLQcDRItv5fnpCwA==",
          "dtype": "f8"
         },
         "y": {
          "bdata": "vp8aL92kMEC+nxov3aQwQESLbOf7qTBARIts5/upMEC+nxov3aQwQA==",
          "dtype": "f8"
         },
         "z": {
          "bdata": "0SLb+X5qCEBU46WbxKAaQFTjpZvEoBpA0SLb+X5qCEDRItv5fmoIQA==",
          "dtype": "f8"
         }
        },
        {
         "hoverinfo": "text",
         "line": {
          "color": "red"
         },
         "mode": "lines",
         "name": "partly_wall (ID: 32)",
         "text": [
          "ID: 32",
          "ID: 32",
          "ID: 32",
          "ID: 32",
          "ID: 32"
         ],
         "type": "scatter3d",
         "x": {
          "bdata": "CKwcWmTLQcAIrBxaZMtBwOXQItv5zkDA5dAi2/nOQMAIrBxaZMtBwA==",
          "dtype": "f8"
         },
         "y": {
          "bdata": "RIts5/upMEBEi2zn+6kwQP7UeOkmsTBA/tR46SaxMEBEi2zn+6kwQA==",
          "dtype": "f8"
         },
         "z": {
          "bdata": "0SLb+X5qCEBU46WbxKAaQFTjpZvEoBpA0SLb+X5qCEDRItv5fmoIQA==",
          "dtype": "f8"
         }
        },
        {
         "hoverinfo": "text",
         "line": {
          "color": "red"
         },
         "mode": "lines",
         "name": "partly_wall (ID: 33)",
         "text": [
          "ID: 33",
          "ID: 33",
          "ID: 33",
          "ID: 33",
          "ID: 33"
         ],
         "type": "scatter3d",
         "x": {
          "bdata": "5dAi2/nOQMDl0CLb+c5AwFYOLbKdrz/AVg4tsp2vP8Dl0CLb+c5AwA==",
          "dtype": "f8"
         },
         "y": {
          "bdata": "/tR46SaxMED+1HjpJrEwQLgehetRuDBAuB6F61G4MED+1HjpJrEwQA==",
          "dtype": "f8"
         },
         "z": {
          "bdata": "0SLb+X5qCEBU46WbxKAaQFTjpZvEoBpA0SLb+X5qCEDRItv5fmoIQA==",
          "dtype": "f8"
         }
        },
        {
         "hoverinfo": "text",
         "line": {
          "color": "blue"
         },
         "mode": "lines",
         "name": "external (ID: 34)",
         "text": [
          "ID: 34",
          "ID: 34",
          "ID: 34",
          "ID: 34",
          "ID: 34"
         ],
         "type": "scatter3d",
         "x": {
          "bdata": "Vg4tsp2vP8BWDi2yna8/wCUGgZVDaz/AJQaBlUNrP8BWDi2yna8/wA==",
          "dtype": "f8"
         },
         "y": {
          "bdata": "uB6F61G4MEC4HoXrUbgwQB+F61G43ixAH4XrUbjeLEC4HoXrUbgwQA==",
          "dtype": "f8"
         },
         "z": {
          "bdata": "0SLb+X5qCEBU46WbxKAaQFTjpZvEoBpA0SLb+X5qCEDRItv5fmoIQA==",
          "dtype": "f8"
         }
        },
        {
         "hoverinfo": "text",
         "line": {
          "color": "red"
         },
         "mode": "lines",
         "name": "partly_wall (ID: 35)",
         "text": [
          "ID: 35",
          "ID: 35",
          "ID: 35",
          "ID: 35",
          "ID: 35"
         ],
         "type": "scatter3d",
         "x": {
          "bdata": "JQaBlUNrP8C8dJMYBHZDwLx0kxgEdkPAJQaBlUNrP8AlBoGVQ2s/wA==",
          "dtype": "f8"
         },
         "y": {
          "bdata": "H4XrUbjeLEBkO99PjZcsQGQ730+NlyxAH4XrUbjeLEAfhetRuN4sQA==",
          "dtype": "f8"
         },
         "z": {
          "bdata": "VOOlm8SgGkBU46WbxKAaQNEi2/l+aghA0SLb+X5qCEBU46WbxKAaQA==",
          "dtype": "f8"
         }
        },
        {
         "hoverinfo": "text",
         "line": {
          "color": "orange"
         },
         "mode": "lines",
         "name": "partly_wall_with_hole (ID: 35)",
         "text": [
          "ID: 35",
          "ID: 35",
          "ID: 35",
          "ID: 35",
          "ID: 35"
         ],
         "type": "scatter3d",
         "x": {
          "bdata": "vHSTGAR2Q8C8dJMYBHZDwCUGgZVDaz/AJQaBlUNrP8C8dJMYBHZDwA==",
          "dtype": "f8"
         },
         "y": {
          "bdata": "ZTvfT42XLEBlO99PjZcsQCCF61G43ixAIIXrUbjeLEBlO99PjZcsQA==",
          "dtype": "f8"
         },
         "z": {
          "bdata": "VOOlm8SgGkDRItv5fmoIQNEi2/l+aghAVOOlm8SgGkBU46WbxKAaQA==",
          "dtype": "f8"
         }
        },
        {
         "hoverinfo": "text",
         "line": {
          "color": "orange"
         },
         "mode": "lines",
         "name": "partly_wall_with_hole (ID: 35)",
         "text": [
          "ID: 35",
          "ID: 35",
          "ID: 35",
          "ID: 35",
          "ID: 35"
         ],
         "type": "scatter3d",
         "x": {
          "bdata": "vac/VLrJQsApzlkfh0ZCwCnOWR+HRkLAvac/VLrJQsC9pz9UuslCwA==",
          "dtype": "f8"
         },
         "y": {
          "bdata": "oBlQtlGkLECdfe6lCq4sQJ197qUKrixAoBlQtlGkLECgGVC2UaQsQA==",
          "dtype": "f8"
         },
         "z": {
          "bdata": "bef7qfHSDUBt5/up8dINQGZmZmZmZhdAZmZmZmZmF0Bt5/up8dINQA==",
          "dtype": "f8"
         }
        },
        {
         "hoverinfo": "text",
         "line": {
          "color": "red"
         },
         "mode": "lines",
         "name": "partly_wall (ID: 37)",
         "text": [
          "ID: 37",
          "ID: 37",
          "ID: 37",
          "ID: 37",
          "ID: 37"
         ],
         "type": "scatter3d",
         "x": {
          "bdata": "vHSTGAR2Q8Bt5/up8RJHwG3n+6nxEkfAvHSTGAR2Q8C8dJMYBHZDwA==",
          "dtype": "f8"
         },
         "y": {
          "bdata": "ZDvfT42XLEBt5/up8VIsQG3n+6nxUixAZDvfT42XLEBkO99PjZcsQA==",
          "dtype": "f8"
         },
         "z": {
          "bdata": "VOOlm8SgGkBU46WbxKAaQNEi2/l+aghA0SLb+X5qCEBU46WbxKAaQA==",
          "dtype": "f8"
         }
        },
        {
         "hoverinfo": "text",
         "line": {
          "color": "orange"
         },
         "mode": "lines",
         "name": "partly_wall_with_hole (ID: 37)",
         "text": [
          "ID: 37",
          "ID: 37",
          "ID: 37",
          "ID: 37",
          "ID: 37"
         ],
         "type": "scatter3d",
         "x": {
          "bdata": "bef7qfESR8C8dJMYBHZDwLx0kxgEdkPAbef7qfESR8Bt5/up8RJHwA==",
          "dtype": "f8"
         },
         "y": {
          "bdata": "bef7qfFSLEBkO99PjZcsQGQ730+NlyxAbef7qfFSLEBt5/up8VIsQA==",
          "dtype": "f8"
         },
         "z": {
          "bdata": "VOOlm8SgGkBU46WbxKAaQNEi2/l+aghA0SLb+X5qCEBU46WbxKAaQA==",
          "dtype": "f8"
         }
        },
        {
         "hoverinfo": "text",
         "line": {
          "color": "orange"
         },
         "mode": "lines",
         "name": "partly_wall_with_hole (ID: 37)",
         "text": [
          "ID: 37",
          "ID: 37",
          "ID: 37",
          "ID: 37",
          "ID: 37"
         ],
         "type": "scatter3d",
         "x": {
          "bdata": "OhBYgun2RsA6EFiC6fZGwG/Dsbv/P0bAb8Oxu/8/RsA6EFiC6fZGwA==",
          "dtype": "f8"
         },
         "y": {
          "bdata": "zM129wVVLEDMzXb3BVUsQNzswFeXYixA3OzAV5diLEDMzXb3BVUsQA==",
          "dtype": "f8"
         },
         "z": {
          "bdata": "uB6F61G4DUAOLbKd76cYQA4tsp3vpxhAuB6F61G4DUC4HoXrUbgNQA==",
          "dtype": "f8"
         }
        },
        {
         "hoverinfo": "text",
         "line": {
          "color": "red"
         },
         "mode": "lines",
         "name": "partly_wall (ID: 39)",
         "text": [
          "ID: 39",
          "ID: 39",
          "ID: 39",
          "ID: 39",
          "ID: 39"
         ],
         "type": "scatter3d",
         "x": {
          "bdata": "bef7qfESR8Bt5/up8RJHwAaBlUOL3ErABoGVQ4vcSsBt5/up8RJHwA==",
          "dtype": "f8"
         },
         "y": {
          "bdata": "bef7qfFSLEBt5/up8VIsQCUGgZVDCyxAJQaBlUMLLEBt5/up8VIsQA==",
          "dtype": "f8"
         },
         "z": {
          "bdata": "0SLb+X5qCEBU46WbxKAaQFTjpZvEoBpA0SLb+X5qCEDRItv5fmoIQA==",
          "dtype": "f8"
         }
        },
        {
         "hoverinfo": "text",
         "line": {
          "color": "red"
         },
         "mode": "lines",
         "name": "partly_wall (ID: 40)",
         "text": [
          "ID: 40",
          "ID: 40",
          "ID: 40",
          "ID: 40",
          "ID: 40"
         ],
         "type": "scatter3d",
         "x": {
          "bdata": "BoGVQ4vcSsAGgZVDi9xKwM/3U+Ol20rAz/dT46XbSsAGgZVDi9xKwA==",
          "dtype": "f8"
         },
         "y": {
          "bdata": "JQaBlUMLLEAlBoGVQwssQFYOLbKdLytAVg4tsp0vK0AlBoGVQwssQA==",
          "dtype": "f8"
         },
         "z": {
          "bdata": "0SLb+X5qCEBU46WbxKAaQFTjpZvEoBpA0SLb+X5qCEDRItv5fmoIQA==",
          "dtype": "f8"
         }
        },
        {
         "hoverinfo": "text",
         "line": {
          "color": "blue"
         },
         "mode": "lines",
         "name": "external (ID: 41)",
         "text": [
          "ID: 41",
          "ID: 41",
          "ID: 41",
          "ID: 41",
          "ID: 41"
         ],
         "type": "scatter3d",
         "x": {
          "bdata": "z/dT46XbSsDwp8ZLN8lLwPCnxks3yUvAz/dT46XbSsDP91PjpdtKwA==",
          "dtype": "f8"
         },
         "y": {
          "bdata": "Vg4tsp0vK0Dl0CLb+f4qQOXQItv5/ipAVg4tsp0vK0BWDi2ynS8rQA==",
          "dtype": "f8"
         },
         "z": {
          "bdata": "VOOlm8SgGkBU46WbxKAaQNEi2/l+aghA0SLb+X5qCEBU46WbxKAaQA==",
          "dtype": "f8"
         }
        },
        {
         "hoverinfo": "text",
         "line": {
          "color": "green"
         },
         "mode": "lines",
         "name": "external_with_hole (ID: 41)",
         "text": [
          "ID: 41",
          "ID: 41",
          "ID: 41",
          "ID: 41",
          "ID: 41"
         ],
         "type": "scatter3d",
         "x": {
          "bdata": "8KfGSzfJS8Dwp8ZLN8lLwM/3U+Ol20rAz/dT46XbSsDwp8ZLN8lLwA==",
          "dtype": "f8"
         },
         "y": {
          "bdata": "5NAi2/n+KkDk0CLb+f4qQFUOLbKdLytAVQ4tsp0vK0Dk0CLb+f4qQA==",
          "dtype": "f8"
         },
         "z": {
          "bdata": "VOOlm8SgGkDRItv5fmoIQNEi2/l+aghAVOOlm8SgGkBU46WbxKAaQA==",
          "dtype": "f8"
         }
        },
        {
         "hoverinfo": "text",
         "line": {
          "color": "green"
         },
         "mode": "lines",
         "name": "external_with_hole (ID: 41)",
         "text": [
          "ID: 41",
          "ID: 41",
          "ID: 41",
          "ID: 41",
          "ID: 41"
         ],
         "type": "scatter3d",
         "x": {
          "bdata": "hS+pFk2iS8BuILUWj/JKwG4gtRaP8krAhS+pFk2iS8CFL6kWTaJLwA==",
          "dtype": "f8"
         },
         "y": {
          "bdata": "EL83iPEGK0D7isLY7CorQPuKwtjsKitAEL83iPEGK0AQvzeI8QYrQA==",
          "dtype": "f8"
         },
         "z": {
          "bdata": "LbKd76fGDUAtsp3vp8YNQB+F61G4HhhAH4XrUbgeGEAtsp3vp8YNQA==",
          "dtype": "f8"
         }
        },
        {
         "hoverinfo": "text",
         "line": {
          "color": "red"
         },
         "mode": "lines",
         "name": "partly_wall (ID: 43)",
         "text": [
          "ID: 43",
          "ID: 43",
          "ID: 43",
          "ID: 43",
          "ID: 43"
         ],
         "type": "scatter3d",
         "x": {
          "bdata": "8KfGSzfJS8AbL90kBtFLwBsv3SQG0UvA8KfGSzfJS8Dwp8ZLN8lLwA==",
          "dtype": "f8"
         },
         "y": {
          "bdata": "5dAi2/n+KkASg8DKoWUwQBKDwMqhZTBA5dAi2/n+KkDl0CLb+f4qQA==",
          "dtype": "f8"
         },
         "z": {
          "bdata": "VOOlm8SgGkBU46WbxKAaQNEi2/l+aghA0SLb+X5qCEBU46WbxKAaQA==",
          "dtype": "f8"
         }
        },
        {
         "hoverinfo": "text",
         "line": {
          "color": "red"
         },
         "mode": "lines",
         "name": "partly_wall (ID: 44)",
         "text": [
          "ID: 44",
          "ID: 44",
          "ID: 44",
          "ID: 44",
          "ID: 44"
         ],
         "type": "scatter3d",
         "x": {
          "bdata": "Gy/dJAbRS8AbL90kBtFLwBBYObTItkrAEFg5tMi2SsAbL90kBtFLwA==",
          "dtype": "f8"
         },
         "y": {
          "bdata": "EoPAyqFlMEASg8DKoWUwQJMYBFYObTBAkxgEVg5tMEASg8DKoWUwQA==",
          "dtype": "f8"
         },
         "z": {
          "bdata": "0SLb+X5qCEBU46WbxKAaQFTjpZvEoBpA0SLb+X5qCEDRItv5fmoIQA==",
          "dtype": "f8"
         }
        },
        {
         "hoverinfo": "text",
         "line": {
          "color": "red"
         },
         "mode": "lines",
         "name": "partly_wall (ID: 45)",
         "text": [
          "ID: 45",
          "ID: 45",
          "ID: 45",
          "ID: 45",
          "ID: 45"
         ],
         "type": "scatter3d",
         "x": {
          "bdata": "EFg5tMi2SsAQWDm0yLZKwPyp8dJNwknA/Knx0k3CScAQWDm0yLZKwA==",
          "dtype": "f8"
         },
         "y": {
          "bdata": "kxgEVg5tMECTGARWDm0wQPp+arx0czBA+n5qvHRzMECTGARWDm0wQA==",
          "dtype": "f8"
         },
         "z": {
          "bdata": "0SLb+X5qCEBU46WbxKAaQFTjpZvEoBpA0SLb+X5qCEDRItv5fmoIQA==",
          "dtype": "f8"
         }
        },
        {
         "hoverinfo": "text",
         "line": {
          "color": "red"
         },
         "mode": "lines",
         "name": "partly_wall (ID: 46)",
         "text": [
          "ID: 46",
          "ID: 46",
          "ID: 46",
          "ID: 46",
          "ID: 46"
         ],
         "type": "scatter3d",
         "x": {
          "bdata": "/Knx0k3CScD8qfHSTcJJwAIrhxbZ7kjAAiuHFtnuSMD8qfHSTcJJwA==",
          "dtype": "f8"
         },
         "y": {
          "bdata": "+n5qvHRzMED6fmq8dHMwQEa28/3UeDBARrbz/dR4MED6fmq8dHMwQA==",
          "dtype": "f8"
         },
         "z": {
          "bdata": "0SLb+X5qCEBU46WbxKAaQFTjpZvEoBpA0SLb+X5qCEDRItv5fmoIQA==",
          "dtype": "f8"
         }
        },
        {
         "hoverinfo": "text",
         "line": {
          "color": "red"
         },
         "mode": "lines",
         "name": "partly_wall (ID: 47)",
         "text": [
          "ID: 47",
          "ID: 47",
          "ID: 47",
          "ID: 47",
          "ID: 47"
         ],
         "type": "scatter3d",
         "x": {
          "bdata": "AiuHFtnuSMACK4cW2e5IwLTIdr6fGkjAtMh2vp8aSMACK4cW2e5IwA==",
          "dtype": "f8"
         },
         "y": {
          "bdata": "Rrbz/dR4MEBGtvP91HgwQFg5tMh2fjBAWDm0yHZ+MEBGtvP91HgwQA==",
          "dtype": "f8"
         },
         "z": {
          "bdata": "0SLb+X5qCEBU46WbxKAaQFTjpZvEoBpA0SLb+X5qCEDRItv5fmoIQA==",
          "dtype": "f8"
         }
        },
        {
         "hoverinfo": "text",
         "line": {
          "color": "red"
         },
         "mode": "lines",
         "name": "partly_wall (ID: 48)",
         "text": [
          "ID: 48",
          "ID: 48",
          "ID: 48",
          "ID: 48",
          "ID: 48"
         ],
         "type": "scatter3d",
         "x": {
          "bdata": "tMh2vp8aSMC0yHa+nxpIwKabxCCwIkjAppvEILAiSMC0yHa+nxpIwA==",
          "dtype": "f8"
         },
         "y": {
          "bdata": "WDm0yHZ+MEBYObTIdn4wQCUGgZVD6zNAJQaBlUPrM0BYObTIdn4wQA==",
          "dtype": "f8"
         },
         "z": {
          "bdata": "0SLb+X5qCEBU46WbxKAaQFTjpZvEoBpA0SLb+X5qCEDRItv5fmoIQA==",
          "dtype": "f8"
         }
        },
        {
         "hoverinfo": "text",
         "line": {
          "color": "red"
         },
         "mode": "lines",
         "name": "partly_wall (ID: 49)",
         "text": [
          "ID: 49",
          "ID: 49",
          "ID: 49",
          "ID: 49",
          "ID: 49"
         ],
         "type": "scatter3d",
         "x": {
          "bdata": "ppvEILAiSMCmm8QgsCJIwOkmMQisvEjA6SYxCKy8SMCmm8QgsCJIwA==",
          "dtype": "f8"
         },
         "y": {
          "bdata": "JQaBlUPrM0AlBoGVQ+szQGZmZmZm5jNAZmZmZmbmM0AlBoGVQ+szQA==",
          "dtype": "f8"
         },
         "z": {
          "bdata": "0SLb+X5qCEBU46WbxKAaQFTjpZvEoBpA0SLb+X5qCEDRItv5fmoIQA==",
          "dtype": "f8"
         }
        },
        {
         "hoverinfo": "text",
         "line": {
          "color": "red"
         },
         "mode": "lines",
         "name": "partly_wall (ID: 50)",
         "text": [
          "ID: 50",
          "ID: 50",
          "ID: 50",
          "ID: 50",
          "ID: 50"
         ],
         "type": "scatter3d",
         "x": {
          "bdata": "6SYxCKy8SMDpJjEIrLxIwFTjpZvEwEjAVOOlm8TASMDpJjEIrLxIwA==",
          "dtype": "f8"
         },
         "y": {
          "bdata": "ZmZmZmbmM0BmZmZmZuYzQHsUrkfhOjZAexSuR+E6NkBmZmZmZuYzQA==",
          "dtype": "f8"
         },
         "z": {
          "bdata": "0SLb+X5qCEBU46WbxKAaQFTjpZvEoBpA0SLb+X5qCEDRItv5fmoIQA==",
          "dtype": "f8"
         }
        },
        {
         "hoverinfo": "text",
         "line": {
          "color": "red"
         },
         "mode": "lines",
         "name": "partly_wall (ID: 51)",
         "text": [
          "ID: 51",
          "ID: 51",
          "ID: 51",
          "ID: 51",
          "ID: 51"
         ],
         "type": "scatter3d",
         "x": {
          "bdata": "VOOlm8TASMBU46WbxMBIwClcj8L1GEfAKVyPwvUYR8BU46WbxMBIwA==",
          "dtype": "f8"
         },
         "y": {
          "bdata": "exSuR+E6NkB7FK5H4To2QLpJDAIrRzZAukkMAitHNkB7FK5H4To2QA==",
          "dtype": "f8"
         },
         "z": {
          "bdata": "0SLb+X5qCEBU46WbxKAaQFTjpZvEoBpA0SLb+X5qCEDRItv5fmoIQA==",
          "dtype": "f8"
         }
        },
        {
         "hoverinfo": "text",
         "line": {
          "color": "gray"
         },
         "mode": "lines",
         "name": "door (ID: 22)",
         "text": [
          "ID: 22",
          "ID: 22",
          "ID: 22",
          "ID: 22",
          "ID: 22"
         ],
         "type": "scatter3d",
         "x": {
          "bdata": "I9v5fmq8RMAj2/l+arxEwEjhehSup0PASOF6FK6nQ8Aj2/l+arxEwA==",
          "dtype": "f8"
         },
         "y": {
          "bdata": "uB6F61FYNkC4HoXrUVg2QMdLN4lBYDZAx0s3iUFgNkC4HoXrUVg2QA==",
          "dtype": "f8"
         },
         "z": {
          "bdata": "YhBYObTIDUA/NV66SYwXQD81XrpJjBdAYhBYObTIDUBiEFg5tMgNQA==",
          "dtype": "f8"
         }
        },
        {
         "hoverinfo": "text",
         "line": {
          "color": "gray"
         },
         "mode": "lines",
         "name": "door (ID: 24)",
         "text": [
          "ID: 24",
          "ID: 24",
          "ID: 24",
          "ID: 24",
          "ID: 24"
         ],
         "type": "scatter3d",
         "x": {
          "bdata": "46WbxCCwQMAQWDm0yBZBwBBYObTIFkHA46WbxCCwQMDjpZvEILBAwA==",
          "dtype": "f8"
         },
         "y": {
          "bdata": "g8DKoUV2NkAzMzMzM3M2QDMzMzMzczZAg8DKoUV2NkCDwMqhRXY2QA==",
          "dtype": "f8"
         },
         "z": {
          "bdata": "XrpJDAIrDkBeukkMAisOQHe+nxovXRdAd76fGi9dF0BeukkMAisOQA==",
          "dtype": "f8"
         }
        },
        {
         "hoverinfo": "text",
         "line": {
          "color": "gray"
         },
         "mode": "lines",
         "name": "door (ID: 27)",
         "text": [
          "ID: 27",
          "ID: 27",
          "ID: 27",
          "ID: 27",
          "ID: 27"
         ],
         "type": "scatter3d",
         "x": {
          "bdata": "kxgEVg7tP8CTGARWDu0/wIXrUbgeZUDAhetRuB5lQMCTGARWDu0/wA==",
          "dtype": "f8"
         },
         "y": {
          "bdata": "1XjpJjEoNEDVeOkmMSg0QPhT46WbJDRA+FPjpZskNEDVeOkmMSg0QA==",
          "dtype": "f8"
         },
         "z": {
          "bdata": "2c73U+OlCECYbhKDwEoXQJhuEoPAShdA2c73U+OlCEDZzvdT46UIQA==",
          "dtype": "f8"
         }
        },
        {
         "hoverinfo": "text",
         "line": {
          "color": "gray"
         },
         "mode": "lines",
         "name": "door (ID: 36)",
         "text": [
          "ID: 36",
          "ID: 36",
          "ID: 36",
          "ID: 36",
          "ID: 36"
         ],
         "type": "scatter3d",
         "x": {
          "bdata": "SgwCK4dGQsBKDAIrh0ZCwH0/NV66yULAfT81XrrJQsBKDAIrh0ZCwA==",
          "dtype": "f8"
         },
         "y": {
          "bdata": "rkfhehSuLECuR+F6FK4sQDEIrBxapCxAMQisHFqkLECuR+F6FK4sQA==",
          "dtype": "f8"
         },
         "z": {
          "bdata": "bef7qfHSDUBmZmZmZmYXQGZmZmZmZhdAbef7qfHSDUBt5/up8dINQA==",
          "dtype": "f8"
         }
        },
        {
         "hoverinfo": "text",
         "line": {
          "color": "gray"
         },
         "mode": "lines",
         "name": "door (ID: 38)",
         "text": [
          "ID: 38",
          "ID: 38",
          "ID: 38",
          "ID: 38",
          "ID: 38"
         ],
         "type": "scatter3d",
         "x": {
          "bdata": "AAAAAABARsAAAAAAAEBGwPT91Hjp9kbA9P3UeOn2RsAAAAAAAEBGwA==",
          "dtype": "f8"
         },
         "y": {
          "bdata": "iUFg5dBiLECJQWDl0GIsQKJFtvP9VCxAokW28/1ULECJQWDl0GIsQA==",
          "dtype": "f8"
         },
         "z": {
          "bdata": "uB6F61G4DUAOLbKd76cYQA4tsp3vpxhAuB6F61G4DUC4HoXrUbgNQA==",
          "dtype": "f8"
         }
        },
        {
         "hoverinfo": "text",
         "line": {
          "color": "magenta"
         },
         "mode": "lines",
         "name": "window (ID: 42)",
         "text": [
          "ID: 42",
          "ID: 42",
          "ID: 42",
          "ID: 42",
          "ID: 42"
         ],
         "type": "scatter3d",
         "x": {
          "bdata": "w/UoXI/ySsDD9Shcj/JKwPyp8dJNokvA/Knx0k2iS8DD9Shcj/JKwA==",
          "dtype": "f8"
         },
         "y": {
          "bdata": "XrpJDAIrK0BeukkMAisrQLpJDAIrBytAukkMAisHK0BeukkMAisrQA==",
          "dtype": "f8"
         },
         "z": {
          "bdata": "LbKd76fGDUAfhetRuB4YQB+F61G4HhhALbKd76fGDUAtsp3vp8YNQA==",
          "dtype": "f8"
         }
        },
        {
         "hoverinfo": "text",
         "line": {
          "color": "red"
         },
         "mode": "lines",
         "name": "partly_wall (ID: 55)",
         "text": [
          "ID: 55",
          "ID: 55",
          "ID: 55",
          "ID: 55",
          "ID: 55"
         ],
         "type": "scatter3d",
         "x": {
          "bdata": "KVyPwvUYR8ApXI/C9RhHwFTjpZvEwEjAVOOlm8TASMApXI/C9RhHwA==",
          "dtype": "f8"
         },
         "y": {
          "bdata": "ukkMAitHNkC6SQwCK0c2QHsUrkfhOjZAexSuR+E6NkC6SQwCK0c2QA==",
          "dtype": "f8"
         },
         "z": {
          "bdata": "0SLb+X5qCEBU46WbxKAaQFTjpZvEoBpA0SLb+X5qCEDRItv5fmoIQA==",
          "dtype": "f8"
         }
        },
        {
         "hoverinfo": "text",
         "line": {
          "color": "red"
         },
         "mode": "lines",
         "name": "partly_wall (ID: 56)",
         "text": [
          "ID: 56",
          "ID: 56",
          "ID: 56",
          "ID: 56",
          "ID: 56"
         ],
         "type": "scatter3d",
         "x": {
          "bdata": "VOOlm8TASMBU46WbxMBIwH9qvHSTyErAf2q8dJPISsBU46WbxMBIwA==",
          "dtype": "f8"
         },
         "y": {
          "bdata": "exSuR+E6NkB7FK5H4To2QHnpJjEILDZAeekmMQgsNkB7FK5H4To2QA==",
          "dtype": "f8"
         },
         "z": {
          "bdata": "0SLb+X5qCEBU46WbxKAaQFTjpZvEoBpA0SLb+X5qCEDRItv5fmoIQA==",
          "dtype": "f8"
         }
        },
        {
         "hoverinfo": "text",
         "line": {
          "color": "red"
         },
         "mode": "lines",
         "name": "partly_wall (ID: 57)",
         "text": [
          "ID: 57",
          "ID: 57",
          "ID: 57",
          "ID: 57",
          "ID: 57"
         ],
         "type": "scatter3d",
         "x": {
          "bdata": "f2q8dJPISsB/arx0k8hKwE5iEFg55ErATmIQWDnkSsB/arx0k8hKwA==",
          "dtype": "f8"
         },
         "y": {
          "bdata": "eekmMQgsNkB56SYxCCw2QCUGgZVDKzZAJQaBlUMrNkB56SYxCCw2QA==",
          "dtype": "f8"
         },
         "z": {
          "bdata": "0SLb+X5qCEBU46WbxKAaQFTjpZvEoBpA0SLb+X5qCEDRItv5fmoIQA==",
          "dtype": "f8"
         }
        },
        {
         "hoverinfo": "text",
         "line": {
          "color": "red"
         },
         "mode": "lines",
         "name": "partly_wall (ID: 58)",
         "text": [
          "ID: 58",
          "ID: 58",
          "ID: 58",
          "ID: 58",
          "ID: 58"
         ],
         "type": "scatter3d",
         "x": {
          "bdata": "TmIQWDnkSsBOYhBYOeRKwIXrUbge5UrAhetRuB7lSsBOYhBYOeRKwA==",
          "dtype": "f8"
         },
         "y": {
          "bdata": "JQaBlUMrNkAlBoGVQys2QDeJQWDlsDZAN4lBYOWwNkAlBoGVQys2QA==",
          "dtype": "f8"
         },
         "z": {
          "bdata": "0SLb+X5qCEBU46WbxKAaQFTjpZvEoBpA0SLb+X5qCEDRItv5fmoIQA==",
          "dtype": "f8"
         }
        },
        {
         "hoverinfo": "text",
         "line": {
          "color": "blue"
         },
         "mode": "lines",
         "name": "external (ID: 59)",
         "text": [
          "ID: 59",
          "ID: 59",
          "ID: 59",
          "ID: 59",
          "ID: 59"
         ],
         "type": "scatter3d",
         "x": {
          "bdata": "hetRuB7lSsCoxks3ifFKwKjGSzeJ8UrAhetRuB7lSsCF61G4HuVKwA==",
          "dtype": "f8"
         },
         "y": {
          "bdata": "N4lBYOWwNkCq8dJNYrA9QKrx0k1isD1AN4lBYOWwNkA3iUFg5bA2QA==",
          "dtype": "f8"
         },
         "z": {
          "bdata": "VOOlm8SgGkBU46WbxKAaQNEi2/l+aghA0SLb+X5qCEBU46WbxKAaQA==",
          "dtype": "f8"
         }
        },
        {
         "hoverinfo": "text",
         "line": {
          "color": "blue"
         },
         "mode": "lines",
         "name": "external (ID: 60)",
         "text": [
          "ID: 60",
          "ID: 60",
          "ID: 60",
          "ID: 60",
          "ID: 60"
         ],
         "type": "scatter3d",
         "x": {
          "bdata": "qMZLN4nxSsCmm8QgsDJHwKabxCCwMkfAqMZLN4nxSsCoxks3ifFKwA==",
          "dtype": "f8"
         },
         "y": {
          "bdata": "qvHSTWKwPUB9PzVeusk9QH0/NV66yT1AqvHSTWKwPUCq8dJNYrA9QA==",
          "dtype": "f8"
         },
         "z": {
          "bdata": "VOOlm8SgGkBU46WbxKAaQNEi2/l+aghA0SLb+X5qCEBU46WbxKAaQA==",
          "dtype": "f8"
         }
        },
        {
         "hoverinfo": "text",
         "line": {
          "color": "green"
         },
         "mode": "lines",
         "name": "external_with_hole (ID: 60)",
         "text": [
          "ID: 60",
          "ID: 60",
          "ID: 60",
          "ID: 60",
          "ID: 60"
         ],
         "type": "scatter3d",
         "x": {
          "bdata": "ppvEILAyR8Cmm8QgsDJHwKjGSzeJ8UrAqMZLN4nxSsCmm8QgsDJHwA==",
          "dtype": "f8"
         },
         "y": {
          "bdata": "fD81XrrJPUB8PzVeusk9QKnx0k1isD1AqfHSTWKwPUB8PzVeusk9QA==",
          "dtype": "f8"
         },
         "z": {
          "bdata": "VOOlm8SgGkDRItv5fmoIQNEi2/l+aghAVOOlm8SgGkBU46WbxKAaQA==",
          "dtype": "f8"
         }
        },
        {
         "hoverinfo": "text",
         "line": {
          "color": "green"
         },
         "mode": "lines",
         "name": "external_with_hole (ID: 60)",
         "text": [
          "ID: 60",
          "ID: 60",
          "ID: 60",
          "ID: 60",
          "ID: 60"
         ],
         "type": "scatter3d",
         "x": {
          "bdata": "/RDKeG5SR8D9EMp4blJHwIK8/JTxwkrAgrz8lPHCSsD9EMp4blJHwA==",
          "dtype": "f8"
         },
         "y": {
          "bdata": "+i8kk+PIPUD6LyST48g9QLRiZZKdsT1AtGJlkp2xPUD6LyST48g9QA==",
          "dtype": "f8"
         },
         "z": {
          "bdata": "RIts5/spF0BmZmZmZmYSQGZmZmZmZhJARIts5/spF0BEi2zn+ykXQA==",
          "dtype": "f8"
         }
        },
        {
         "hoverinfo": "text",
         "line": {
          "color": "red"
         },
         "mode": "lines",
         "name": "partly_wall (ID: 62)",
         "text": [
          "ID: 62",
          "ID: 62",
          "ID: 62",
          "ID: 62",
          "ID: 62"
         ],
         "type": "scatter3d",
         "x": {
          "bdata": "ppvEILAyR8ApXI/C9RhHwClcj8L1GEfAppvEILAyR8Cmm8QgsDJHwA==",
          "dtype": "f8"
         },
         "y": {
          "bdata": "fT81XrrJPUC6SQwCK0c2QLpJDAIrRzZAfT81XrrJPUB9PzVeusk9QA==",
          "dtype": "f8"
         },
         "z": {
          "bdata": "VOOlm8SgGkBU46WbxKAaQNEi2/l+aghA0SLb+X5qCEBU46WbxKAaQA==",
          "dtype": "f8"
         }
        },
        {
         "hoverinfo": "text",
         "line": {
          "color": "magenta"
         },
         "mode": "lines",
         "name": "window (ID: 61)",
         "text": [
          "ID: 61",
          "ID: 61",
          "ID: 61",
          "ID: 61",
          "ID: 61"
         ],
         "type": "scatter3d",
         "x": {
          "bdata": "30+Nl25SR8Bt5/up8cJKwG3n+6nxwkrA30+Nl25SR8DfT42XblJHwA==",
          "dtype": "f8"
         },
         "y": {
          "bdata": "KVyPwvXIPUCLbOf7qbE9QIts5/upsT1AKVyPwvXIPUApXI/C9cg9QA==",
          "dtype": "f8"
         },
         "z": {
          "bdata": "ZmZmZmZmEkBmZmZmZmYSQESLbOf7KRdARIts5/spF0BmZmZmZmYSQA==",
          "dtype": "f8"
         }
        },
        {
         "hoverinfo": "text",
         "line": {
          "color": "red"
         },
         "mode": "lines",
         "name": "partly_wall (ID: 66)",
         "text": [
          "ID: 66",
          "ID: 66",
          "ID: 66",
          "ID: 66",
          "ID: 66"
         ],
         "type": "scatter3d",
         "x": {
          "bdata": "Gy/dJAbRS8Dwp8ZLN8lLwPCnxks3yUvAGy/dJAbRS8AbL90kBtFLwA==",
          "dtype": "f8"
         },
         "y": {
          "bdata": "EoPAyqFlMEDl0CLb+f4qQOXQItv5/ipAEoPAyqFlMEASg8DKoWUwQA==",
          "dtype": "f8"
         },
         "z": {
          "bdata": "VOOlm8SgGkBU46WbxKAaQNEi2/l+aghA0SLb+X5qCEBU46WbxKAaQA==",
          "dtype": "f8"
         }
        },
        {
         "hoverinfo": "text",
         "line": {
          "color": "blue"
         },
         "mode": "lines",
         "name": "external (ID: 67)",
         "text": [
          "ID: 67",
          "ID: 67",
          "ID: 67",
          "ID: 67",
          "ID: 67"
         ],
         "type": "scatter3d",
         "x": {
          "bdata": "8KfGSzfJS8Dwp8ZLN8lLwEJg5dAii0zAQmDl0CKLTMDwp8ZLN8lLwA==",
          "dtype": "f8"
         },
         "y": {
          "bdata": "5dAi2/n+KkDl0CLb+f4qQOXQItv5/ipA5dAi2/n+KkDl0CLb+f4qQA==",
          "dtype": "f8"
         },
         "z": {
          "bdata": "0SLb+X5qCEBU46WbxKAaQFTjpZvEoBpA0SLb+X5qCEDRItv5fmoIQA==",
          "dtype": "f8"
         }
        },
        {
         "hoverinfo": "text",
         "line": {
          "color": "red"
         },
         "mode": "lines",
         "name": "partly_wall (ID: 68)",
         "text": [
          "ID: 68",
          "ID: 68",
          "ID: 68",
          "ID: 68",
          "ID: 68"
         ],
         "type": "scatter3d",
         "x": {
          "bdata": "QmDl0CKLTMA5tMh2vo9MwDm0yHa+j0zAQmDl0CKLTMBCYOXQIotMwA==",
          "dtype": "f8"
         },
         "y": {
          "bdata": "5dAi2/n+KkBoke18P7UwQGiR7Xw/tTBA5dAi2/n+KkDl0CLb+f4qQA==",
          "dtype": "f8"
         },
         "z": {
          "bdata": "VOOlm8SgGkBU46WbxKAaQNEi2/l+aghA0SLb+X5qCEBU46WbxKAaQA==",
          "dtype": "f8"
         }
        },
        {
         "hoverinfo": "text",
         "line": {
          "color": "orange"
         },
         "mode": "lines",
         "name": "partly_wall_with_hole (ID: 68)",
         "text": [
          "ID: 68",
          "ID: 68",
          "ID: 68",
          "ID: 68",
          "ID: 68"
         ],
         "type": "scatter3d",
         "x": {
          "bdata": "ObTIdr6PTMA5tMh2vo9MwEJg5dAii0zAQmDl0CKLTMA5tMh2vo9MwA==",
          "dtype": "f8"
         },
         "y": {
          "bdata": "aJHtfD+1MEBoke18P7UwQOXQItv5/ipA5dAi2/n+KkBoke18P7UwQA==",
          "dtype": "f8"
         },
         "z": {
          "bdata": "VOOlm8SgGkDRItv5fmoIQNEi2/l+aghAVOOlm8SgGkBU46WbxKAaQA==",
          "dtype": "f8"
         }
        },
        {
         "hoverinfo": "text",
         "line": {
          "color": "orange"
         },
         "mode": "lines",
         "name": "partly_wall_with_hole (ID: 68)",
         "text": [
          "ID: 68",
          "ID: 68",
          "ID: 68",
          "ID: 68",
          "ID: 68"
         ],
         "type": "scatter3d",
         "x": {
          "bdata": "fSVV9wSNTMB9JVX3BI1MwDbdJTjli0zANt0lOOWLTMB9JVX3BI1MwA==",
          "dtype": "f8"
         },
         "y": {
          "bdata": "50SGvbieLUDnRIa9uJ4tQHCS+wrTDSxAcJL7CtMNLEDnRIa9uJ4tQA==",
          "dtype": "f8"
         },
         "z": {
          "bdata": "ppvEILByF0B9PzVeukkOQH0/NV66SQ5AppvEILByF0Cmm8QgsHIXQA==",
          "dtype": "f8"
         }
        },
        {
         "hoverinfo": "text",
         "line": {
          "color": "red"
         },
         "mode": "lines",
         "name": "partly_wall (ID: 70)",
         "text": [
          "ID: 70",
          "ID: 70",
          "ID: 70",
          "ID: 70",
          "ID: 70"
         ],
         "type": "scatter3d",
         "x": {
          "bdata": "ObTIdr6PTMA5tMh2vo9MwGZmZmZmVk7AZmZmZmZWTsA5tMh2vo9MwA==",
          "dtype": "f8"
         },
         "y": {
          "bdata": "aJHtfD+1MEBoke18P7UwQGq8dJMYpDBAarx0kxikMEBoke18P7UwQA==",
          "dtype": "f8"
         },
         "z": {
          "bdata": "0SLb+X5qCEBU46WbxKAaQFTjpZvEoBpA0SLb+X5qCEDRItv5fmoIQA==",
          "dtype": "f8"
         }
        },
        {
         "hoverinfo": "text",
         "line": {
          "color": "blue"
         },
         "mode": "lines",
         "name": "external (ID: 71)",
         "text": [
          "ID: 71",
          "ID: 71",
          "ID: 71",
          "ID: 71",
          "ID: 71"
         ],
         "type": "scatter3d",
         "x": {
          "bdata": "ZmZmZmZWTsCoxks3iWFOwKjGSzeJYU7AZmZmZmZWTsBmZmZmZlZOwA==",
          "dtype": "f8"
         },
         "y": {
          "bdata": "arx0kxikMEDpJjEIrJw2QOkmMQisnDZAarx0kxikMEBqvHSTGKQwQA==",
          "dtype": "f8"
         },
         "z": {
          "bdata": "VOOlm8SgGkBU46WbxKAaQNEi2/l+aghA0SLb+X5qCEBU46WbxKAaQA==",
          "dtype": "f8"
         }
        },
        {
         "hoverinfo": "text",
         "line": {
          "color": "blue"
         },
         "mode": "lines",
         "name": "external (ID: 72)",
         "text": [
          "ID: 72",
          "ID: 72",
          "ID: 72",
          "ID: 72",
          "ID: 72"
         ],
         "type": "scatter3d",
         "x": {
          "bdata": "qMZLN4lhTsCF61G4HuVKwIXrUbge5UrAqMZLN4lhTsCoxks3iWFOwA==",
          "dtype": "f8"
         },
         "y": {
          "bdata": "6SYxCKycNkA3iUFg5bA2QDeJQWDlsDZA6SYxCKycNkDpJjEIrJw2QA==",
          "dtype": "f8"
         },
         "z": {
          "bdata": "VOOlm8SgGkBU46WbxKAaQNEi2/l+aghA0SLb+X5qCEBU46WbxKAaQA==",
          "dtype": "f8"
         }
        },
        {
         "hoverinfo": "text",
         "line": {
          "color": "green"
         },
         "mode": "lines",
         "name": "external_with_hole (ID: 72)",
         "text": [
          "ID: 72",
          "ID: 72",
          "ID: 72",
          "ID: 72",
          "ID: 72"
         ],
         "type": "scatter3d",
         "x": {
          "bdata": "hetRuB7lSsCF61G4HuVKwKjGSzeJYU7AqMZLN4lhTsCF61G4HuVKwA==",
          "dtype": "f8"
         },
         "y": {
          "bdata": "N4lBYOWwNkA3iUFg5bA2QOkmMQisnDZA6SYxCKycNkA3iUFg5bA2QA==",
          "dtype": "f8"
         },
         "z": {
          "bdata": "VOOlm8SgGkDRItv5fmoIQNEi2/l+aghAVOOlm8SgGkBU46WbxKAaQA==",
          "dtype": "f8"
         }
        },
        {
         "hoverinfo": "text",
         "line": {
          "color": "green"
         },
         "mode": "lines",
         "name": "external_with_hole (ID: 72)",
         "text": [
          "ID: 72",
          "ID: 72",
          "ID: 72",
          "ID: 72",
          "ID: 72"
         ],
         "type": "scatter3d",
         "x": {
          "bdata": "qgGffbwES8CqAZ99vARLwBg/fWAUTk7AGD99YBROTsCqAZ99vARLwA==",
          "dtype": "f8"
         },
         "y": {
          "bdata": "vwRQ9C2wNkC/BFD0LbA2QN4QfegcnTZA3hB96BydNkC/BFD0LbA2QA==",
          "dtype": "f8"
         },
         "z": {
          "bdata": "16NwPQpXF0B9PzVeukkSQH0/NV66SRJA16NwPQpXF0DXo3A9ClcXQA==",
          "dtype": "f8"
         }
        },
        {
         "hoverinfo": "text",
         "line": {
          "color": "red"
         },
         "mode": "lines",
         "name": "partly_wall (ID: 74)",
         "text": [
          "ID: 74",
          "ID: 74",
          "ID: 74",
          "ID: 74",
          "ID: 74"
         ],
         "type": "scatter3d",
         "x": {
          "bdata": "hetRuB7lSsCF61G4HuVKwE5iEFg55ErATmIQWDnkSsCF61G4HuVKwA==",
          "dtype": "f8"
         },
         "y": {
          "bdata": "N4lBYOWwNkA3iUFg5bA2QCUGgZVDKzZAJQaBlUMrNkA3iUFg5bA2QA==",
          "dtype": "f8"
         },
         "z": {
          "bdata": "0SLb+X5qCEBU46WbxKAaQFTjpZvEoBpA0SLb+X5qCEDRItv5fmoIQA==",
          "dtype": "f8"
         }
        },
        {
         "hoverinfo": "text",
         "line": {
          "color": "red"
         },
         "mode": "lines",
         "name": "partly_wall (ID: 75)",
         "text": [
          "ID: 75",
          "ID: 75",
          "ID: 75",
          "ID: 75",
          "ID: 75"
         ],
         "type": "scatter3d",
         "x": {
          "bdata": "TmIQWDnkSsBOYhBYOeRKwH9qvHSTyErAf2q8dJPISsBOYhBYOeRKwA==",
          "dtype": "f8"
         },
         "y": {
          "bdata": "JQaBlUMrNkAlBoGVQys2QHnpJjEILDZAeekmMQgsNkAlBoGVQys2QA==",
          "dtype": "f8"
         },
         "z": {
          "bdata": "0SLb+X5qCEBU46WbxKAaQFTjpZvEoBpA0SLb+X5qCEDRItv5fmoIQA==",
          "dtype": "f8"
         }
        },
        {
         "hoverinfo": "text",
         "line": {
          "color": "red"
         },
         "mode": "lines",
         "name": "partly_wall (ID: 76)",
         "text": [
          "ID: 76",
          "ID: 76",
          "ID: 76",
          "ID: 76",
          "ID: 76"
         ],
         "type": "scatter3d",
         "x": {
          "bdata": "f2q8dJPISsB/arx0k8hKwMUgsHJowUrAxSCwcmjBSsB/arx0k8hKwA==",
          "dtype": "f8"
         },
         "y": {
          "bdata": "eekmMQgsNkB56SYxCCw2QLx0kxgE1jNAvHSTGATWM0B56SYxCCw2QA==",
          "dtype": "f8"
         },
         "z": {
          "bdata": "0SLb+X5qCEBU46WbxKAaQFTjpZvEoBpA0SLb+X5qCEDRItv5fmoIQA==",
          "dtype": "f8"
         }
        },
        {
         "hoverinfo": "text",
         "line": {
          "color": "red"
         },
         "mode": "lines",
         "name": "partly_wall (ID: 77)",
         "text": [
          "ID: 77",
          "ID: 77",
          "ID: 77",
          "ID: 77",
          "ID: 77"
         ],
         "type": "scatter3d",
         "x": {
          "bdata": "xSCwcmjBSsBcj8L1KLxKwFyPwvUovErAxSCwcmjBSsDFILByaMFKwA==",
          "dtype": "f8"
         },
         "y": {
          "bdata": "vHSTGATWM0A/NV66SSwyQD81XrpJLDJAvHSTGATWM0C8dJMYBNYzQA==",
          "dtype": "f8"
         },
         "z": {
          "bdata": "VOOlm8SgGkBU46WbxKAaQNEi2/l+aghA0SLb+X5qCEBU46WbxKAaQA==",
          "dtype": "f8"
         }
        },
        {
         "hoverinfo": "text",
         "line": {
          "color": "red"
         },
         "mode": "lines",
         "name": "partly_wall (ID: 78)",
         "text": [
          "ID: 78",
          "ID: 78",
          "ID: 78",
          "ID: 78",
          "ID: 78"
         ],
         "type": "scatter3d",
         "x": {
          "bdata": "XI/C9Si8SsBcj8L1KLxKwBBYObTItkrAEFg5tMi2SsBcj8L1KLxKwA==",
          "dtype": "f8"
         },
         "y": {
          "bdata": "PzVeukksMkA/NV66SSwyQJMYBFYObTBAkxgEVg5tMEA/NV66SSwyQA==",
          "dtype": "f8"
         },
         "z": {
          "bdata": "0SLb+X5qCEBU46WbxKAaQFTjpZvEoBpA0SLb+X5qCEDRItv5fmoIQA==",
          "dtype": "f8"
         }
        },
        {
         "hoverinfo": "text",
         "line": {
          "color": "red"
         },
         "mode": "lines",
         "name": "partly_wall (ID: 79)",
         "text": [
          "ID: 79",
          "ID: 79",
          "ID: 79",
          "ID: 79",
          "ID: 79"
         ],
         "type": "scatter3d",
         "x": {
          "bdata": "EFg5tMi2SsAQWDm0yLZKwBsv3SQG0UvAGy/dJAbRS8AQWDm0yLZKwA==",
          "dtype": "f8"
         },
         "y": {
          "bdata": "kxgEVg5tMECTGARWDm0wQBKDwMqhZTBAEoPAyqFlMECTGARWDm0wQA==",
          "dtype": "f8"
         },
         "z": {
          "bdata": "0SLb+X5qCEBU46WbxKAaQFTjpZvEoBpA0SLb+X5qCEDRItv5fmoIQA==",
          "dtype": "f8"
         }
        },
        {
         "hoverinfo": "text",
         "line": {
          "color": "gray"
         },
         "mode": "lines",
         "name": "door (ID: 69)",
         "text": [
          "ID: 69",
          "ID: 69",
          "ID: 69",
          "ID: 69",
          "ID: 69"
         ],
         "type": "scatter3d",
         "x": {
          "bdata": "kxgEVg6NTMCWQ4ts54tMwJZDi2zni0zAkxgEVg6NTMCTGARWDo1MwA==",
          "dtype": "f8"
         },
         "y": {
          "bdata": "H4XrUbieLUDn+6nx0g0sQOf7qfHSDSxAH4XrUbieLUAfhetRuJ4tQA==",
          "dtype": "f8"
         },
         "z": {
          "bdata": "fT81XrpJDkB9PzVeukkOQKabxCCwchdAppvEILByF0B9PzVeukkOQA==",
          "dtype": "f8"
         }
        },
        {
         "hoverinfo": "text",
         "line": {
          "color": "magenta"
         },
         "mode": "lines",
         "name": "window (ID: 73)",
         "text": [
          "ID: 73",
          "ID: 73",
          "ID: 73",
          "ID: 73",
          "ID: 73"
         ],
         "type": "scatter3d",
         "x": {
          "bdata": "2/l+arwES8CuR+F6FE5OwK5H4XoUTk7A2/l+arwES8Db+X5qvARLwA==",
          "dtype": "f8"
         },
         "y": {
          "bdata": "46WbxCCwNkB3vp8aL502QHe+nxovnTZA46WbxCCwNkDjpZvEILA2QA==",
          "dtype": "f8"
         },
         "z": {
          "bdata": "fT81XrpJEkB9PzVeukkSQNejcD0KVxdA16NwPQpXF0B9PzVeukkSQA==",
          "dtype": "f8"
         }
        },
        {
         "hoverinfo": "text",
         "line": {
          "color": "blue"
         },
         "mode": "lines",
         "name": "external (ID: 83)",
         "text": [
          "ID: 83",
          "ID: 83",
          "ID: 83",
          "ID: 83",
          "ID: 83"
         ],
         "type": "scatter3d",
         "x": {
          "bdata": "dZMYBFbOSsDP91PjpdtKwM/3U+Ol20rAdZMYBFbOSsB1kxgEVs5KwA==",
          "dtype": "f8"
         },
         "y": {
          "bdata": "6SYxCKycGUBWDi2ynS8rQFYOLbKdLytA6SYxCKycGUDpJjEIrJwZQA==",
          "dtype": "f8"
         },
         "z": {
          "bdata": "VOOlm8SgGkBU46WbxKAaQNEi2/l+aghA0SLb+X5qCEBU46WbxKAaQA==",
          "dtype": "f8"
         }
        },
        {
         "hoverinfo": "text",
         "line": {
          "color": "red"
         },
         "mode": "lines",
         "name": "partly_wall (ID: 84)",
         "text": [
          "ID: 84",
          "ID: 84",
          "ID: 84",
          "ID: 84",
          "ID: 84"
         ],
         "type": "scatter3d",
         "x": {
          "bdata": "z/dT46XbSsDP91PjpdtKwAaBlUOL3ErABoGVQ4vcSsDP91PjpdtKwA==",
          "dtype": "f8"
         },
         "y": {
          "bdata": "Vg4tsp0vK0BWDi2ynS8rQCUGgZVDCyxAJQaBlUMLLEBWDi2ynS8rQA==",
          "dtype": "f8"
         },
         "z": {
          "bdata": "0SLb+X5qCEBU46WbxKAaQFTjpZvEoBpA0SLb+X5qCEDRItv5fmoIQA==",
          "dtype": "f8"
         }
        },
        {
         "hoverinfo": "text",
         "line": {
          "color": "red"
         },
         "mode": "lines",
         "name": "partly_wall (ID: 85)",
         "text": [
          "ID: 85",
          "ID: 85",
          "ID: 85",
          "ID: 85",
          "ID: 85"
         ],
         "type": "scatter3d",
         "x": {
          "bdata": "BoGVQ4vcSsAGgZVDi9xKwG3n+6nxEkfAbef7qfESR8AGgZVDi9xKwA==",
          "dtype": "f8"
         },
         "y": {
          "bdata": "JQaBlUMLLEAlBoGVQwssQG3n+6nxUixAbef7qfFSLEAlBoGVQwssQA==",
          "dtype": "f8"
         },
         "z": {
          "bdata": "0SLb+X5qCEBU46WbxKAaQFTjpZvEoBpA0SLb+X5qCEDRItv5fmoIQA==",
          "dtype": "f8"
         }
        },
        {
         "hoverinfo": "text",
         "line": {
          "color": "red"
         },
         "mode": "lines",
         "name": "partly_wall (ID: 86)",
         "text": [
          "ID: 86",
          "ID: 86",
          "ID: 86",
          "ID: 86",
          "ID: 86"
         ],
         "type": "scatter3d",
         "x": {
          "bdata": "bef7qfESR8CiRbbz/QRHwKJFtvP9BEfAbef7qfESR8Bt5/up8RJHwA==",
          "dtype": "f8"
         },
         "y": {
          "bdata": "bef7qfFSLECPwvUoXA8aQI/C9ShcDxpAbef7qfFSLEBt5/up8VIsQA==",
          "dtype": "f8"
         },
         "z": {
          "bdata": "VOOlm8SgGkBU46WbxKAaQNEi2/l+aghA0SLb+X5qCEBU46WbxKAaQA==",
          "dtype": "f8"
         }
        },
        {
         "hoverinfo": "text",
         "line": {
          "color": "blue"
         },
         "mode": "lines",
         "name": "external (ID: 87)",
         "text": [
          "ID: 87",
          "ID: 87",
          "ID: 87",
          "ID: 87",
          "ID: 87"
         ],
         "type": "scatter3d",
         "x": {
          "bdata": "okW28/0ER8B1kxgEVs5KwHWTGARWzkrAokW28/0ER8CiRbbz/QRHwA==",
          "dtype": "f8"
         },
         "y": {
          "bdata": "j8L1KFwPGkDpJjEIrJwZQOkmMQisnBlAj8L1KFwPGkCPwvUoXA8aQA==",
          "dtype": "f8"
         },
         "z": {
          "bdata": "VOOlm8SgGkBU46WbxKAaQNEi2/l+aghA0SLb+X5qCEBU46WbxKAaQA==",
          "dtype": "f8"
         }
        },
        {
         "hoverinfo": "text",
         "line": {
          "color": "green"
         },
         "mode": "lines",
         "name": "external_with_hole (ID: 87)",
         "text": [
          "ID: 87",
          "ID: 87",
          "ID: 87",
          "ID: 87",
          "ID: 87"
         ],
         "type": "scatter3d",
         "x": {
          "bdata": "dZMYBFbOSsB1kxgEVs5KwKJFtvP9BEfAokW28/0ER8B1kxgEVs5KwA==",
          "dtype": "f8"
         },
         "y": {
          "bdata": "6CYxCKycGUDoJjEIrJwZQI7C9ShcDxpAjsL1KFwPGkDoJjEIrJwZQA==",
          "dtype": "f8"
         },
         "z": {
          "bdata": "VOOlm8SgGkDRItv5fmoIQNEi2/l+aghAVOOlm8SgGkBU46WbxKAaQA==",
          "dtype": "f8"
         }
        },
        {
         "hoverinfo": "text",
         "line": {
          "color": "green"
         },
         "mode": "lines",
         "name": "external_with_hole (ID: 87)",
         "text": [
          "ID: 87",
          "ID: 87",
          "ID: 87",
          "ID: 87",
          "ID: 87"
         ],
         "type": "scatter3d",
         "x": {
          "bdata": "z1VlPXKISsACivlSbhJHwAKK+VJuEkfAz1VlPXKISsDPVWU9cohKwA==",
          "dtype": "f8"
         },
         "y": {
          "bdata": "K5wQ5vCkGUBrarUcxQ0aQGtqtRzFDRpAK5wQ5vCkGUArnBDm8KQZQA==",
          "dtype": "f8"
         },
         "z": {
          "bdata": "x0s3iUFgEkDHSzeJQWASQGiR7Xw/tRdAaJHtfD+1F0DHSzeJQWASQA==",
          "dtype": "f8"
         }
        },
        {
         "hoverinfo": "text",
         "line": {
          "color": "magenta"
         },
         "mode": "lines",
         "name": "window (ID: 88)",
         "text": [
          "ID: 88",
          "ID: 88",
          "ID: 88",
          "ID: 88",
          "ID: 88"
         ],
         "type": "scatter3d",
         "x": {
          "bdata": "30+Nl24SR8DfT42XbhJHwJzEILByiErAnMQgsHKISsDfT42XbhJHwA==",
          "dtype": "f8"
         },
         "y": {
          "bdata": "dZMYBFYOGkB1kxgEVg4aQNnO91PjpRlA2c73U+OlGUB1kxgEVg4aQA==",
          "dtype": "f8"
         },
         "z": {
          "bdata": "x0s3iUFgEkBoke18P7UXQGiR7Xw/tRdAx0s3iUFgEkDHSzeJQWASQA==",
          "dtype": "f8"
         }
        },
        {
         "hoverinfo": "text",
         "line": {
          "color": "red"
         },
         "mode": "lines",
         "name": "partly_wall (ID: 92)",
         "text": [
          "ID: 92",
          "ID: 92",
          "ID: 92",
          "ID: 92",
          "ID: 92"
         ],
         "type": "scatter3d",
         "x": {
          "bdata": "okW28/0ER8Bt5/up8RJHwG3n+6nxEkfAokW28/0ER8CiRbbz/QRHwA==",
          "dtype": "f8"
         },
         "y": {
          "bdata": "j8L1KFwPGkBt5/up8VIsQG3n+6nxUixAj8L1KFwPGkCPwvUoXA8aQA==",
          "dtype": "f8"
         },
         "z": {
          "bdata": "VOOlm8SgGkBU46WbxKAaQNEi2/l+aghA0SLb+X5qCEBU46WbxKAaQA==",
          "dtype": "f8"
         }
        },
        {
         "hoverinfo": "text",
         "line": {
          "color": "red"
         },
         "mode": "lines",
         "name": "partly_wall (ID: 93)",
         "text": [
          "ID: 93",
          "ID: 93",
          "ID: 93",
          "ID: 93",
          "ID: 93"
         ],
         "type": "scatter3d",
         "x": {
          "bdata": "bef7qfESR8C8dJMYBHZDwLx0kxgEdkPAbef7qfESR8Bt5/up8RJHwA==",
          "dtype": "f8"
         },
         "y": {
          "bdata": "bef7qfFSLEBkO99PjZcsQGQ730+NlyxAbef7qfFSLEBt5/up8VIsQA==",
          "dtype": "f8"
         },
         "z": {
          "bdata": "VOOlm8SgGkBU46WbxKAaQNEi2/l+aghA0SLb+X5qCEBU46WbxKAaQA==",
          "dtype": "f8"
         }
        },
        {
         "hoverinfo": "text",
         "line": {
          "color": "orange"
         },
         "mode": "lines",
         "name": "partly_wall_with_hole (ID: 93)",
         "text": [
          "ID: 93",
          "ID: 93",
          "ID: 93",
          "ID: 93",
          "ID: 93"
         ],
         "type": "scatter3d",
         "x": {
          "bdata": "vHSTGAR2Q8Bt5/up8RJHwG3n+6nxEkfAvHSTGAR2Q8C8dJMYBHZDwA==",
          "dtype": "f8"
         },
         "y": {
          "bdata": "YzvfT42XLEBs5/up8VIsQGzn+6nxUixAYzvfT42XLEBjO99PjZcsQA==",
          "dtype": "f8"
         },
         "z": {
          "bdata": "VOOlm8SgGkBU46WbxKAaQNEi2/l+aghA0SLb+X5qCEBU46WbxKAaQA==",
          "dtype": "f8"
         }
        },
        {
         "hoverinfo": "text",
         "line": {
          "color": "orange"
         },
         "mode": "lines",
         "name": "partly_wall_with_hole (ID: 93)",
         "text": [
          "ID: 93",
          "ID: 93",
          "ID: 93",
          "ID: 93",
          "ID: 93"
         ],
         "type": "scatter3d",
         "x": {
          "bdata": "b8Oxu/8/RsA6EFiC6fZGwDoQWILp9kbAb8Oxu/8/RsBvw7G7/z9GwA==",
          "dtype": "f8"
         },
         "y": {
          "bdata": "2+zAV5diLEDLzXb3BVUsQMvNdvcFVSxA2+zAV5diLEDb7MBXl2IsQA==",
          "dtype": "f8"
         },
         "z": {
          "bdata": "Di2yne+nGEAOLbKd76cYQLgehetRuA1AuB6F61G4DUAOLbKd76cYQA==",
          "dtype": "f8"
         }
        },
        {
         "hoverinfo": "text",
         "line": {
          "color": "red"
         },
         "mode": "lines",
         "name": "partly_wall (ID: 95)",
         "text": [
          "ID: 95",
          "ID: 95",
          "ID: 95",
          "ID: 95",
          "ID: 95"
         ],
         "type": "scatter3d",
         "x": {
          "bdata": "vHSTGAR2Q8AOLbKd72dDwA4tsp3vZ0PAvHSTGAR2Q8C8dJMYBHZDwA==",
          "dtype": "f8"
         },
         "y": {
          "bdata": "ZDvfT42XLECwcmiR7XwaQLByaJHtfBpAZDvfT42XLEBkO99PjZcsQA==",
          "dtype": "f8"
         },
         "z": {
          "bdata": "VOOlm8SgGkBU46WbxKAaQNEi2/l+aghA0SLb+X5qCEBU46WbxKAaQA==",
          "dtype": "f8"
         }
        },
        {
         "hoverinfo": "text",
         "line": {
          "color": "blue"
         },
         "mode": "lines",
         "name": "external (ID: 96)",
         "text": [
          "ID: 96",
          "ID: 96",
          "ID: 96",
          "ID: 96",
          "ID: 96"
         ],
         "type": "scatter3d",
         "x": {
          "bdata": "Di2yne9nQ8CiRbbz/QRHwKJFtvP9BEfADi2yne9nQ8AOLbKd72dDwA==",
          "dtype": "f8"
         },
         "y": {
          "bdata": "sHJoke18GkCPwvUoXA8aQI/C9ShcDxpAsHJoke18GkCwcmiR7XwaQA==",
          "dtype": "f8"
         },
         "z": {
          "bdata": "VOOlm8SgGkBU46WbxKAaQNEi2/l+aghA0SLb+X5qCEBU46WbxKAaQA==",
          "dtype": "f8"
         }
        },
        {
         "hoverinfo": "text",
         "line": {
          "color": "green"
         },
         "mode": "lines",
         "name": "external_with_hole (ID: 96)",
         "text": [
          "ID: 96",
          "ID: 96",
          "ID: 96",
          "ID: 96",
          "ID: 96"
         ],
         "type": "scatter3d",
         "x": {
          "bdata": "okW28/0ER8CiRbbz/QRHwA4tsp3vZ0PADi2yne9nQ8CiRbbz/QRHwA==",
          "dtype": "f8"
         },
         "y": {
          "bdata": "kML1KFwPGkCQwvUoXA8aQLByaJHtfBpAsHJoke18GkCQwvUoXA8aQA==",
          "dtype": "f8"
         },
         "z": {
          "bdata": "VOOlm8SgGkDRItv5fmoIQNEi2/l+aghAVOOlm8SgGkBU46WbxKAaQA==",
          "dtype": "f8"
         }
        },
        {
         "hoverinfo": "text",
         "line": {
          "color": "green"
         },
         "mode": "lines",
         "name": "external_with_hole (ID: 96)",
         "text": [
          "ID: 96",
          "ID: 96",
          "ID: 96",
          "ID: 96",
          "ID: 96"
         ],
         "type": "scatter3d",
         "x": {
          "bdata": "+7UNGIXrRsD7tQ0YhetGwD+PP1ztfEPAP48/XO18Q8D7tQ0YhetGwA==",
          "dtype": "f8"
         },
         "y": {
          "bdata": "HC9uhWASGkAcL26FYBIaQK+hixNxehpAr6GLE3F6GkAcL26FYBIaQA==",
          "dtype": "f8"
         },
         "z": {
          "bdata": "wcqhRbbzF0CwcmiR7XwSQLByaJHtfBJAwcqhRbbzF0DByqFFtvMXQA==",
          "dtype": "f8"
         }
        },
        {
         "hoverinfo": "text",
         "line": {
          "color": "gray"
         },
         "mode": "lines",
         "name": "door (ID: 94)",
         "text": [
          "ID: 94",
          "ID: 94",
          "ID: 94",
          "ID: 94",
          "ID: 94"
         ],
         "type": "scatter3d",
         "x": {
          "bdata": "AAAAAABARsD0/dR46fZGwPT91Hjp9kbAAAAAAABARsAAAAAAAEBGwA==",
          "dtype": "f8"
         },
         "y": {
          "bdata": "iUFg5dBiLECiRbbz/VQsQKJFtvP9VCxAiUFg5dBiLECJQWDl0GIsQA==",
          "dtype": "f8"
         },
         "z": {
          "bdata": "uB6F61G4DUC4HoXrUbgNQA4tsp3vpxhADi2yne+nGEC4HoXrUbgNQA==",
          "dtype": "f8"
         }
        },
        {
         "hoverinfo": "text",
         "line": {
          "color": "magenta"
         },
         "mode": "lines",
         "name": "window (ID: 97)",
         "text": [
          "ID: 97",
          "ID: 97",
          "ID: 97",
          "ID: 97",
          "ID: 97"
         ],
         "type": "scatter3d",
         "x": {
          "bdata": "7FG4HoXrRsCwcmiR7XxDwLByaJHtfEPA7FG4HoXrRsDsUbgehetGwA==",
          "dtype": "f8"
         },
         "y": {
          "bdata": "30+Nl24SGkB7FK5H4XoaQHsUrkfhehpA30+Nl24SGkDfT42XbhIaQA==",
          "dtype": "f8"
         },
         "z": {
          "bdata": "sHJoke18EkCwcmiR7XwSQMHKoUW28xdAwcqhRbbzF0CwcmiR7XwSQA==",
          "dtype": "f8"
         }
        },
        {
         "hoverinfo": "text",
         "line": {
          "color": "red"
         },
         "mode": "lines",
         "name": "partly_wall (ID: 101)",
         "text": [
          "ID: 101",
          "ID: 101",
          "ID: 101",
          "ID: 101",
          "ID: 101"
         ],
         "type": "scatter3d",
         "x": {
          "bdata": "Di2yne9nQ8C8dJMYBHZDwLx0kxgEdkPADi2yne9nQ8AOLbKd72dDwA==",
          "dtype": "f8"
         },
         "y": {
          "bdata": "sHJoke18GkBkO99PjZcsQGQ730+NlyxAsHJoke18GkCwcmiR7XwaQA==",
          "dtype": "f8"
         },
         "z": {
          "bdata": "VOOlm8SgGkBU46WbxKAaQNEi2/l+aghA0SLb+X5qCEBU46WbxKAaQA==",
          "dtype": "f8"
         }
        },
        {
         "hoverinfo": "text",
         "line": {
          "color": "red"
         },
         "mode": "lines",
         "name": "partly_wall (ID: 102)",
         "text": [
          "ID: 102",
          "ID: 102",
          "ID: 102",
          "ID: 102",
          "ID: 102"
         ],
         "type": "scatter3d",
         "x": {
          "bdata": "vHSTGAR2Q8AlBoGVQ2s/wCUGgZVDaz/AvHSTGAR2Q8C8dJMYBHZDwA==",
          "dtype": "f8"
         },
         "y": {
          "bdata": "ZDvfT42XLEAfhetRuN4sQB+F61G43ixAZDvfT42XLEBkO99PjZcsQA==",
          "dtype": "f8"
         },
         "z": {
          "bdata": "VOOlm8SgGkBU46WbxKAaQNEi2/l+aghA0SLb+X5qCEBU46WbxKAaQA==",
          "dtype": "f8"
         }
        },
        {
         "hoverinfo": "text",
         "line": {
          "color": "orange"
         },
         "mode": "lines",
         "name": "partly_wall_with_hole (ID: 102)",
         "text": [
          "ID: 102",
          "ID: 102",
          "ID: 102",
          "ID: 102",
          "ID: 102"
         ],
         "type": "scatter3d",
         "x": {
          "bdata": "JQaBlUNrP8AlBoGVQ2s/wLx0kxgEdkPAvHSTGAR2Q8AlBoGVQ2s/wA==",
          "dtype": "f8"
         },
         "y": {
          "bdata": "H4XrUbjeLEAfhetRuN4sQGQ730+NlyxAZDvfT42XLEAfhetRuN4sQA==",
          "dtype": "f8"
         },
         "z": {
          "bdata": "VOOlm8SgGkDRItv5fmoIQNEi2/l+aghAVOOlm8SgGkBU46WbxKAaQA==",
          "dtype": "f8"
         }
        },
        {
         "hoverinfo": "text",
         "line": {
          "color": "orange"
         },
         "mode": "lines",
         "name": "partly_wall_with_hole (ID: 102)",
         "text": [
          "ID: 102",
          "ID: 102",
          "ID: 102",
          "ID: 102",
          "ID: 102"
         ],
         "type": "scatter3d",
         "x": {
          "bdata": "Kc5ZH4dGQsApzlkfh0ZCwL2nP1S6yULAvac/VLrJQsApzlkfh0ZCwA==",
          "dtype": "f8"
         },
         "y": {
          "bdata": "nH3upQquLECcfe6lCq4sQJ8ZULZRpCxAnxlQtlGkLECcfe6lCq4sQA==",
          "dtype": "f8"
         },
         "z": {
          "bdata": "ZmZmZmZmF0Bt5/up8dINQG3n+6nx0g1AZmZmZmZmF0BmZmZmZmYXQA==",
          "dtype": "f8"
         }
        },
        {
         "hoverinfo": "text",
         "line": {
          "color": "blue"
         },
         "mode": "lines",
         "name": "external (ID: 104)",
         "text": [
          "ID: 104",
          "ID: 104",
          "ID: 104",
          "ID: 104",
          "ID: 104"
         ],
         "type": "scatter3d",
         "x": {
          "bdata": "JQaBlUNrP8AlBoGVQ2s/wH0/NV66aT/AfT81XrppP8AlBoGVQ2s/wA==",
          "dtype": "f8"
         },
         "y": {
          "bdata": "H4XrUbjeLEAfhetRuN4sQAAAAAAAwCtAAAAAAADAK0AfhetRuN4sQA==",
          "dtype": "f8"
         },
         "z": {
          "bdata": "0SLb+X5qCEBU46WbxKAaQFTjpZvEoBpA0SLb+X5qCEDRItv5fmoIQA==",
          "dtype": "f8"
         }
        },
        {
         "hoverinfo": "text",
         "line": {
          "color": "blue"
         },
         "mode": "lines",
         "name": "external (ID: 105)",
         "text": [
          "ID: 105",
          "ID: 105",
          "ID: 105",
          "ID: 105",
          "ID: 105"
         ],
         "type": "scatter3d",
         "x": {
          "bdata": "fT81XrppP8B9PzVeumk/wCuHFtnOVz/AK4cW2c5XP8B9PzVeumk/wA==",
          "dtype": "f8"
         },
         "y": {
          "bdata": "AAAAAADAK0AAAAAAAMArQDvfT42X7hpAO99PjZfuGkAAAAAAAMArQA==",
          "dtype": "f8"
         },
         "z": {
          "bdata": "0SLb+X5qCEBU46WbxKAaQFTjpZvEoBpA0SLb+X5qCEDRItv5fmoIQA==",
          "dtype": "f8"
         }
        },
        {
         "hoverinfo": "text",
         "line": {
          "color": "blue"
         },
         "mode": "lines",
         "name": "external (ID: 106)",
         "text": [
          "ID: 106",
          "ID: 106",
          "ID: 106",
          "ID: 106",
          "ID: 106"
         ],
         "type": "scatter3d",
         "x": {
          "bdata": "K4cW2c5XP8AOLbKd72dDwA4tsp3vZ0PAK4cW2c5XP8ArhxbZzlc/wA==",
          "dtype": "f8"
         },
         "y": {
          "bdata": "O99PjZfuGkCwcmiR7XwaQLByaJHtfBpAO99PjZfuGkA730+Nl+4aQA==",
          "dtype": "f8"
         },
         "z": {
          "bdata": "VOOlm8SgGkBU46WbxKAaQNEi2/l+aghA0SLb+X5qCEBU46WbxKAaQA==",
          "dtype": "f8"
         }
        },
        {
         "hoverinfo": "text",
         "line": {
          "color": "green"
         },
         "mode": "lines",
         "name": "external_with_hole (ID: 106)",
         "text": [
          "ID: 106",
          "ID: 106",
          "ID: 106",
          "ID: 106",
          "ID: 106"
         ],
         "type": "scatter3d",
         "x": {
          "bdata": "Di2yne9nQ8AOLbKd72dDwCuHFtnOVz/AK4cW2c5XP8AOLbKd72dDwA==",
          "dtype": "f8"
         },
         "y": {
          "bdata": "sXJoke18GkCxcmiR7XwaQDzfT42X7hpAPN9PjZfuGkCxcmiR7XwaQA==",
          "dtype": "f8"
         },
         "z": {
          "bdata": "VOOlm8SgGkDRItv5fmoIQNEi2/l+aghAVOOlm8SgGkBU46WbxKAaQA==",
          "dtype": "f8"
         }
        },
        {
         "hoverinfo": "text",
         "line": {
          "color": "green"
         },
         "mode": "lines",
         "name": "external_with_hole (ID: 106)",
         "text": [
          "ID: 106",
          "ID: 106",
          "ID: 106",
          "ID: 106",
          "ID: 106"
         ],
         "type": "scatter3d",
         "x": {
          "bdata": "btIynJ1PQ8BI1/anh7Y/wEjX9qeHtj/AbtIynJ1PQ8Bu0jKcnU9DwA==",
          "dtype": "f8"
         },
         "y": {
          "bdata": "B8BiydF/GkAqQH0Q9ugaQCpAfRD26BpAB8BiydF/GkAHwGLJ0X8aQA==",
          "dtype": "f8"
         },
         "z": {
          "bdata": "H4XrUbgeEkAfhetRuB4SQPYoXI/CdRdA9ihcj8J1F0AfhetRuB4SQA==",
          "dtype": "f8"
         }
        },
        {
         "hoverinfo": "text",
         "line": {
          "color": "gray"
         },
         "mode": "lines",
         "name": "door (ID: 103)",
         "text": [
          "ID: 103",
          "ID: 103",
          "ID: 103",
          "ID: 103",
          "ID: 103"
         ],
         "type": "scatter3d",
         "x": {
          "bdata": "SgwCK4dGQsB9PzVeuslCwH0/NV66yULASgwCK4dGQsBKDAIrh0ZCwA==",
          "dtype": "f8"
         },
         "y": {
          "bdata": "rkfhehSuLEAxCKwcWqQsQDEIrBxapCxArkfhehSuLECuR+F6FK4sQA==",
          "dtype": "f8"
         },
         "z": {
          "bdata": "bef7qfHSDUBt5/up8dINQGZmZmZmZhdAZmZmZmZmF0Bt5/up8dINQA==",
          "dtype": "f8"
         }
        },
        {
         "hoverinfo": "text",
         "line": {
          "color": "magenta"
         },
         "mode": "lines",
         "name": "window (ID: 107)",
         "text": [
          "ID: 107",
          "ID: 107",
          "ID: 107",
          "ID: 107",
          "ID: 107"
         ],
         "type": "scatter3d",
         "x": {
          "bdata": "SgwCK4e2P8BKDAIrh7Y/wFYOLbKdT0PAVg4tsp1PQ8BKDAIrh7Y/wA==",
          "dtype": "f8"
         },
         "y": {
          "bdata": "nMQgsHLoGkCcxCCwcugaQAAAAAAAgBpAAAAAAACAGkCcxCCwcugaQA==",
          "dtype": "f8"
         },
         "z": {
          "bdata": "H4XrUbgeEkD2KFyPwnUXQPYoXI/CdRdAH4XrUbgeEkAfhetRuB4SQA==",
          "dtype": "f8"
         }
        },
        {
         "hoverinfo": "text",
         "line": {
          "color": "blue"
         },
         "mode": "lines",
         "name": "external (ID: 111)",
         "text": [
          "ID: 111",
          "ID: 111",
          "ID: 111",
          "ID: 111",
          "ID: 111"
         ],
         "type": "scatter3d",
         "x": {
          "bdata": "+FPjpZuUTMCq8dJNYlBOwKrx0k1iUE7A+FPjpZuUTMD4U+Olm5RMwA==",
          "dtype": "f8"
         },
         "y": {
          "bdata": "WDm0yHb+KkAfhetRuN4qQB+F61G43ipAWDm0yHb+KkBYObTIdv4qQA==",
          "dtype": "f8"
         },
         "z": {
          "bdata": "VOOlm8SgGkBU46WbxKAaQNEi2/l+aghA0SLb+X5qCEBU46WbxKAaQA==",
          "dtype": "f8"
         }
        },
        {
         "hoverinfo": "text",
         "line": {
          "color": "brown"
         },
         "mode": "lines",
         "name": "wall (ID: 111)",
         "text": [
          "ID: 111",
          "ID: 111",
          "ID: 111",
          "ID: 111",
          "ID: 111",
          "ID: 111",
          "ID: 111",
          "ID: 111",
          "ID: 111"
         ],
         "type": "scatter3d",
         "x": {
          "bdata": "moff9vdTTcDM/sr891NNwBVAD9GvMk7A48gjy68yTsDW9Rl8YlBOwIcDfYNiUE7AwQFIi5uUTMAQ9OSDm5RMwJqH3/b3U03A",
          "dtype": "f8"
         },
         "y": {
          "bdata": "n65rHsfwKkCCPC1WzPAqQCAfd2wB4SpAPZG1NPzgKkCBuhIc4d4qQH3l4J7n3ipA8jUYVV/+KkD2CkrSWP4qQJ+uax7H8CpA",
          "dtype": "f8"
         },
         "z": {
          "bdata": "85/lm8SgGkCA86wv3SQOQALEHC7dJA5ANYgdm8SgGkC8lO+bxKAaQFQMhvp+aghA4GWG+X5qCECCwW+bxKAaQPOf5ZvEoBpA",
          "dtype": "f8"
         }
        },
        {
         "hoverinfo": "text",
         "line": {
          "color": "blue"
         },
         "mode": "lines",
         "name": "external (ID: 113)",
         "text": [
          "ID: 113",
          "ID: 113",
          "ID: 113",
          "ID: 113",
          "ID: 113"
         ],
         "type": "scatter3d",
         "x": {
          "bdata": "qvHSTWJQTsBmZmZmZlZOwGZmZmZmVk7AqvHSTWJQTsCq8dJNYlBOwA==",
          "dtype": "f8"
         },
         "y": {
          "bdata": "H4XrUbjeKkBqvHSTGKQwQGq8dJMYpDBAH4XrUbjeKkAfhetRuN4qQA==",
          "dtype": "f8"
         },
         "z": {
          "bdata": "VOOlm8SgGkBU46WbxKAaQNEi2/l+aghA0SLb+X5qCEBU46WbxKAaQA==",
          "dtype": "f8"
         }
        },
        {
         "hoverinfo": "text",
         "line": {
          "color": "red"
         },
         "mode": "lines",
         "name": "partly_wall (ID: 114)",
         "text": [
          "ID: 114",
          "ID: 114",
          "ID: 114",
          "ID: 114",
          "ID: 114"
         ],
         "type": "scatter3d",
         "x": {
          "bdata": "ZmZmZmZWTsBmZmZmZlZOwDm0yHa+j0zAObTIdr6PTMBmZmZmZlZOwA==",
          "dtype": "f8"
         },
         "y": {
          "bdata": "arx0kxikMEBqvHSTGKQwQGiR7Xw/tTBAaJHtfD+1MEBqvHSTGKQwQA==",
          "dtype": "f8"
         },
         "z": {
          "bdata": "0SLb+X5qCEBU46WbxKAaQFTjpZvEoBpA0SLb+X5qCEDRItv5fmoIQA==",
          "dtype": "f8"
         }
        },
        {
         "hoverinfo": "text",
         "line": {
          "color": "red"
         },
         "mode": "lines",
         "name": "partly_wall (ID: 115)",
         "text": [
          "ID: 115",
          "ID: 115",
          "ID: 115",
          "ID: 115",
          "ID: 115"
         ],
         "type": "scatter3d",
         "x": {
          "bdata": "ObTIdr6PTMBCYOXQIotMwEJg5dAii0zAObTIdr6PTMA5tMh2vo9MwA==",
          "dtype": "f8"
         },
         "y": {
          "bdata": "aJHtfD+1MEDl0CLb+f4qQOXQItv5/ipAaJHtfD+1MEBoke18P7UwQA==",
          "dtype": "f8"
         },
         "z": {
          "bdata": "VOOlm8SgGkBU46WbxKAaQNEi2/l+aghA0SLb+X5qCEBU46WbxKAaQA==",
          "dtype": "f8"
         }
        },
        {
         "hoverinfo": "text",
         "line": {
          "color": "orange"
         },
         "mode": "lines",
         "name": "partly_wall_with_hole (ID: 115)",
         "text": [
          "ID: 115",
          "ID: 115",
          "ID: 115",
          "ID: 115",
          "ID: 115"
         ],
         "type": "scatter3d",
         "x": {
          "bdata": "QmDl0CKLTMBCYOXQIotMwDm0yHa+j0zAObTIdr6PTMBCYOXQIotMwA==",
          "dtype": "f8"
         },
         "y": {
          "bdata": "5dAi2/n+KkDl0CLb+f4qQGiR7Xw/tTBAaJHtfD+1MEDl0CLb+f4qQA==",
          "dtype": "f8"
         },
         "z": {
          "bdata": "VOOlm8SgGkDRItv5fmoIQNEi2/l+aghAVOOlm8SgGkBU46WbxKAaQA==",
          "dtype": "f8"
         }
        },
        {
         "hoverinfo": "text",
         "line": {
          "color": "orange"
         },
         "mode": "lines",
         "name": "partly_wall_with_hole (ID: 115)",
         "text": [
          "ID: 115",
          "ID: 115",
          "ID: 115",
          "ID: 115",
          "ID: 115"
         ],
         "type": "scatter3d",
         "x": {
          "bdata": "Nt0lOOWLTMB8JVX3BI1MwHwlVfcEjUzANt0lOOWLTMA23SU45YtMwA==",
          "dtype": "f8"
         },
         "y": {
          "bdata": "cJL7CtMNLEDnRIa9uJ4tQOdEhr24ni1AcJL7CtMNLEBwkvsK0w0sQA==",
          "dtype": "f8"
         },
         "z": {
          "bdata": "fT81XrpJDkB9PzVeukkOQKabxCCwchdAppvEILByF0B9PzVeukkOQA==",
          "dtype": "f8"
         }
        },
        {
         "hoverinfo": "text",
         "line": {
          "color": "blue"
         },
         "mode": "lines",
         "name": "external (ID: 117)",
         "text": [
          "ID: 117",
          "ID: 117",
          "ID: 117",
          "ID: 117",
          "ID: 117"
         ],
         "type": "scatter3d",
         "x": {
          "bdata": "QmDl0CKLTMBCYOXQIotMwPhT46WblEzA+FPjpZuUTMBCYOXQIotMwA==",
          "dtype": "f8"
         },
         "y": {
          "bdata": "5dAi2/n+KkDl0CLb+f4qQFg5tMh2/ipAWDm0yHb+KkDl0CLb+f4qQA==",
          "dtype": "f8"
         },
         "z": {
          "bdata": "0SLb+X5qCEBU46WbxKAaQFTjpZvEoBpA0SLb+X5qCEDRItv5fmoIQA==",
          "dtype": "f8"
         }
        },
        {
         "hoverinfo": "text",
         "line": {
          "color": "magenta"
         },
         "mode": "lines",
         "name": "window (ID: 112)",
         "text": [
          "ID: 112",
          "ID: 112",
          "ID: 112",
          "ID: 112",
          "ID: 112"
         ],
         "type": "scatter3d",
         "x": {
          "bdata": "hxbZzvdTTcCHFtnO91NNwKabxCCwMk7AppvEILAyTsCHFtnO91NNwA==",
          "dtype": "f8"
         },
         "y": {
          "bdata": "cT0K16PwKkBxPQrXo/AqQOF6FK5H4SpA4XoUrkfhKkBxPQrXo/AqQA==",
          "dtype": "f8"
         },
         "z": {
          "bdata": "vp8aL90kDkBU46WbxKAaQFTjpZvEoBpAvp8aL90kDkC+nxov3SQOQA==",
          "dtype": "f8"
         }
        },
        {
         "hoverinfo": "text",
         "line": {
          "color": "gray"
         },
         "mode": "lines",
         "name": "door (ID: 116)",
         "text": [
          "ID: 116",
          "ID: 116",
          "ID: 116",
          "ID: 116",
          "ID: 116"
         ],
         "type": "scatter3d",
         "x": {
          "bdata": "kxgEVg6NTMCTGARWDo1MwJZDi2zni0zAlkOLbOeLTMCTGARWDo1MwA==",
          "dtype": "f8"
         },
         "y": {
          "bdata": "H4XrUbieLUAfhetRuJ4tQOf7qfHSDSxA5/up8dINLEAfhetRuJ4tQA==",
          "dtype": "f8"
         },
         "z": {
          "bdata": "fT81XrpJDkCmm8QgsHIXQKabxCCwchdAfT81XrpJDkB9PzVeukkOQA==",
          "dtype": "f8"
         }
        },
        {
         "hoverinfo": "text",
         "line": {
          "color": "red"
         },
         "mode": "lines",
         "name": "partly_wall (ID: 121)",
         "text": [
          "ID: 121",
          "ID: 121",
          "ID: 121",
          "ID: 121",
          "ID: 121"
         ],
         "type": "scatter3d",
         "x": {
          "bdata": "/Knx0k3CScD8qfHSTcJJwBBYObTItkrAEFg5tMi2SsD8qfHSTcJJwA==",
          "dtype": "f8"
         },
         "y": {
          "bdata": "+n5qvHRzMED6fmq8dHMwQJMYBFYObTBAkxgEVg5tMED6fmq8dHMwQA==",
          "dtype": "f8"
         },
         "z": {
          "bdata": "0SLb+X5qCEBU46WbxKAaQFTjpZvEoBpA0SLb+X5qCEDRItv5fmoIQA==",
          "dtype": "f8"
         }
        },
        {
         "hoverinfo": "text",
         "line": {
          "color": "red"
         },
         "mode": "lines",
         "name": "partly_wall (ID: 122)",
         "text": [
          "ID: 122",
          "ID: 122",
          "ID: 122",
          "ID: 122",
          "ID: 122"
         ],
         "type": "scatter3d",
         "x": {
          "bdata": "EFg5tMi2SsAQWDm0yLZKwFyPwvUovErAXI/C9Si8SsAQWDm0yLZKwA==",
          "dtype": "f8"
         },
         "y": {
          "bdata": "kxgEVg5tMECTGARWDm0wQD81XrpJLDJAPzVeukksMkCTGARWDm0wQA==",
          "dtype": "f8"
         },
         "z": {
          "bdata": "0SLb+X5qCEBU46WbxKAaQFTjpZvEoBpA0SLb+X5qCEDRItv5fmoIQA==",
          "dtype": "f8"
         }
        },
        {
         "hoverinfo": "text",
         "line": {
          "color": "red"
         },
         "mode": "lines",
         "name": "partly_wall (ID: 123)",
         "text": [
          "ID: 123",
          "ID: 123",
          "ID: 123",
          "ID: 123",
          "ID: 123"
         ],
         "type": "scatter3d",
         "x": {
          "bdata": "XI/C9Si8SsBcj8L1KLxKwNV46SYxyEnA1XjpJjHIScBcj8L1KLxKwA==",
          "dtype": "f8"
         },
         "y": {
          "bdata": "PzVeukksMkA/NV66SSwyQBkEVg4tMjJAGQRWDi0yMkA/NV66SSwyQA==",
          "dtype": "f8"
         },
         "z": {
          "bdata": "0SLb+X5qCEBU46WbxKAaQFTjpZvEoBpA0SLb+X5qCEDRItv5fmoIQA==",
          "dtype": "f8"
         }
        },
        {
         "hoverinfo": "text",
         "line": {
          "color": "red"
         },
         "mode": "lines",
         "name": "partly_wall (ID: 124)",
         "text": [
          "ID: 124",
          "ID: 124",
          "ID: 124",
          "ID: 124",
          "ID: 124"
         ],
         "type": "scatter3d",
         "x": {
          "bdata": "1XjpJjHIScDVeOkmMchJwKAaL90kxknAoBov3STGScDVeOkmMchJwA==",
          "dtype": "f8"
         },
         "y": {
          "bdata": "GQRWDi0yMkAZBFYOLTIyQMUgsHJokTFAxSCwcmiRMUAZBFYOLTIyQA==",
          "dtype": "f8"
         },
         "z": {
          "bdata": "0SLb+X5qCEBU46WbxKAaQFTjpZvEoBpA0SLb+X5qCEDRItv5fmoIQA==",
          "dtype": "f8"
         }
        },
        {
         "hoverinfo": "text",
         "line": {
          "color": "red"
         },
         "mode": "lines",
         "name": "partly_wall (ID: 125)",
         "text": [
          "ID: 125",
          "ID: 125",
          "ID: 125",
          "ID: 125",
          "ID: 125"
         ],
         "type": "scatter3d",
         "x": {
          "bdata": "oBov3STGScCgGi/dJMZJwPyp8dJNwknA/Knx0k3CScCgGi/dJMZJwA==",
          "dtype": "f8"
         },
         "y": {
          "bdata": "xSCwcmiRMUDFILByaJExQPp+arx0czBA+n5qvHRzMEDFILByaJExQA==",
          "dtype": "f8"
         },
         "z": {
          "bdata": "0SLb+X5qCEBU46WbxKAaQFTjpZvEoBpA0SLb+X5qCEDRItv5fmoIQA==",
          "dtype": "f8"
         }
        },
        {
         "hoverinfo": "text",
         "line": {
          "color": "red"
         },
         "mode": "lines",
         "name": "partly_wall (ID: 129)",
         "text": [
          "ID: 129",
          "ID: 129",
          "ID: 129",
          "ID: 129",
          "ID: 129"
         ],
         "type": "scatter3d",
         "x": {
          "bdata": "AiuHFtnuSMACK4cW2e5IwPyp8dJNwknA/Knx0k3CScACK4cW2e5IwA==",
          "dtype": "f8"
         },
         "y": {
          "bdata": "Rrbz/dR4MEBGtvP91HgwQPp+arx0czBA+n5qvHRzMEBGtvP91HgwQA==",
          "dtype": "f8"
         },
         "z": {
          "bdata": "0SLb+X5qCEBU46WbxKAaQFTjpZvEoBpA0SLb+X5qCEDRItv5fmoIQA==",
          "dtype": "f8"
         }
        },
        {
         "hoverinfo": "text",
         "line": {
          "color": "red"
         },
         "mode": "lines",
         "name": "partly_wall (ID: 130)",
         "text": [
          "ID: 130",
          "ID: 130",
          "ID: 130",
          "ID: 130",
          "ID: 130"
         ],
         "type": "scatter3d",
         "x": {
          "bdata": "/Knx0k3CScD8qfHSTcJJwKAaL90kxknAoBov3STGScD8qfHSTcJJwA==",
          "dtype": "f8"
         },
         "y": {
          "bdata": "+n5qvHRzMED6fmq8dHMwQMUgsHJokTFAxSCwcmiRMUD6fmq8dHMwQA==",
          "dtype": "f8"
         },
         "z": {
          "bdata": "0SLb+X5qCEBU46WbxKAaQFTjpZvEoBpA0SLb+X5qCEDRItv5fmoIQA==",
          "dtype": "f8"
         }
        },
        {
         "hoverinfo": "text",
         "line": {
          "color": "red"
         },
         "mode": "lines",
         "name": "partly_wall (ID: 131)",
         "text": [
          "ID: 131",
          "ID: 131",
          "ID: 131",
          "ID: 131",
          "ID: 131"
         ],
         "type": "scatter3d",
         "x": {
          "bdata": "oBov3STGScCgGi/dJMZJwI2XbhKD8EjAjZduEoPwSMCgGi/dJMZJwA==",
          "dtype": "f8"
         },
         "y": {
          "bdata": "xSCwcmiRMUDFILByaJExQC/dJAaBlTFAL90kBoGVMUDFILByaJExQA==",
          "dtype": "f8"
         },
         "z": {
          "bdata": "0SLb+X5qCEBU46WbxKAaQFTjpZvEoBpA0SLb+X5qCEDRItv5fmoIQA==",
          "dtype": "f8"
         }
        },
        {
         "hoverinfo": "text",
         "line": {
          "color": "red"
         },
         "mode": "lines",
         "name": "partly_wall (ID: 132)",
         "text": [
          "ID: 132",
          "ID: 132",
          "ID: 132",
          "ID: 132",
          "ID: 132"
         ],
         "type": "scatter3d",
         "x": {
          "bdata": "jZduEoPwSMCNl24Sg/BIwAIrhxbZ7kjAAiuHFtnuSMCNl24Sg/BIwA==",
          "dtype": "f8"
         },
         "y": {
          "bdata": "L90kBoGVMUAv3SQGgZUxQEa28/3UeDBARrbz/dR4MEAv3SQGgZUxQA==",
          "dtype": "f8"
         },
         "z": {
          "bdata": "0SLb+X5qCEBU46WbxKAaQFTjpZvEoBpA0SLb+X5qCEDRItv5fmoIQA==",
          "dtype": "f8"
         }
        },
        {
         "hoverinfo": "text",
         "line": {
          "color": "red"
         },
         "mode": "lines",
         "name": "partly_wall (ID: 136)",
         "text": [
          "ID: 136",
          "ID: 136",
          "ID: 136",
          "ID: 136",
          "ID: 136"
         ],
         "type": "scatter3d",
         "x": {
          "bdata": "tMh2vp8aSMC0yHa+nxpIwAIrhxbZ7kjAAiuHFtnuSMC0yHa+nxpIwA==",
          "dtype": "f8"
         },
         "y": {
          "bdata": "WDm0yHZ+MEBYObTIdn4wQEa28/3UeDBARrbz/dR4MEBYObTIdn4wQA==",
          "dtype": "f8"
         },
         "z": {
          "bdata": "0SLb+X5qCEBU46WbxKAaQFTjpZvEoBpA0SLb+X5qCEDRItv5fmoIQA==",
          "dtype": "f8"
         }
        },
        {
         "hoverinfo": "text",
         "line": {
          "color": "red"
         },
         "mode": "lines",
         "name": "partly_wall (ID: 137)",
         "text": [
          "ID: 137",
          "ID: 137",
          "ID: 137",
          "ID: 137",
          "ID: 137"
         ],
         "type": "scatter3d",
         "x": {
          "bdata": "AiuHFtnuSMACK4cW2e5IwI2XbhKD8EjAjZduEoPwSMACK4cW2e5IwA==",
          "dtype": "f8"
         },
         "y": {
          "bdata": "Rrbz/dR4MEBGtvP91HgwQC/dJAaBlTFAL90kBoGVMUBGtvP91HgwQA==",
          "dtype": "f8"
         },
         "z": {
          "bdata": "0SLb+X5qCEBU46WbxKAaQFTjpZvEoBpA0SLb+X5qCEDRItv5fmoIQA==",
          "dtype": "f8"
         }
        },
        {
         "hoverinfo": "text",
         "line": {
          "color": "red"
         },
         "mode": "lines",
         "name": "partly_wall (ID: 138)",
         "text": [
          "ID: 138",
          "ID: 138",
          "ID: 138",
          "ID: 138",
          "ID: 138"
         ],
         "type": "scatter3d",
         "x": {
          "bdata": "jZduEoPwSMCNl24Sg/BIwBkEVg4t8kjAGQRWDi3ySMCNl24Sg/BIwA==",
          "dtype": "f8"
         },
         "y": {
          "bdata": "L90kBoGVMUAv3SQGgZUxQNNNYhBYuTJA001iEFi5MkAv3SQGgZUxQA==",
          "dtype": "f8"
         },
         "z": {
          "bdata": "0SLb+X5qCEBU46WbxKAaQFTjpZvEoBpA0SLb+X5qCEDRItv5fmoIQA==",
          "dtype": "f8"
         }
        },
        {
         "hoverinfo": "text",
         "line": {
          "color": "red"
         },
         "mode": "lines",
         "name": "partly_wall (ID: 139)",
         "text": [
          "ID: 139",
          "ID: 139",
          "ID: 139",
          "ID: 139",
          "ID: 139"
         ],
         "type": "scatter3d",
         "x": {
          "bdata": "GQRWDi3ySMAZBFYOLfJIwIcW2c7380jAhxbZzvfzSMAZBFYOLfJIwA==",
          "dtype": "f8"
         },
         "y": {
          "bdata": "001iEFi5MkDTTWIQWLkyQPhT46Wb5DNA+FPjpZvkM0DTTWIQWLkyQA==",
          "dtype": "f8"
         },
         "z": {
          "bdata": "0SLb+X5qCEBU46WbxKAaQFTjpZvEoBpA0SLb+X5qCEDRItv5fmoIQA==",
          "dtype": "f8"
         }
        },
        {
         "hoverinfo": "text",
         "line": {
          "color": "red"
         },
         "mode": "lines",
         "name": "partly_wall (ID: 140)",
         "text": [
          "ID: 140",
          "ID: 140",
          "ID: 140",
          "ID: 140",
          "ID: 140"
         ],
         "type": "scatter3d",
         "x": {
          "bdata": "hxbZzvfzSMCHFtnO9/NIwOkmMQisvEjA6SYxCKy8SMCHFtnO9/NIwA==",
          "dtype": "f8"
         },
         "y": {
          "bdata": "+FPjpZvkM0D4U+Olm+QzQGZmZmZm5jNAZmZmZmbmM0D4U+Olm+QzQA==",
          "dtype": "f8"
         },
         "z": {
          "bdata": "0SLb+X5qCEBU46WbxKAaQFTjpZvEoBpA0SLb+X5qCEDRItv5fmoIQA==",
          "dtype": "f8"
         }
        },
        {
         "hoverinfo": "text",
         "line": {
          "color": "red"
         },
         "mode": "lines",
         "name": "partly_wall (ID: 141)",
         "text": [
          "ID: 141",
          "ID: 141",
          "ID: 141",
          "ID: 141",
          "ID: 141"
         ],
         "type": "scatter3d",
         "x": {
          "bdata": "6SYxCKy8SMDpJjEIrLxIwKabxCCwIkjAppvEILAiSMDpJjEIrLxIwA==",
          "dtype": "f8"
         },
         "y": {
          "bdata": "ZmZmZmbmM0BmZmZmZuYzQCUGgZVD6zNAJQaBlUPrM0BmZmZmZuYzQA==",
          "dtype": "f8"
         },
         "z": {
          "bdata": "0SLb+X5qCEBU46WbxKAaQFTjpZvEoBpA0SLb+X5qCEDRItv5fmoIQA==",
          "dtype": "f8"
         }
        },
        {
         "hoverinfo": "text",
         "line": {
          "color": "red"
         },
         "mode": "lines",
         "name": "partly_wall (ID: 142)",
         "text": [
          "ID: 142",
          "ID: 142",
          "ID: 142",
          "ID: 142",
          "ID: 142"
         ],
         "type": "scatter3d",
         "x": {
          "bdata": "ppvEILAiSMCmm8QgsCJIwLTIdr6fGkjAtMh2vp8aSMCmm8QgsCJIwA==",
          "dtype": "f8"
         },
         "y": {
          "bdata": "JQaBlUPrM0AlBoGVQ+szQFg5tMh2fjBAWDm0yHZ+MEAlBoGVQ+szQA==",
          "dtype": "f8"
         },
         "z": {
          "bdata": "0SLb+X5qCEBU46WbxKAaQFTjpZvEoBpA0SLb+X5qCEDRItv5fmoIQA==",
          "dtype": "f8"
         }
        },
        {
         "hoverinfo": "text",
         "line": {
          "color": "red"
         },
         "mode": "lines",
         "name": "partly_wall (ID: 146)",
         "text": [
          "ID: 146",
          "ID: 146",
          "ID: 146",
          "ID: 146",
          "ID: 146"
         ],
         "type": "scatter3d",
         "x": {
          "bdata": "XI/C9Si8SsDFILByaMFKwMUgsHJowUrAXI/C9Si8SsBcj8L1KLxKwA==",
          "dtype": "f8"
         },
         "y": {
          "bdata": "PzVeukksMkC8dJMYBNYzQLx0kxgE1jNAPzVeukksMkA/NV66SSwyQA==",
          "dtype": "f8"
         },
         "z": {
          "bdata": "VOOlm8SgGkBU46WbxKAaQNEi2/l+aghA0SLb+X5qCEBU46WbxKAaQA==",
          "dtype": "f8"
         }
        },
        {
         "hoverinfo": "text",
         "line": {
          "color": "red"
         },
         "mode": "lines",
         "name": "partly_wall (ID: 147)",
         "text": [
          "ID: 147",
          "ID: 147",
          "ID: 147",
          "ID: 147",
          "ID: 147"
         ],
         "type": "scatter3d",
         "x": {
          "bdata": "xSCwcmjBSsDn+6nx0s1JwOf7qfHSzUnAxSCwcmjBSsDFILByaMFKwA==",
          "dtype": "f8"
         },
         "y": {
          "bdata": "vHSTGATWM0AEVg4tst0zQARWDi2y3TNAvHSTGATWM0C8dJMYBNYzQA==",
          "dtype": "f8"
         },
         "z": {
          "bdata": "VOOlm8SgGkBU46WbxKAaQNEi2/l+aghA0SLb+X5qCEBU46WbxKAaQA==",
          "dtype": "f8"
         }
        },
        {
         "hoverinfo": "text",
         "line": {
          "color": "orange"
         },
         "mode": "lines",
         "name": "partly_wall_with_hole (ID: 147)",
         "text": [
          "ID: 147",
          "ID: 147",
          "ID: 147",
          "ID: 147",
          "ID: 147"
         ],
         "type": "scatter3d",
         "x": {
          "bdata": "5/up8dLNScDn+6nx0s1JwMUgsHJowUrAxSCwcmjBSsDn+6nx0s1JwA==",
          "dtype": "f8"
         },
         "y": {
          "bdata": "BFYOLbLdM0AEVg4tst0zQLx0kxgE1jNAvHSTGATWM0AEVg4tst0zQA==",
          "dtype": "f8"
         },
         "z": {
          "bdata": "VOOlm8SgGkDRItv5fmoIQNEi2/l+aghAVOOlm8SgGkBU46WbxKAaQA==",
          "dtype": "f8"
         }
        },
        {
         "hoverinfo": "text",
         "line": {
          "color": "orange"
         },
         "mode": "lines",
         "name": "partly_wall_with_hole (ID: 147)",
         "text": [
          "ID: 147",
          "ID: 147",
          "ID: 147",
          "ID: 147",
          "ID: 147"
         ],
         "type": "scatter3d",
         "x": {
          "bdata": "8OncY24ySsDw6dxjbjJKwJTHWVxwrUrAlMdZXHCtSsDw6dxjbjJKwA==",
          "dtype": "f8"
         },
         "y": {
          "bdata": "5YjYIIbaM0DliNgghtozQFxxnUal1jNAXHGdRqXWM0DliNgghtozQA==",
          "dtype": "f8"
         },
         "z": {
          "bdata": "46WbxCAwGEBaZDvfT40NQFpkO99PjQ1A46WbxCAwGEDjpZvEIDAYQA==",
          "dtype": "f8"
         }
        },
        {
         "hoverinfo": "text",
         "line": {
          "color": "red"
         },
         "mode": "lines",
         "name": "partly_wall (ID: 149)",
         "text": [
          "ID: 149",
          "ID: 149",
          "ID: 149",
          "ID: 149",
          "ID: 149"
         ],
         "type": "scatter3d",
         "x": {
          "bdata": "5/up8dLNScDn+6nx0s1JwGDl0CLbyUnAYOXQItvJScDn+6nx0s1JwA==",
          "dtype": "f8"
         },
         "y": {
          "bdata": "BFYOLbLdM0AEVg4tst0zQG3n+6nxsjJAbef7qfGyMkAEVg4tst0zQA==",
          "dtype": "f8"
         },
         "z": {
          "bdata": "0SLb+X5qCEBU46WbxKAaQFTjpZvEoBpA0SLb+X5qCEDRItv5fmoIQA==",
          "dtype": "f8"
         }
        },
        {
         "hoverinfo": "text",
         "line": {
          "color": "red"
         },
         "mode": "lines",
         "name": "partly_wall (ID: 150)",
         "text": [
          "ID: 150",
          "ID: 150",
          "ID: 150",
          "ID: 150",
          "ID: 150"
         ],
         "type": "scatter3d",
         "x": {
          "bdata": "YOXQItvJScBg5dAi28lJwNV46SYxyEnA1XjpJjHIScBg5dAi28lJwA==",
          "dtype": "f8"
         },
         "y": {
          "bdata": "bef7qfGyMkBt5/up8bIyQBkEVg4tMjJAGQRWDi0yMkBt5/up8bIyQA==",
          "dtype": "f8"
         },
         "z": {
          "bdata": "0SLb+X5qCEBU46WbxKAaQFTjpZvEoBpA0SLb+X5qCEDRItv5fmoIQA==",
          "dtype": "f8"
         }
        },
        {
         "hoverinfo": "text",
         "line": {
          "color": "red"
         },
         "mode": "lines",
         "name": "partly_wall (ID: 151)",
         "text": [
          "ID: 151",
          "ID: 151",
          "ID: 151",
          "ID: 151",
          "ID: 151"
         ],
         "type": "scatter3d",
         "x": {
          "bdata": "1XjpJjHIScDVeOkmMchJwFyPwvUovErAXI/C9Si8SsDVeOkmMchJwA==",
          "dtype": "f8"
         },
         "y": {
          "bdata": "GQRWDi0yMkAZBFYOLTIyQD81XrpJLDJAPzVeukksMkAZBFYOLTIyQA==",
          "dtype": "f8"
         },
         "z": {
          "bdata": "0SLb+X5qCEBU46WbxKAaQFTjpZvEoBpA0SLb+X5qCEDRItv5fmoIQA==",
          "dtype": "f8"
         }
        },
        {
         "hoverinfo": "text",
         "line": {
          "color": "gray"
         },
         "mode": "lines",
         "name": "door (ID: 148)",
         "text": [
          "ID: 148",
          "ID: 148",
          "ID: 148",
          "ID: 148",
          "ID: 148"
         ],
         "type": "scatter3d",
         "x": {
          "bdata": "30+Nl24ySsA9CtejcK1KwD0K16NwrUrA30+Nl24ySsDfT42XbjJKwA==",
          "dtype": "f8"
         },
         "y": {
          "bdata": "tMh2vp/aM0AQWDm0yNYzQBBYObTI1jNAtMh2vp/aM0C0yHa+n9ozQA==",
          "dtype": "f8"
         },
         "z": {
          "bdata": "WmQ730+NDUBaZDvfT40NQOOlm8QgMBhA46WbxCAwGEBaZDvfT40NQA==",
          "dtype": "f8"
         }
        },
        {
         "hoverinfo": "text",
         "line": {
          "color": "red"
         },
         "mode": "lines",
         "name": "partly_wall (ID: 155)",
         "text": [
          "ID: 155",
          "ID: 155",
          "ID: 155",
          "ID: 155",
          "ID: 155"
         ],
         "type": "scatter3d",
         "x": {
          "bdata": "xSCwcmjBSsDFILByaMFKwH9qvHSTyErAf2q8dJPISsDFILByaMFKwA==",
          "dtype": "f8"
         },
         "y": {
          "bdata": "vHSTGATWM0C8dJMYBNYzQHnpJjEILDZAeekmMQgsNkC8dJMYBNYzQA==",
          "dtype": "f8"
         },
         "z": {
          "bdata": "0SLb+X5qCEBU46WbxKAaQFTjpZvEoBpA0SLb+X5qCEDRItv5fmoIQA==",
          "dtype": "f8"
         }
        },
        {
         "hoverinfo": "text",
         "line": {
          "color": "red"
         },
         "mode": "lines",
         "name": "partly_wall (ID: 156)",
         "text": [
          "ID: 156",
          "ID: 156",
          "ID: 156",
          "ID: 156",
          "ID: 156"
         ],
         "type": "scatter3d",
         "x": {
          "bdata": "f2q8dJPISsB/arx0k8hKwFTjpZvEwEjAVOOlm8TASMB/arx0k8hKwA==",
          "dtype": "f8"
         },
         "y": {
          "bdata": "eekmMQgsNkB56SYxCCw2QHsUrkfhOjZAexSuR+E6NkB56SYxCCw2QA==",
          "dtype": "f8"
         },
         "z": {
          "bdata": "0SLb+X5qCEBU46WbxKAaQFTjpZvEoBpA0SLb+X5qCEDRItv5fmoIQA==",
          "dtype": "f8"
         }
        },
        {
         "hoverinfo": "text",
         "line": {
          "color": "red"
         },
         "mode": "lines",
         "name": "partly_wall (ID: 157)",
         "text": [
          "ID: 157",
          "ID: 157",
          "ID: 157",
          "ID: 157",
          "ID: 157"
         ],
         "type": "scatter3d",
         "x": {
          "bdata": "VOOlm8TASMBU46WbxMBIwOkmMQisvEjA6SYxCKy8SMBU46WbxMBIwA==",
          "dtype": "f8"
         },
         "y": {
          "bdata": "exSuR+E6NkB7FK5H4To2QGZmZmZm5jNAZmZmZmbmM0B7FK5H4To2QA==",
          "dtype": "f8"
         },
         "z": {
          "bdata": "0SLb+X5qCEBU46WbxKAaQFTjpZvEoBpA0SLb+X5qCEDRItv5fmoIQA==",
          "dtype": "f8"
         }
        },
        {
         "hoverinfo": "text",
         "line": {
          "color": "red"
         },
         "mode": "lines",
         "name": "partly_wall (ID: 158)",
         "text": [
          "ID: 158",
          "ID: 158",
          "ID: 158",
          "ID: 158",
          "ID: 158"
         ],
         "type": "scatter3d",
         "x": {
          "bdata": "6SYxCKy8SMDpJjEIrLxIwIcW2c7380jAhxbZzvfzSMDpJjEIrLxIwA==",
          "dtype": "f8"
         },
         "y": {
          "bdata": "ZmZmZmbmM0BmZmZmZuYzQPhT46Wb5DNA+FPjpZvkM0BmZmZmZuYzQA==",
          "dtype": "f8"
         },
         "z": {
          "bdata": "0SLb+X5qCEBU46WbxKAaQFTjpZvEoBpA0SLb+X5qCEDRItv5fmoIQA==",
          "dtype": "f8"
         }
        },
        {
         "hoverinfo": "text",
         "line": {
          "color": "red"
         },
         "mode": "lines",
         "name": "partly_wall (ID: 159)",
         "text": [
          "ID: 159",
          "ID: 159",
          "ID: 159",
          "ID: 159",
          "ID: 159"
         ],
         "type": "scatter3d",
         "x": {
          "bdata": "hxbZzvfzSMCHFtnO9/NIwOf7qfHSzUnA5/up8dLNScCHFtnO9/NIwA==",
          "dtype": "f8"
         },
         "y": {
          "bdata": "+FPjpZvkM0D4U+Olm+QzQARWDi2y3TNABFYOLbLdM0D4U+Olm+QzQA==",
          "dtype": "f8"
         },
         "z": {
          "bdata": "0SLb+X5qCEBU46WbxKAaQFTjpZvEoBpA0SLb+X5qCEDRItv5fmoIQA==",
          "dtype": "f8"
         }
        },
        {
         "hoverinfo": "text",
         "line": {
          "color": "red"
         },
         "mode": "lines",
         "name": "partly_wall (ID: 160)",
         "text": [
          "ID: 160",
          "ID: 160",
          "ID: 160",
          "ID: 160",
          "ID: 160"
         ],
         "type": "scatter3d",
         "x": {
          "bdata": "5/up8dLNScDFILByaMFKwMUgsHJowUrA5/up8dLNScDn+6nx0s1JwA==",
          "dtype": "f8"
         },
         "y": {
          "bdata": "BFYOLbLdM0C8dJMYBNYzQLx0kxgE1jNABFYOLbLdM0AEVg4tst0zQA==",
          "dtype": "f8"
         },
         "z": {
          "bdata": "VOOlm8SgGkBU46WbxKAaQNEi2/l+aghA0SLb+X5qCEBU46WbxKAaQA==",
          "dtype": "f8"
         }
        },
        {
         "hoverinfo": "text",
         "line": {
          "color": "orange"
         },
         "mode": "lines",
         "name": "partly_wall_with_hole (ID: 160)",
         "text": [
          "ID: 160",
          "ID: 160",
          "ID: 160",
          "ID: 160",
          "ID: 160"
         ],
         "type": "scatter3d",
         "x": {
          "bdata": "xSCwcmjBSsDn+6nx0s1JwOf7qfHSzUnAxSCwcmjBSsDFILByaMFKwA==",
          "dtype": "f8"
         },
         "y": {
          "bdata": "vHSTGATWM0AEVg4tst0zQARWDi2y3TNAvHSTGATWM0C8dJMYBNYzQA==",
          "dtype": "f8"
         },
         "z": {
          "bdata": "VOOlm8SgGkBU46WbxKAaQNEi2/l+aghA0SLb+X5qCEBU46WbxKAaQA==",
          "dtype": "f8"
         }
        },
        {
         "hoverinfo": "text",
         "line": {
          "color": "orange"
         },
         "mode": "lines",
         "name": "partly_wall_with_hole (ID: 160)",
         "text": [
          "ID: 160",
          "ID: 160",
          "ID: 160",
          "ID: 160",
          "ID: 160"
         ],
         "type": "scatter3d",
         "x": {
          "bdata": "lMdZXHCtSsCUx1lccK1KwPDp3GNuMkrA8OncY24ySsCUx1lccK1KwA==",
          "dtype": "f8"
         },
         "y": {
          "bdata": "XHGdRqXWM0BccZ1GpdYzQOWI2CCG2jNA5YjYIIbaM0BccZ1GpdYzQA==",
          "dtype": "f8"
         },
         "z": {
          "bdata": "WmQ730+NDUDjpZvEIDAYQOOlm8QgMBhAWmQ730+NDUBaZDvfT40NQA==",
          "dtype": "f8"
         }
        },
        {
         "hoverinfo": "text",
         "line": {
          "color": "gray"
         },
         "mode": "lines",
         "name": "door (ID: 161)",
         "text": [
          "ID: 161",
          "ID: 161",
          "ID: 161",
          "ID: 161",
          "ID: 161"
         ],
         "type": "scatter3d",
         "x": {
          "bdata": "30+Nl24ySsDfT42XbjJKwD0K16NwrUrAPQrXo3CtSsDfT42XbjJKwA==",
          "dtype": "f8"
         },
         "y": {
          "bdata": "tMh2vp/aM0C0yHa+n9ozQBBYObTI1jNAEFg5tMjWM0C0yHa+n9ozQA==",
          "dtype": "f8"
         },
         "z": {
          "bdata": "WmQ730+NDUDjpZvEIDAYQOOlm8QgMBhAWmQ730+NDUBaZDvfT40NQA==",
          "dtype": "f8"
         }
        },
        {
         "hoverinfo": "text",
         "line": {
          "color": "red"
         },
         "mode": "lines",
         "name": "partly_wall (ID: 165)",
         "text": [
          "ID: 165",
          "ID: 165",
          "ID: 165",
          "ID: 165",
          "ID: 165"
         ],
         "type": "scatter3d",
         "x": {
          "bdata": "oBov3STGScCgGi/dJMZJwNV46SYxyEnA1XjpJjHIScCgGi/dJMZJwA==",
          "dtype": "f8"
         },
         "y": {
          "bdata": "xSCwcmiRMUDFILByaJExQBkEVg4tMjJAGQRWDi0yMkDFILByaJExQA==",
          "dtype": "f8"
         },
         "z": {
          "bdata": "0SLb+X5qCEBU46WbxKAaQFTjpZvEoBpA0SLb+X5qCEDRItv5fmoIQA==",
          "dtype": "f8"
         }
        },
        {
         "hoverinfo": "text",
         "line": {
          "color": "red"
         },
         "mode": "lines",
         "name": "partly_wall (ID: 166)",
         "text": [
          "ID: 166",
          "ID: 166",
          "ID: 166",
          "ID: 166",
          "ID: 166"
         ],
         "type": "scatter3d",
         "x": {
          "bdata": "1XjpJjHIScDVeOkmMchJwGDl0CLbyUnAYOXQItvJScDVeOkmMchJwA==",
          "dtype": "f8"
         },
         "y": {
          "bdata": "GQRWDi0yMkAZBFYOLTIyQG3n+6nxsjJAbef7qfGyMkAZBFYOLTIyQA==",
          "dtype": "f8"
         },
         "z": {
          "bdata": "0SLb+X5qCEBU46WbxKAaQFTjpZvEoBpA0SLb+X5qCEDRItv5fmoIQA==",
          "dtype": "f8"
         }
        },
        {
         "hoverinfo": "text",
         "line": {
          "color": "red"
         },
         "mode": "lines",
         "name": "partly_wall (ID: 167)",
         "text": [
          "ID: 167",
          "ID: 167",
          "ID: 167",
          "ID: 167",
          "ID: 167"
         ],
         "type": "scatter3d",
         "x": {
          "bdata": "YOXQItvJScBg5dAi28lJwBkEVg4t8kjAGQRWDi3ySMBg5dAi28lJwA==",
          "dtype": "f8"
         },
         "y": {
          "bdata": "bef7qfGyMkBt5/up8bIyQNNNYhBYuTJA001iEFi5MkBt5/up8bIyQA==",
          "dtype": "f8"
         },
         "z": {
          "bdata": "0SLb+X5qCEBU46WbxKAaQFTjpZvEoBpA0SLb+X5qCEDRItv5fmoIQA==",
          "dtype": "f8"
         }
        },
        {
         "hoverinfo": "text",
         "line": {
          "color": "red"
         },
         "mode": "lines",
         "name": "partly_wall (ID: 168)",
         "text": [
          "ID: 168",
          "ID: 168",
          "ID: 168",
          "ID: 168",
          "ID: 168"
         ],
         "type": "scatter3d",
         "x": {
          "bdata": "GQRWDi3ySMAZBFYOLfJIwI2XbhKD8EjAjZduEoPwSMAZBFYOLfJIwA==",
          "dtype": "f8"
         },
         "y": {
          "bdata": "001iEFi5MkDTTWIQWLkyQC/dJAaBlTFAL90kBoGVMUDTTWIQWLkyQA==",
          "dtype": "f8"
         },
         "z": {
          "bdata": "0SLb+X5qCEBU46WbxKAaQFTjpZvEoBpA0SLb+X5qCEDRItv5fmoIQA==",
          "dtype": "f8"
         }
        },
        {
         "hoverinfo": "text",
         "line": {
          "color": "red"
         },
         "mode": "lines",
         "name": "partly_wall (ID: 169)",
         "text": [
          "ID: 169",
          "ID: 169",
          "ID: 169",
          "ID: 169",
          "ID: 169"
         ],
         "type": "scatter3d",
         "x": {
          "bdata": "jZduEoPwSMCNl24Sg/BIwKAaL90kxknAoBov3STGScCNl24Sg/BIwA==",
          "dtype": "f8"
         },
         "y": {
          "bdata": "L90kBoGVMUAv3SQGgZUxQMUgsHJokTFAxSCwcmiRMUAv3SQGgZUxQA==",
          "dtype": "f8"
         },
         "z": {
          "bdata": "0SLb+X5qCEBU46WbxKAaQFTjpZvEoBpA0SLb+X5qCEDRItv5fmoIQA==",
          "dtype": "f8"
         }
        },
        {
         "hoverinfo": "text",
         "line": {
          "color": "red"
         },
         "mode": "lines",
         "name": "partly_wall (ID: 173)",
         "text": [
          "ID: 173",
          "ID: 173",
          "ID: 173",
          "ID: 173",
          "ID: 173"
         ],
         "type": "scatter3d",
         "x": {
          "bdata": "rBxaZDt/QsCsHFpkO39CwMdLN4lBkEHAx0s3iUGQQcCsHFpkO39CwA==",
          "dtype": "f8"
         },
         "y": {
          "bdata": "+n5qvHQTNED6fmq8dBM0QEJg5dAiGzRAQmDl0CIbNED6fmq8dBM0QA==",
          "dtype": "f8"
         },
         "z": {
          "bdata": "0SLb+X5qCEBU46WbxKAaQFTjpZvEoBpA0SLb+X5qCEDRItv5fmoIQA==",
          "dtype": "f8"
         }
        },
        {
         "hoverinfo": "text",
         "line": {
          "color": "red"
         },
         "mode": "lines",
         "name": "partly_wall (ID: 174)",
         "text": [
          "ID: 174",
          "ID: 174",
          "ID: 174",
          "ID: 174",
          "ID: 174"
         ],
         "type": "scatter3d",
         "x": {
          "bdata": "x0s3iUGQQcDHSzeJQZBBwFYOLbKdj0HAVg4tsp2PQcDHSzeJQZBBwA==",
          "dtype": "f8"
         },
         "y": {
          "bdata": "QmDl0CIbNEBCYOXQIhs0QOkmMQis/DJA6SYxCKz8MkBCYOXQIhs0QA==",
          "dtype": "f8"
         },
         "z": {
          "bdata": "0SLb+X5qCEBU46WbxKAaQFTjpZvEoBpA0SLb+X5qCEDRItv5fmoIQA==",
          "dtype": "f8"
         }
        },
        {
         "hoverinfo": "text",
         "line": {
          "color": "red"
         },
         "mode": "lines",
         "name": "partly_wall (ID: 175)",
         "text": [
          "ID: 175",
          "ID: 175",
          "ID: 175",
          "ID: 175",
          "ID: 175"
         ],
         "type": "scatter3d",
         "x": {
          "bdata": "Vg4tsp2PQcBWDi2ynY9BwAAAAAAA0EHAAAAAAADQQcBWDi2ynY9BwA==",
          "dtype": "f8"
         },
         "y": {
          "bdata": "6SYxCKz8MkDpJjEIrPwyQJqZmZmZ+TJAmpmZmZn5MkDpJjEIrPwyQA==",
          "dtype": "f8"
         },
         "z": {
          "bdata": "0SLb+X5qCEBU46WbxKAaQFTjpZvEoBpA0SLb+X5qCEDRItv5fmoIQA==",
          "dtype": "f8"
         }
        },
        {
         "hoverinfo": "text",
         "line": {
          "color": "red"
         },
         "mode": "lines",
         "name": "partly_wall (ID: 176)",
         "text": [
          "ID: 176",
          "ID: 176",
          "ID: 176",
          "ID: 176",
          "ID: 176"
         ],
         "type": "scatter3d",
         "x": {
          "bdata": "AAAAAADQQcAIrBxaZMtBwAisHFpky0HAAAAAAADQQcAAAAAAANBBwA==",
          "dtype": "f8"
         },
         "y": {
          "bdata": "mpmZmZn5MkBEi2zn+6kwQESLbOf7qTBAmpmZmZn5MkCamZmZmfkyQA==",
          "dtype": "f8"
         },
         "z": {
          "bdata": "VOOlm8SgGkBU46WbxKAaQNEi2/l+aghA0SLb+X5qCEBU46WbxKAaQA==",
          "dtype": "f8"
         }
        },
        {
         "hoverinfo": "text",
         "line": {
          "color": "orange"
         },
         "mode": "lines",
         "name": "partly_wall_with_hole (ID: 176)",
         "text": [
          "ID: 176",
          "ID: 176",
          "ID: 176",
          "ID: 176",
          "ID: 176"
         ],
         "type": "scatter3d",
         "x": {
          "bdata": "CKwcWmTLQcAIrBxaZMtBwAAAAAAA0EHAAAAAAADQQcAIrBxaZMtBwA==",
          "dtype": "f8"
         },
         "y": {
          "bdata": "RIts5/upMEBEi2zn+6kwQJqZmZmZ+TJAmpmZmZn5MkBEi2zn+6kwQA==",
          "dtype": "f8"
         },
         "z": {
          "bdata": "VOOlm8SgGkDRItv5fmoIQNEi2/l+aghAVOOlm8SgGkBU46WbxKAaQA==",
          "dtype": "f8"
         }
        },
        {
         "hoverinfo": "text",
         "line": {
          "color": "orange"
         },
         "mode": "lines",
         "name": "partly_wall_with_hole (ID: 176)",
         "text": [
          "ID: 176",
          "ID: 176",
          "ID: 176",
          "ID: 176",
          "ID: 176"
         ],
         "type": "scatter3d",
         "x": {
          "bdata": "ScBvBM/NQcBJwG8Ez81BwBxxyArRz0HAHHHICtHPQcBJwG8Ez81BwA==",
          "dtype": "f8"
         },
         "y": {
          "bdata": "1sGIqEHgMUDWwYioQeAxQA0357oM4jJADTfnugziMkDWwYioQeAxQA==",
          "dtype": "f8"
         },
         "z": {
          "bdata": "f2q8dJOYGkA3iUFg5dANQDeJQWDl0A1Af2q8dJOYGkB/arx0k5gaQA==",
          "dtype": "f8"
         }
        },
        {
         "hoverinfo": "text",
         "line": {
          "color": "red"
         },
         "mode": "lines",
         "name": "partly_wall (ID: 178)",
         "text": [
          "ID: 178",
          "ID: 178",
          "ID: 178",
          "ID: 178",
          "ID: 178"
         ],
         "type": "scatter3d",
         "x": {
          "bdata": "CKwcWmTLQcAIrBxaZMtBwNEi2/l+ekLA0SLb+X56QsAIrBxaZMtBwA==",
          "dtype": "f8"
         },
         "y": {
          "bdata": "RIts5/upMEBEi2zn+6kwQL6fGi/dpDBAvp8aL92kMEBEi2zn+6kwQA==",
          "dtype": "f8"
         },
         "z": {
          "bdata": "0SLb+X5qCEBU46WbxKAaQFTjpZvEoBpA0SLb+X5qCEDRItv5fmoIQA==",
          "dtype": "f8"
         }
        },
        {
         "hoverinfo": "text",
         "line": {
          "color": "red"
         },
         "mode": "lines",
         "name": "partly_wall (ID: 179)",
         "text": [
          "ID: 179",
          "ID: 179",
          "ID: 179",
          "ID: 179",
          "ID: 179"
         ],
         "type": "scatter3d",
         "x": {
          "bdata": "0SLb+X56QsDRItv5fnpCwKwcWmQ7f0LArBxaZDt/QsDRItv5fnpCwA==",
          "dtype": "f8"
         },
         "y": {
          "bdata": "vp8aL92kMEC+nxov3aQwQPp+arx0EzRA+n5qvHQTNEC+nxov3aQwQA==",
          "dtype": "f8"
         },
         "z": {
          "bdata": "0SLb+X5qCEBU46WbxKAaQFTjpZvEoBpA0SLb+X5qCEDRItv5fmoIQA==",
          "dtype": "f8"
         }
        },
        {
         "hoverinfo": "text",
         "line": {
          "color": "gray"
         },
         "mode": "lines",
         "name": "door (ID: 177)",
         "text": [
          "ID: 177",
          "ID: 177",
          "ID: 177",
          "ID: 177",
          "ID: 177"
         ],
         "type": "scatter3d",
         "x": {
          "bdata": "5/up8dLNQcAdWmQ7389BwB1aZDvfz0HA5/up8dLNQcDn+6nx0s1BwA==",
          "dtype": "f8"
         },
         "y": {
          "bdata": "x0s3iUHgMUA1XrpJDOIyQDVeukkM4jJAx0s3iUHgMUDHSzeJQeAxQA==",
          "dtype": "f8"
         },
         "z": {
          "bdata": "N4lBYOXQDUA3iUFg5dANQH9qvHSTmBpAf2q8dJOYGkA3iUFg5dANQA==",
          "dtype": "f8"
         }
        },
        {
         "hoverinfo": "text",
         "line": {
          "color": "red"
         },
         "mode": "lines",
         "name": "partly_wall (ID: 183)",
         "text": [
          "ID: 183",
          "ID: 183",
          "ID: 183",
          "ID: 183",
          "ID: 183"
         ],
         "type": "scatter3d",
         "x": {
          "bdata": "x0s3iUGQQcDHSzeJQZBBwNejcD0K10DA16NwPQrXQMDHSzeJQZBBwA==",
          "dtype": "f8"
         },
         "y": {
          "bdata": "QmDl0CIbNEBCYOXQIhs0QBsv3SQGITRAGy/dJAYhNEBCYOXQIhs0QA==",
          "dtype": "f8"
         },
         "z": {
          "bdata": "0SLb+X5qCEBU46WbxKAaQFTjpZvEoBpA0SLb+X5qCEDRItv5fmoIQA==",
          "dtype": "f8"
         }
        },
        {
         "hoverinfo": "text",
         "line": {
          "color": "red"
         },
         "mode": "lines",
         "name": "partly_wall (ID: 184)",
         "text": [
          "ID: 184",
          "ID: 184",
          "ID: 184",
          "ID: 184",
          "ID: 184"
         ],
         "type": "scatter3d",
         "x": {
          "bdata": "16NwPQrXQMDXo3A9CtdAwBSuR+F61EDAFK5H4XrUQMDXo3A9CtdAwA==",
          "dtype": "f8"
         },
         "y": {
          "bdata": "Gy/dJAYhNEAbL90kBiE0QEw3iUFgBTNATDeJQWAFM0AbL90kBiE0QA==",
          "dtype": "f8"
         },
         "z": {
          "bdata": "0SLb+X5qCEBU46WbxKAaQFTjpZvEoBpA0SLb+X5qCEDRItv5fmoIQA==",
          "dtype": "f8"
         }
        },
        {
         "hoverinfo": "text",
         "line": {
          "color": "red"
         },
         "mode": "lines",
         "name": "partly_wall (ID: 185)",
         "text": [
          "ID: 185",
          "ID: 185",
          "ID: 185",
          "ID: 185",
          "ID: 185"
         ],
         "type": "scatter3d",
         "x": {
          "bdata": "FK5H4XrUQMAUrkfhetRAwFYOLbKdj0HAVg4tsp2PQcAUrkfhetRAwA==",
          "dtype": "f8"
         },
         "y": {
          "bdata": "TDeJQWAFM0BMN4lBYAUzQOkmMQis/DJA6SYxCKz8MkBMN4lBYAUzQA==",
          "dtype": "f8"
         },
         "z": {
          "bdata": "0SLb+X5qCEBU46WbxKAaQFTjpZvEoBpA0SLb+X5qCEDRItv5fmoIQA==",
          "dtype": "f8"
         }
        },
        {
         "hoverinfo": "text",
         "line": {
          "color": "red"
         },
         "mode": "lines",
         "name": "partly_wall (ID: 186)",
         "text": [
          "ID: 186",
          "ID: 186",
          "ID: 186",
          "ID: 186",
          "ID: 186"
         ],
         "type": "scatter3d",
         "x": {
          "bdata": "Vg4tsp2PQcBWDi2ynY9BwMdLN4lBkEHAx0s3iUGQQcBWDi2ynY9BwA==",
          "dtype": "f8"
         },
         "y": {
          "bdata": "6SYxCKz8MkDpJjEIrPwyQEJg5dAiGzRAQmDl0CIbNEDpJjEIrPwyQA==",
          "dtype": "f8"
         },
         "z": {
          "bdata": "0SLb+X5qCEBU46WbxKAaQFTjpZvEoBpA0SLb+X5qCEDRItv5fmoIQA==",
          "dtype": "f8"
         }
        },
        {
         "hoverinfo": "text",
         "line": {
          "color": "red"
         },
         "mode": "lines",
         "name": "partly_wall (ID: 190)",
         "text": [
          "ID: 190",
          "ID: 190",
          "ID: 190",
          "ID: 190",
          "ID: 190"
         ],
         "type": "scatter3d",
         "x": {
          "bdata": "16NwPQrXQMCamZmZmbk/wJqZmZmZuT/A16NwPQrXQMDXo3A9CtdAwA==",
          "dtype": "f8"
         },
         "y": {
          "bdata": "Gy/dJAYhNEApXI/C9Sg0QClcj8L1KDRAGy/dJAYhNEAbL90kBiE0QA==",
          "dtype": "f8"
         },
         "z": {
          "bdata": "VOOlm8SgGkBU46WbxKAaQNEi2/l+aghA0SLb+X5qCEBU46WbxKAaQA==",
          "dtype": "f8"
         }
        },
        {
         "hoverinfo": "text",
         "line": {
          "color": "orange"
         },
         "mode": "lines",
         "name": "partly_wall_with_hole (ID: 190)",
         "text": [
          "ID: 190",
          "ID: 190",
          "ID: 190",
          "ID: 190",
          "ID: 190"
         ],
         "type": "scatter3d",
         "x": {
          "bdata": "mpmZmZm5P8DXo3A9CtdAwNejcD0K10DAmpmZmZm5P8CamZmZmbk/wA==",
          "dtype": "f8"
         },
         "y": {
          "bdata": "KVyPwvUoNEAbL90kBiE0QBsv3SQGITRAKVyPwvUoNEApXI/C9Sg0QA==",
          "dtype": "f8"
         },
         "z": {
          "bdata": "VOOlm8SgGkBU46WbxKAaQNEi2/l+aghA0SLb+X5qCEBU46WbxKAaQA==",
          "dtype": "f8"
         }
        },
        {
         "hoverinfo": "text",
         "line": {
          "color": "orange"
         },
         "mode": "lines",
         "name": "partly_wall_with_hole (ID: 190)",
         "text": [
          "ID: 190",
          "ID: 190",
          "ID: 190",
          "ID: 190",
          "ID: 190"
         ],
         "type": "scatter3d",
         "x": {
          "bdata": "FVU5JA7tP8Af6kjHHmVAwB/qSMceZUDAFVU5JA7tP8AVVTkkDu0/wA==",
          "dtype": "f8"
         },
         "y": {
          "bdata": "qP3M4iQoNEAk9mIFoyQ0QCT2YgWjJDRAqP3M4iQoNECo/cziJCg0QA==",
          "dtype": "f8"
         },
         "z": {
          "bdata": "mG4Sg8BKF0CYbhKDwEoXQNnO91PjpQhA2c73U+OlCECYbhKDwEoXQA==",
          "dtype": "f8"
         }
        },
        {
         "hoverinfo": "text",
         "line": {
          "color": "blue"
         },
         "mode": "lines",
         "name": "external (ID: 192)",
         "text": [
          "ID: 192",
          "ID: 192",
          "ID: 192",
          "ID: 192",
          "ID: 192"
         ],
         "type": "scatter3d",
         "x": {
          "bdata": "mpmZmZm5P8Db+X5qvLQ/wNv5fmq8tD/AmpmZmZm5P8CamZmZmbk/wA==",
          "dtype": "f8"
         },
         "y": {
          "bdata": "KVyPwvUoNEAIrBxaZHsyQAisHFpkezJAKVyPwvUoNEApXI/C9Sg0QA==",
          "dtype": "f8"
         },
         "z": {
          "bdata": "VOOlm8SgGkBU46WbxKAaQNEi2/l+aghA0SLb+X5qCEBU46WbxKAaQA==",
          "dtype": "f8"
         }
        },
        {
         "hoverinfo": "text",
         "line": {
          "color": "red"
         },
         "mode": "lines",
         "name": "partly_wall (ID: 193)",
         "text": [
          "ID: 193",
          "ID: 193",
          "ID: 193",
          "ID: 193",
          "ID: 193"
         ],
         "type": "scatter3d",
         "x": {
          "bdata": "2/l+ary0P8Db+X5qvLQ/wFCNl24S00DAUI2XbhLTQMDb+X5qvLQ/wA==",
          "dtype": "f8"
         },
         "y": {
          "bdata": "CKwcWmR7MkAIrBxaZHsyQCuHFtnOdzJAK4cW2c53MkAIrBxaZHsyQA==",
          "dtype": "f8"
         },
         "z": {
          "bdata": "0SLb+X5qCEBU46WbxKAaQFTjpZvEoBpA0SLb+X5qCEDRItv5fmoIQA==",
          "dtype": "f8"
         }
        },
        {
         "hoverinfo": "text",
         "line": {
          "color": "red"
         },
         "mode": "lines",
         "name": "partly_wall (ID: 194)",
         "text": [
          "ID: 194",
          "ID: 194",
          "ID: 194",
          "ID: 194",
          "ID: 194"
         ],
         "type": "scatter3d",
         "x": {
          "bdata": "UI2XbhLTQMBQjZduEtNAwBSuR+F61EDAFK5H4XrUQMBQjZduEtNAwA==",
          "dtype": "f8"
         },
         "y": {
          "bdata": "K4cW2c53MkArhxbZzncyQEw3iUFgBTNATDeJQWAFM0ArhxbZzncyQA==",
          "dtype": "f8"
         },
         "z": {
          "bdata": "0SLb+X5qCEBU46WbxKAaQFTjpZvEoBpA0SLb+X5qCEDRItv5fmoIQA==",
          "dtype": "f8"
         }
        },
        {
         "hoverinfo": "text",
         "line": {
          "color": "red"
         },
         "mode": "lines",
         "name": "partly_wall (ID: 195)",
         "text": [
          "ID: 195",
          "ID: 195",
          "ID: 195",
          "ID: 195",
          "ID: 195"
         ],
         "type": "scatter3d",
         "x": {
          "bdata": "FK5H4XrUQMAUrkfhetRAwNejcD0K10DA16NwPQrXQMAUrkfhetRAwA==",
          "dtype": "f8"
         },
         "y": {
          "bdata": "TDeJQWAFM0BMN4lBYAUzQBsv3SQGITRAGy/dJAYhNEBMN4lBYAUzQA==",
          "dtype": "f8"
         },
         "z": {
          "bdata": "0SLb+X5qCEBU46WbxKAaQFTjpZvEoBpA0SLb+X5qCEDRItv5fmoIQA==",
          "dtype": "f8"
         }
        },
        {
         "hoverinfo": "text",
         "line": {
          "color": "gray"
         },
         "mode": "lines",
         "name": "door (ID: 191)",
         "text": [
          "ID: 191",
          "ID: 191",
          "ID: 191",
          "ID: 191",
          "ID: 191"
         ],
         "type": "scatter3d",
         "x": {
          "bdata": "kxgEVg7tP8CF61G4HmVAwIXrUbgeZUDAkxgEVg7tP8CTGARWDu0/wA==",
          "dtype": "f8"
         },
         "y": {
          "bdata": "1XjpJjEoNED4U+OlmyQ0QPhT46WbJDRA1XjpJjEoNEDVeOkmMSg0QA==",
          "dtype": "f8"
         },
         "z": {
          "bdata": "2c73U+OlCEDZzvdT46UIQJhuEoPAShdAmG4Sg8BKF0DZzvdT46UIQA==",
          "dtype": "f8"
         }
        },
        {
         "hoverinfo": "text",
         "line": {
          "color": "red"
         },
         "mode": "lines",
         "name": "partly_wall (ID: 199)",
         "text": [
          "ID: 199",
          "ID: 199",
          "ID: 199",
          "ID: 199",
          "ID: 199"
         ],
         "type": "scatter3d",
         "x": {
          "bdata": "AAAAAADQQcAAAAAAANBBwFYOLbKdj0HAVg4tsp2PQcAAAAAAANBBwA==",
          "dtype": "f8"
         },
         "y": {
          "bdata": "mpmZmZn5MkCamZmZmfkyQOkmMQis/DJA6SYxCKz8MkCamZmZmfkyQA==",
          "dtype": "f8"
         },
         "z": {
          "bdata": "0SLb+X5qCEBU46WbxKAaQFTjpZvEoBpA0SLb+X5qCEDRItv5fmoIQA==",
          "dtype": "f8"
         }
        },
        {
         "hoverinfo": "text",
         "line": {
          "color": "red"
         },
         "mode": "lines",
         "name": "partly_wall (ID: 200)",
         "text": [
          "ID: 200",
          "ID: 200",
          "ID: 200",
          "ID: 200",
          "ID: 200"
         ],
         "type": "scatter3d",
         "x": {
          "bdata": "Vg4tsp2PQcBWDi2ynY9BwBSuR+F61EDAFK5H4XrUQMBWDi2ynY9BwA==",
          "dtype": "f8"
         },
         "y": {
          "bdata": "6SYxCKz8MkDpJjEIrPwyQEw3iUFgBTNATDeJQWAFM0DpJjEIrPwyQA==",
          "dtype": "f8"
         },
         "z": {
          "bdata": "0SLb+X5qCEBU46WbxKAaQFTjpZvEoBpA0SLb+X5qCEDRItv5fmoIQA==",
          "dtype": "f8"
         }
        },
        {
         "hoverinfo": "text",
         "line": {
          "color": "red"
         },
         "mode": "lines",
         "name": "partly_wall (ID: 201)",
         "text": [
          "ID: 201",
          "ID: 201",
          "ID: 201",
          "ID: 201",
          "ID: 201"
         ],
         "type": "scatter3d",
         "x": {
          "bdata": "FK5H4XrUQMAUrkfhetRAwFCNl24S00DAUI2XbhLTQMAUrkfhetRAwA==",
          "dtype": "f8"
         },
         "y": {
          "bdata": "TDeJQWAFM0BMN4lBYAUzQCuHFtnOdzJAK4cW2c53MkBMN4lBYAUzQA==",
          "dtype": "f8"
         },
         "z": {
          "bdata": "0SLb+X5qCEBU46WbxKAaQFTjpZvEoBpA0SLb+X5qCEDRItv5fmoIQA==",
          "dtype": "f8"
         }
        },
        {
         "hoverinfo": "text",
         "line": {
          "color": "red"
         },
         "mode": "lines",
         "name": "partly_wall (ID: 202)",
         "text": [
          "ID: 202",
          "ID: 202",
          "ID: 202",
          "ID: 202",
          "ID: 202"
         ],
         "type": "scatter3d",
         "x": {
          "bdata": "UI2XbhLTQMBQjZduEtNAwOXQItv5zkDA5dAi2/nOQMBQjZduEtNAwA==",
          "dtype": "f8"
         },
         "y": {
          "bdata": "K4cW2c53MkArhxbZzncyQP7UeOkmsTBA/tR46SaxMEArhxbZzncyQA==",
          "dtype": "f8"
         },
         "z": {
          "bdata": "0SLb+X5qCEBU46WbxKAaQFTjpZvEoBpA0SLb+X5qCEDRItv5fmoIQA==",
          "dtype": "f8"
         }
        },
        {
         "hoverinfo": "text",
         "line": {
          "color": "red"
         },
         "mode": "lines",
         "name": "partly_wall (ID: 203)",
         "text": [
          "ID: 203",
          "ID: 203",
          "ID: 203",
          "ID: 203",
          "ID: 203"
         ],
         "type": "scatter3d",
         "x": {
          "bdata": "5dAi2/nOQMDl0CLb+c5AwAisHFpky0HACKwcWmTLQcDl0CLb+c5AwA==",
          "dtype": "f8"
         },
         "y": {
          "bdata": "/tR46SaxMED+1HjpJrEwQESLbOf7qTBARIts5/upMED+1HjpJrEwQA==",
          "dtype": "f8"
         },
         "z": {
          "bdata": "0SLb+X5qCEBU46WbxKAaQFTjpZvEoBpA0SLb+X5qCEDRItv5fmoIQA==",
          "dtype": "f8"
         }
        },
        {
         "hoverinfo": "text",
         "line": {
          "color": "red"
         },
         "mode": "lines",
         "name": "partly_wall (ID: 204)",
         "text": [
          "ID: 204",
          "ID: 204",
          "ID: 204",
          "ID: 204",
          "ID: 204"
         ],
         "type": "scatter3d",
         "x": {
          "bdata": "CKwcWmTLQcAAAAAAANBBwAAAAAAA0EHACKwcWmTLQcAIrBxaZMtBwA==",
          "dtype": "f8"
         },
         "y": {
          "bdata": "RIts5/upMECamZmZmfkyQJqZmZmZ+TJARIts5/upMEBEi2zn+6kwQA==",
          "dtype": "f8"
         },
         "z": {
          "bdata": "VOOlm8SgGkBU46WbxKAaQNEi2/l+aghA0SLb+X5qCEBU46WbxKAaQA==",
          "dtype": "f8"
         }
        },
        {
         "hoverinfo": "text",
         "line": {
          "color": "orange"
         },
         "mode": "lines",
         "name": "partly_wall_with_hole (ID: 204)",
         "text": [
          "ID: 204",
          "ID: 204",
          "ID: 204",
          "ID: 204",
          "ID: 204"
         ],
         "type": "scatter3d",
         "x": {
          "bdata": "AAAAAADQQcAAAAAAANBBwAisHFpky0HACKwcWmTLQcAAAAAAANBBwA==",
          "dtype": "f8"
         },
         "y": {
          "bdata": "mpmZmZn5MkCamZmZmfkyQESLbOf7qTBARIts5/upMECamZmZmfkyQA==",
          "dtype": "f8"
         },
         "z": {
          "bdata": "VOOlm8SgGkDRItv5fmoIQNEi2/l+aghAVOOlm8SgGkBU46WbxKAaQA==",
          "dtype": "f8"
         }
        },
        {
         "hoverinfo": "text",
         "line": {
          "color": "orange"
         },
         "mode": "lines",
         "name": "partly_wall_with_hole (ID: 204)",
         "text": [
          "ID: 204",
          "ID: 204",
          "ID: 204",
          "ID: 204",
          "ID: 204"
         ],
         "type": "scatter3d",
         "x": {
          "bdata": "HHHICtHPQcBJwG8Ez81BwEnAbwTPzUHAHHHICtHPQcAcccgK0c9BwA==",
          "dtype": "f8"
         },
         "y": {
          "bdata": "DTfnugziMkDWwYioQeAxQNbBiKhB4DFADTfnugziMkANN+e6DOIyQA==",
          "dtype": "f8"
         },
         "z": {
          "bdata": "N4lBYOXQDUA3iUFg5dANQH9qvHSTmBpAf2q8dJOYGkA3iUFg5dANQA==",
          "dtype": "f8"
         }
        },
        {
         "hoverinfo": "text",
         "line": {
          "color": "gray"
         },
         "mode": "lines",
         "name": "door (ID: 205)",
         "text": [
          "ID: 205",
          "ID: 205",
          "ID: 205",
          "ID: 205",
          "ID: 205"
         ],
         "type": "scatter3d",
         "x": {
          "bdata": "5/up8dLNQcDn+6nx0s1BwB1aZDvfz0HAHVpkO9/PQcDn+6nx0s1BwA==",
          "dtype": "f8"
         },
         "y": {
          "bdata": "x0s3iUHgMUDHSzeJQeAxQDVeukkM4jJANV66SQziMkDHSzeJQeAxQA==",
          "dtype": "f8"
         },
         "z": {
          "bdata": "N4lBYOXQDUB/arx0k5gaQH9qvHSTmBpAN4lBYOXQDUA3iUFg5dANQA==",
          "dtype": "f8"
         }
        },
        {
         "hoverinfo": "text",
         "line": {
          "color": "red"
         },
         "mode": "lines",
         "name": "partly_wall (ID: 209)",
         "text": [
          "ID: 209",
          "ID: 209",
          "ID: 209",
          "ID: 209",
          "ID: 209"
         ],
         "type": "scatter3d",
         "x": {
          "bdata": "5dAi2/nOQMDl0CLb+c5AwFCNl24S00DAUI2XbhLTQMDl0CLb+c5AwA==",
          "dtype": "f8"
         },
         "y": {
          "bdata": "/tR46SaxMED+1HjpJrEwQCuHFtnOdzJAK4cW2c53MkD+1HjpJrEwQA==",
          "dtype": "f8"
         },
         "z": {
          "bdata": "0SLb+X5qCEBU46WbxKAaQFTjpZvEoBpA0SLb+X5qCEDRItv5fmoIQA==",
          "dtype": "f8"
         }
        },
        {
         "hoverinfo": "text",
         "line": {
          "color": "red"
         },
         "mode": "lines",
         "name": "partly_wall (ID: 210)",
         "text": [
          "ID: 210",
          "ID: 210",
          "ID: 210",
          "ID: 210",
          "ID: 210"
         ],
         "type": "scatter3d",
         "x": {
          "bdata": "UI2XbhLTQMBQjZduEtNAwNv5fmq8tD/A2/l+ary0P8BQjZduEtNAwA==",
          "dtype": "f8"
         },
         "y": {
          "bdata": "K4cW2c53MkArhxbZzncyQAisHFpkezJACKwcWmR7MkArhxbZzncyQA==",
          "dtype": "f8"
         },
         "z": {
          "bdata": "0SLb+X5qCEBU46WbxKAaQFTjpZvEoBpA0SLb+X5qCEDRItv5fmoIQA==",
          "dtype": "f8"
         }
        },
        {
         "hoverinfo": "text",
         "line": {
          "color": "blue"
         },
         "mode": "lines",
         "name": "external (ID: 211)",
         "text": [
          "ID: 211",
          "ID: 211",
          "ID: 211",
          "ID: 211",
          "ID: 211"
         ],
         "type": "scatter3d",
         "x": {
          "bdata": "2/l+ary0P8Db+X5qvLQ/wFYOLbKdrz/AVg4tsp2vP8Db+X5qvLQ/wA==",
          "dtype": "f8"
         },
         "y": {
          "bdata": "CKwcWmR7MkAIrBxaZHsyQLgehetRuDBAuB6F61G4MEAIrBxaZHsyQA==",
          "dtype": "f8"
         },
         "z": {
          "bdata": "0SLb+X5qCEBU46WbxKAaQFTjpZvEoBpA0SLb+X5qCEDRItv5fmoIQA==",
          "dtype": "f8"
         }
        },
        {
         "hoverinfo": "text",
         "line": {
          "color": "red"
         },
         "mode": "lines",
         "name": "partly_wall (ID: 212)",
         "text": [
          "ID: 212",
          "ID: 212",
          "ID: 212",
          "ID: 212",
          "ID: 212"
         ],
         "type": "scatter3d",
         "x": {
          "bdata": "Vg4tsp2vP8BWDi2yna8/wOXQItv5zkDA5dAi2/nOQMBWDi2yna8/wA==",
          "dtype": "f8"
         },
         "y": {
          "bdata": "uB6F61G4MEC4HoXrUbgwQP7UeOkmsTBA/tR46SaxMEC4HoXrUbgwQA==",
          "dtype": "f8"
         },
         "z": {
          "bdata": "0SLb+X5qCEBU46WbxKAaQFTjpZvEoBpA0SLb+X5qCEDRItv5fmoIQA==",
          "dtype": "f8"
         }
        },
        {
         "hoverinfo": "text",
         "line": {
          "color": "red"
         },
         "mode": "lines",
         "name": "partly_wall (ID: 216)",
         "text": [
          "ID: 216",
          "ID: 216",
          "ID: 216",
          "ID: 216",
          "ID: 216"
         ],
         "type": "scatter3d",
         "x": {
          "bdata": "GQRWDi3ySMAZBFYOLfJIwGDl0CLbyUnAYOXQItvJScAZBFYOLfJIwA==",
          "dtype": "f8"
         },
         "y": {
          "bdata": "001iEFi5MkDTTWIQWLkyQG3n+6nxsjJAbef7qfGyMkDTTWIQWLkyQA==",
          "dtype": "f8"
         },
         "z": {
          "bdata": "0SLb+X5qCEBU46WbxKAaQFTjpZvEoBpA0SLb+X5qCEDRItv5fmoIQA==",
          "dtype": "f8"
         }
        },
        {
         "hoverinfo": "text",
         "line": {
          "color": "red"
         },
         "mode": "lines",
         "name": "partly_wall (ID: 217)",
         "text": [
          "ID: 217",
          "ID: 217",
          "ID: 217",
          "ID: 217",
          "ID: 217"
         ],
         "type": "scatter3d",
         "x": {
          "bdata": "YOXQItvJScBg5dAi28lJwOf7qfHSzUnA5/up8dLNScBg5dAi28lJwA==",
          "dtype": "f8"
         },
         "y": {
          "bdata": "bef7qfGyMkBt5/up8bIyQARWDi2y3TNABFYOLbLdM0Bt5/up8bIyQA==",
          "dtype": "f8"
         },
         "z": {
          "bdata": "0SLb+X5qCEBU46WbxKAaQFTjpZvEoBpA0SLb+X5qCEDRItv5fmoIQA==",
          "dtype": "f8"
         }
        },
        {
         "hoverinfo": "text",
         "line": {
          "color": "red"
         },
         "mode": "lines",
         "name": "partly_wall (ID: 218)",
         "text": [
          "ID: 218",
          "ID: 218",
          "ID: 218",
          "ID: 218",
          "ID: 218"
         ],
         "type": "scatter3d",
         "x": {
          "bdata": "5/up8dLNScDn+6nx0s1JwIcW2c7380jAhxbZzvfzSMDn+6nx0s1JwA==",
          "dtype": "f8"
         },
         "y": {
          "bdata": "BFYOLbLdM0AEVg4tst0zQPhT46Wb5DNA+FPjpZvkM0AEVg4tst0zQA==",
          "dtype": "f8"
         },
         "z": {
          "bdata": "0SLb+X5qCEBU46WbxKAaQFTjpZvEoBpA0SLb+X5qCEDRItv5fmoIQA==",
          "dtype": "f8"
         }
        },
        {
         "hoverinfo": "text",
         "line": {
          "color": "red"
         },
         "mode": "lines",
         "name": "partly_wall (ID: 219)",
         "text": [
          "ID: 219",
          "ID: 219",
          "ID: 219",
          "ID: 219",
          "ID: 219"
         ],
         "type": "scatter3d",
         "x": {
          "bdata": "hxbZzvfzSMCHFtnO9/NIwBkEVg4t8kjAGQRWDi3ySMCHFtnO9/NIwA==",
          "dtype": "f8"
         },
         "y": {
          "bdata": "+FPjpZvkM0D4U+Olm+QzQNNNYhBYuTJA001iEFi5MkD4U+Olm+QzQA==",
          "dtype": "f8"
         },
         "z": {
          "bdata": "0SLb+X5qCEBU46WbxKAaQFTjpZvEoBpA0SLb+X5qCEDRItv5fmoIQA==",
          "dtype": "f8"
         }
        }
       ],
       "layout": {
        "height": 800,
        "legend": {
         "title": {
          "text": "Thematic Surface"
         }
        },
        "scene": {
         "aspectmode": "manual",
         "aspectratio": {
          "x": 1,
          "y": 0.8015228253849555,
          "z": 0.12253985542525914
         },
         "xaxis": {
          "title": {
           "text": "X"
          }
         },
         "yaxis": {
          "title": {
           "text": "Y"
          }
         },
         "zaxis": {
          "title": {
           "text": "Z"
          }
         }
        },
        "template": {
         "data": {
          "bar": [
           {
            "error_x": {
             "color": "#2a3f5f"
            },
            "error_y": {
             "color": "#2a3f5f"
            },
            "marker": {
             "line": {
              "color": "#E5ECF6",
              "width": 0.5
             },
             "pattern": {
              "fillmode": "overlay",
              "size": 10,
              "solidity": 0.2
             }
            },
            "type": "bar"
           }
          ],
          "barpolar": [
           {
            "marker": {
             "line": {
              "color": "#E5ECF6",
              "width": 0.5
             },
             "pattern": {
              "fillmode": "overlay",
              "size": 10,
              "solidity": 0.2
             }
            },
            "type": "barpolar"
           }
          ],
          "carpet": [
           {
            "aaxis": {
             "endlinecolor": "#2a3f5f",
             "gridcolor": "white",
             "linecolor": "white",
             "minorgridcolor": "white",
             "startlinecolor": "#2a3f5f"
            },
            "baxis": {
             "endlinecolor": "#2a3f5f",
             "gridcolor": "white",
             "linecolor": "white",
             "minorgridcolor": "white",
             "startlinecolor": "#2a3f5f"
            },
            "type": "carpet"
           }
          ],
          "choropleth": [
           {
            "colorbar": {
             "outlinewidth": 0,
             "ticks": ""
            },
            "type": "choropleth"
           }
          ],
          "contour": [
           {
            "colorbar": {
             "outlinewidth": 0,
             "ticks": ""
            },
            "colorscale": [
             [
              0,
              "#0d0887"
             ],
             [
              0.1111111111111111,
              "#46039f"
             ],
             [
              0.2222222222222222,
              "#7201a8"
             ],
             [
              0.3333333333333333,
              "#9c179e"
             ],
             [
              0.4444444444444444,
              "#bd3786"
             ],
             [
              0.5555555555555556,
              "#d8576b"
             ],
             [
              0.6666666666666666,
              "#ed7953"
             ],
             [
              0.7777777777777778,
              "#fb9f3a"
             ],
             [
              0.8888888888888888,
              "#fdca26"
             ],
             [
              1,
              "#f0f921"
             ]
            ],
            "type": "contour"
           }
          ],
          "contourcarpet": [
           {
            "colorbar": {
             "outlinewidth": 0,
             "ticks": ""
            },
            "type": "contourcarpet"
           }
          ],
          "heatmap": [
           {
            "colorbar": {
             "outlinewidth": 0,
             "ticks": ""
            },
            "colorscale": [
             [
              0,
              "#0d0887"
             ],
             [
              0.1111111111111111,
              "#46039f"
             ],
             [
              0.2222222222222222,
              "#7201a8"
             ],
             [
              0.3333333333333333,
              "#9c179e"
             ],
             [
              0.4444444444444444,
              "#bd3786"
             ],
             [
              0.5555555555555556,
              "#d8576b"
             ],
             [
              0.6666666666666666,
              "#ed7953"
             ],
             [
              0.7777777777777778,
              "#fb9f3a"
             ],
             [
              0.8888888888888888,
              "#fdca26"
             ],
             [
              1,
              "#f0f921"
             ]
            ],
            "type": "heatmap"
           }
          ],
          "histogram": [
           {
            "marker": {
             "pattern": {
              "fillmode": "overlay",
              "size": 10,
              "solidity": 0.2
             }
            },
            "type": "histogram"
           }
          ],
          "histogram2d": [
           {
            "colorbar": {
             "outlinewidth": 0,
             "ticks": ""
            },
            "colorscale": [
             [
              0,
              "#0d0887"
             ],
             [
              0.1111111111111111,
              "#46039f"
             ],
             [
              0.2222222222222222,
              "#7201a8"
             ],
             [
              0.3333333333333333,
              "#9c179e"
             ],
             [
              0.4444444444444444,
              "#bd3786"
             ],
             [
              0.5555555555555556,
              "#d8576b"
             ],
             [
              0.6666666666666666,
              "#ed7953"
             ],
             [
              0.7777777777777778,
              "#fb9f3a"
             ],
             [
              0.8888888888888888,
              "#fdca26"
             ],
             [
              1,
              "#f0f921"
             ]
            ],
            "type": "histogram2d"
           }
          ],
          "histogram2dcontour": [
           {
            "colorbar": {
             "outlinewidth": 0,
             "ticks": ""
            },
            "colorscale": [
             [
              0,
              "#0d0887"
             ],
             [
              0.1111111111111111,
              "#46039f"
             ],
             [
              0.2222222222222222,
              "#7201a8"
             ],
             [
              0.3333333333333333,
              "#9c179e"
             ],
             [
              0.4444444444444444,
              "#bd3786"
             ],
             [
              0.5555555555555556,
              "#d8576b"
             ],
             [
              0.6666666666666666,
              "#ed7953"
             ],
             [
              0.7777777777777778,
              "#fb9f3a"
             ],
             [
              0.8888888888888888,
              "#fdca26"
             ],
             [
              1,
              "#f0f921"
             ]
            ],
            "type": "histogram2dcontour"
           }
          ],
          "mesh3d": [
           {
            "colorbar": {
             "outlinewidth": 0,
             "ticks": ""
            },
            "type": "mesh3d"
           }
          ],
          "parcoords": [
           {
            "line": {
             "colorbar": {
              "outlinewidth": 0,
              "ticks": ""
             }
            },
            "type": "parcoords"
           }
          ],
          "pie": [
           {
            "automargin": true,
            "type": "pie"
           }
          ],
          "scatter": [
           {
            "fillpattern": {
             "fillmode": "overlay",
             "size": 10,
             "solidity": 0.2
            },
            "type": "scatter"
           }
          ],
          "scatter3d": [
           {
            "line": {
             "colorbar": {
              "outlinewidth": 0,
              "ticks": ""
             }
            },
            "marker": {
             "colorbar": {
              "outlinewidth": 0,
              "ticks": ""
             }
            },
            "type": "scatter3d"
           }
          ],
          "scattercarpet": [
           {
            "marker": {
             "colorbar": {
              "outlinewidth": 0,
              "ticks": ""
             }
            },
            "type": "scattercarpet"
           }
          ],
          "scattergeo": [
           {
            "marker": {
             "colorbar": {
              "outlinewidth": 0,
              "ticks": ""
             }
            },
            "type": "scattergeo"
           }
          ],
          "scattergl": [
           {
            "marker": {
             "colorbar": {
              "outlinewidth": 0,
              "ticks": ""
             }
            },
            "type": "scattergl"
           }
          ],
          "scattermap": [
           {
            "marker": {
             "colorbar": {
              "outlinewidth": 0,
              "ticks": ""
             }
            },
            "type": "scattermap"
           }
          ],
          "scattermapbox": [
           {
            "marker": {
             "colorbar": {
              "outlinewidth": 0,
              "ticks": ""
             }
            },
            "type": "scattermapbox"
           }
          ],
          "scatterpolar": [
           {
            "marker": {
             "colorbar": {
              "outlinewidth": 0,
              "ticks": ""
             }
            },
            "type": "scatterpolar"
           }
          ],
          "scatterpolargl": [
           {
            "marker": {
             "colorbar": {
              "outlinewidth": 0,
              "ticks": ""
             }
            },
            "type": "scatterpolargl"
           }
          ],
          "scatterternary": [
           {
            "marker": {
             "colorbar": {
              "outlinewidth": 0,
              "ticks": ""
             }
            },
            "type": "scatterternary"
           }
          ],
          "surface": [
           {
            "colorbar": {
             "outlinewidth": 0,
             "ticks": ""
            },
            "colorscale": [
             [
              0,
              "#0d0887"
             ],
             [
              0.1111111111111111,
              "#46039f"
             ],
             [
              0.2222222222222222,
              "#7201a8"
             ],
             [
              0.3333333333333333,
              "#9c179e"
             ],
             [
              0.4444444444444444,
              "#bd3786"
             ],
             [
              0.5555555555555556,
              "#d8576b"
             ],
             [
              0.6666666666666666,
              "#ed7953"
             ],
             [
              0.7777777777777778,
              "#fb9f3a"
             ],
             [
              0.8888888888888888,
              "#fdca26"
             ],
             [
              1,
              "#f0f921"
             ]
            ],
            "type": "surface"
           }
          ],
          "table": [
           {
            "cells": {
             "fill": {
              "color": "#EBF0F8"
             },
             "line": {
              "color": "white"
             }
            },
            "header": {
             "fill": {
              "color": "#C8D4E3"
             },
             "line": {
              "color": "white"
             }
            },
            "type": "table"
           }
          ]
         },
         "layout": {
          "annotationdefaults": {
           "arrowcolor": "#2a3f5f",
           "arrowhead": 0,
           "arrowwidth": 1
          },
          "autotypenumbers": "strict",
          "coloraxis": {
           "colorbar": {
            "outlinewidth": 0,
            "ticks": ""
           }
          },
          "colorscale": {
           "diverging": [
            [
             0,
             "#8e0152"
            ],
            [
             0.1,
             "#c51b7d"
            ],
            [
             0.2,
             "#de77ae"
            ],
            [
             0.3,
             "#f1b6da"
            ],
            [
             0.4,
             "#fde0ef"
            ],
            [
             0.5,
             "#f7f7f7"
            ],
            [
             0.6,
             "#e6f5d0"
            ],
            [
             0.7,
             "#b8e186"
            ],
            [
             0.8,
             "#7fbc41"
            ],
            [
             0.9,
             "#4d9221"
            ],
            [
             1,
             "#276419"
            ]
           ],
           "sequential": [
            [
             0,
             "#0d0887"
            ],
            [
             0.1111111111111111,
             "#46039f"
            ],
            [
             0.2222222222222222,
             "#7201a8"
            ],
            [
             0.3333333333333333,
             "#9c179e"
            ],
            [
             0.4444444444444444,
             "#bd3786"
            ],
            [
             0.5555555555555556,
             "#d8576b"
            ],
            [
             0.6666666666666666,
             "#ed7953"
            ],
            [
             0.7777777777777778,
             "#fb9f3a"
            ],
            [
             0.8888888888888888,
             "#fdca26"
            ],
            [
             1,
             "#f0f921"
            ]
           ],
           "sequentialminus": [
            [
             0,
             "#0d0887"
            ],
            [
             0.1111111111111111,
             "#46039f"
            ],
            [
             0.2222222222222222,
             "#7201a8"
            ],
            [
             0.3333333333333333,
             "#9c179e"
            ],
            [
             0.4444444444444444,
             "#bd3786"
            ],
            [
             0.5555555555555556,
             "#d8576b"
            ],
            [
             0.6666666666666666,
             "#ed7953"
            ],
            [
             0.7777777777777778,
             "#fb9f3a"
            ],
            [
             0.8888888888888888,
             "#fdca26"
            ],
            [
             1,
             "#f0f921"
            ]
           ]
          },
          "colorway": [
           "#636efa",
           "#EF553B",
           "#00cc96",
           "#ab63fa",
           "#FFA15A",
           "#19d3f3",
           "#FF6692",
           "#B6E880",
           "#FF97FF",
           "#FECB52"
          ],
          "font": {
           "color": "#2a3f5f"
          },
          "geo": {
           "bgcolor": "white",
           "lakecolor": "white",
           "landcolor": "#E5ECF6",
           "showlakes": true,
           "showland": true,
           "subunitcolor": "white"
          },
          "hoverlabel": {
           "align": "left"
          },
          "hovermode": "closest",
          "mapbox": {
           "style": "light"
          },
          "paper_bgcolor": "white",
          "plot_bgcolor": "#E5ECF6",
          "polar": {
           "angularaxis": {
            "gridcolor": "white",
            "linecolor": "white",
            "ticks": ""
           },
           "bgcolor": "#E5ECF6",
           "radialaxis": {
            "gridcolor": "white",
            "linecolor": "white",
            "ticks": ""
           }
          },
          "scene": {
           "xaxis": {
            "backgroundcolor": "#E5ECF6",
            "gridcolor": "white",
            "gridwidth": 2,
            "linecolor": "white",
            "showbackground": true,
            "ticks": "",
            "zerolinecolor": "white"
           },
           "yaxis": {
            "backgroundcolor": "#E5ECF6",
            "gridcolor": "white",
            "gridwidth": 2,
            "linecolor": "white",
            "showbackground": true,
            "ticks": "",
            "zerolinecolor": "white"
           },
           "zaxis": {
            "backgroundcolor": "#E5ECF6",
            "gridcolor": "white",
            "gridwidth": 2,
            "linecolor": "white",
            "showbackground": true,
            "ticks": "",
            "zerolinecolor": "white"
           }
          },
          "shapedefaults": {
           "line": {
            "color": "#2a3f5f"
           }
          },
          "ternary": {
           "aaxis": {
            "gridcolor": "white",
            "linecolor": "white",
            "ticks": ""
           },
           "baxis": {
            "gridcolor": "white",
            "linecolor": "white",
            "ticks": ""
           },
           "bgcolor": "#E5ECF6",
           "caxis": {
            "gridcolor": "white",
            "linecolor": "white",
            "ticks": ""
           }
          },
          "title": {
           "x": 0.05
          },
          "xaxis": {
           "automargin": true,
           "gridcolor": "white",
           "linecolor": "white",
           "ticks": "",
           "title": {
            "standoff": 15
           },
           "zerolinecolor": "white",
           "zerolinewidth": 2
          },
          "yaxis": {
           "automargin": true,
           "gridcolor": "white",
           "linecolor": "white",
           "ticks": "",
           "title": {
            "standoff": 15
           },
           "zerolinecolor": "white",
           "zerolinewidth": 2
          }
         }
        },
        "title": {
         "text": "3D Visualization of Thematic Surfaces"
        },
        "width": 1200
       }
      }
     },
     "metadata": {},
     "output_type": "display_data"
    }
   ],
   "source": [
    "import pandas as pd\n",
    "import plotly.graph_objects as go\n",
    "from shapely import wkt\n",
    "from shapely.geometry import MultiPolygon, Polygon\n",
    "import numpy as np\n",
    "\n",
    "file_name = r\"C:\\Users\\oscar\\OneDrive - Fondazione Bruno Kessler\\KUL_GeometricModel\\script\\outputs\\jsons\\wkt_v90.csv\"\n",
    "df = pd.read_csv(file_name)\n",
    "df = df[df['geometry_wkt'].notnull()]\n",
    "\n",
    "\n",
    "fig = go.Figure()\n",
    "\n",
    "# Color map setup\n",
    "thematic_colors = {}\n",
    "color_palette = ['red', 'blue', 'green', 'orange', 'purple', 'cyan', 'magenta', 'gray', 'brown']\n",
    "color_index = 0\n",
    "\n",
    "# Track bounds for aspect ratio\n",
    "all_x, all_y, all_z = [], [], []\n",
    "\n",
    "# Parse and plot each geometry\n",
    "for _, row in df.iterrows():\n",
    "    try:\n",
    "        geom = wkt.loads(row['geometry_wkt'])\n",
    "        thematic = row['thematic_surface']\n",
    "        element_id = row['element_id']\n",
    "\n",
    "        if thematic not in thematic_colors:\n",
    "            thematic_colors[thematic] = color_palette[color_index % len(color_palette)]\n",
    "            color_index += 1\n",
    "        color = thematic_colors[thematic]\n",
    "\n",
    "        if isinstance(geom, MultiPolygon):\n",
    "            for polygon in geom.geoms:\n",
    "                for ring in [polygon.exterior] + list(polygon.interiors):\n",
    "                    coords = np.array(ring.coords)\n",
    "                    x, y, z = coords[:, 0], coords[:, 1], coords[:, 2]\n",
    "                    all_x.extend(x)\n",
    "                    all_y.extend(y)\n",
    "                    all_z.extend(z)\n",
    "\n",
    "                    fig.add_trace(go.Scatter3d(\n",
    "                        x=x, y=y, z=z,\n",
    "                        mode='lines',\n",
    "                        name=f'{thematic} (ID: {element_id})',\n",
    "                        line=dict(color=color),\n",
    "                        text=[f\"ID: {element_id}\"] * len(x),\n",
    "                        hoverinfo='text'\n",
    "                    ))\n",
    "    except Exception as e:\n",
    "        print(f\"Error processing element {row['element_id']}: {e}\")\n",
    "\n",
    "# Aspect ratio based on data range\n",
    "x_range = max(all_x) - min(all_x)\n",
    "y_range = max(all_y) - min(all_y)\n",
    "z_range = max(all_z) - min(all_z)\n",
    "max_range = max(x_range, y_range, z_range)\n",
    "aspect_ratio = {\n",
    "    \"x\": x_range / max_range,\n",
    "    \"y\": y_range / max_range,\n",
    "    \"z\": z_range / max_range\n",
    "}\n",
    "\n",
    "fig.update_layout(\n",
    "    title='3D Visualization of Thematic Surfaces',\n",
    "    scene=dict(\n",
    "        xaxis_title='X',\n",
    "        yaxis_title='Y',\n",
    "        zaxis_title='Z',\n",
    "        aspectmode='manual',\n",
    "        aspectratio=aspect_ratio\n",
    "    ),\n",
    "    legend_title='Thematic Surface',\n",
    "    width=1200,   # increased width\n",
    "    height=800    # increased height\n",
    ")\n",
    "\n",
    "fig.show()\n",
    "\n"
   ]
  },
  {
   "cell_type": "markdown",
   "id": "44154f5b",
   "metadata": {},
   "source": [
    "MESHES FROM WKT"
   ]
  },
  {
   "cell_type": "code",
   "execution_count": 2,
   "id": "289222df",
   "metadata": {},
   "outputs": [],
   "source": [
    "import trimesh\n",
    "from shapely import wkt\n",
    "from shapely.geometry import Polygon, MultiPolygon\n",
    "import numpy as np\n",
    "\n",
    "def shapely_to_trimesh(poly: Polygon):\n",
    "    coords = np.array(poly.exterior.coords)\n",
    "    if len(coords) < 3:\n",
    "        return None\n",
    "\n",
    "    # Triangulate using fan (naive but works for flat faces)\n",
    "    vertices = coords\n",
    "    faces = [[0, i, i+1] for i in range(1, len(coords) - 1)]\n",
    "    return trimesh.Trimesh(vertices=vertices, faces=faces, process=False)\n",
    "\n",
    "# Convert WKT to meshes\n",
    "meshes = []\n",
    "for wkt_str in df['geometry_wkt'].dropna():\n",
    "    geom = wkt.loads(wkt_str)\n",
    "    if isinstance(geom, Polygon):\n",
    "        m = shapely_to_trimesh(geom)\n",
    "        if m: meshes.append(m)\n",
    "    elif isinstance(geom, MultiPolygon):\n",
    "        for p in geom.geoms:\n",
    "            m = shapely_to_trimesh(p)\n",
    "            if m: meshes.append(m)\n",
    "\n",
    "wkt_combined = trimesh.util.concatenate(meshes)\n"
   ]
  },
  {
   "cell_type": "code",
   "execution_count": 3,
   "id": "a3b4b5d5",
   "metadata": {},
   "outputs": [
    {
     "name": "stdout",
     "output_type": "stream",
     "text": [
      "Jupyter environment detected. Enabling Open3D WebVisualizer.\n",
      "[Open3D INFO] WebRTC GUI backend enabled.\n",
      "[Open3D INFO] WebRTCWindowSystem: HTTP handshake server disabled.\n",
      "ICP Transformation Matrix:\n",
      " [[ 9.99987263e-01  5.01048837e-03 -6.07217620e-04 -3.96430589e-01]\n",
      " [-5.01009759e-03  9.99987242e-01  6.43394929e-04 -4.68197329e-01]\n",
      " [ 6.10433596e-04 -6.40344515e-04  9.99999609e-01  7.00102248e-03]\n",
      " [ 0.00000000e+00  0.00000000e+00  0.00000000e+00  1.00000000e+00]]\n"
     ]
    },
    {
     "data": {
      "text/plain": [
       "<trimesh.Trimesh(vertices.shape=(253, 3), faces.shape=(153, 3))>"
      ]
     },
     "execution_count": 3,
     "metadata": {},
     "output_type": "execute_result"
    }
   ],
   "source": [
    "obj_mesh = trimesh.load(r\"C:\\Users\\oscar\\OneDrive - Fondazione Bruno Kessler\\KUL_GeometricModel\\outputs\\school.obj\")\n",
    "\n",
    "def center_mesh(mesh):\n",
    "    mesh.apply_translation(-mesh.centroid)\n",
    "    return mesh\n",
    "\n",
    "wkt_centered = center_mesh(wkt_combined.copy())\n",
    "obj_centered = center_mesh(obj_mesh.copy())\n",
    "\n",
    "import open3d as o3d\n",
    "import trimesh\n",
    "\n",
    "def trimesh_to_o3d(mesh):\n",
    "    o3d_mesh = o3d.geometry.TriangleMesh()\n",
    "    o3d_mesh.vertices = o3d.utility.Vector3dVector(mesh.vertices)\n",
    "    o3d_mesh.triangles = o3d.utility.Vector3iVector(mesh.faces)\n",
    "    o3d_mesh.compute_vertex_normals()\n",
    "    return o3d_mesh\n",
    "\n",
    "# Convert trimesh -> Open3D\n",
    "source_o3d = trimesh_to_o3d(obj_centered)\n",
    "target_o3d = trimesh_to_o3d(wkt_centered)\n",
    "\n",
    "# Sample uniform point clouds\n",
    "source_pc = source_o3d.sample_points_uniformly(number_of_points=5000)\n",
    "target_pc = target_o3d.sample_points_uniformly(number_of_points=5000)\n",
    "\n",
    "# Set ICP parameters\n",
    "threshold = 1.0\n",
    "trans_init = np.identity(4)  # start with identity\n",
    "\n",
    "# Run ICP\n",
    "reg_result = o3d.pipelines.registration.registration_icp(\n",
    "    source=source_pc,\n",
    "    target=target_pc,\n",
    "    max_correspondence_distance=threshold,\n",
    "    init=trans_init,\n",
    "    estimation_method=o3d.pipelines.registration.TransformationEstimationPointToPoint()\n",
    ")\n",
    "\n",
    "# Apply transformation to the original mesh\n",
    "transform = reg_result.transformation\n",
    "print(\"ICP Transformation Matrix:\\n\", transform)\n",
    "\n",
    "# Apply to the Trimesh object\n",
    "obj_centered.apply_transform(transform)\n",
    "\n"
   ]
  },
  {
   "cell_type": "code",
   "execution_count": null,
   "id": "9c123da4",
   "metadata": {},
   "outputs": [
    {
     "name": "stdout",
     "output_type": "stream",
     "text": [
      "Precision: 0.713\n",
      "Recall:    0.413\n",
      "F1 Score:  0.523\n",
      "IoU:       0.354\n"
     ]
    },
    {
     "ename": "NameError",
     "evalue": "name 'trimesh_to_plotly_mesh' is not defined",
     "output_type": "error",
     "traceback": [
      "\u001b[1;31m---------------------------------------------------------------------------\u001b[0m",
      "\u001b[1;31mNameError\u001b[0m                                 Traceback (most recent call last)",
      "Cell \u001b[1;32mIn[4], line 51\u001b[0m\n\u001b[0;32m     48\u001b[0m \u001b[38;5;28mprint\u001b[39m(\u001b[38;5;124mf\u001b[39m\u001b[38;5;124m\"\u001b[39m\u001b[38;5;124mF1 Score:  \u001b[39m\u001b[38;5;132;01m{\u001b[39;00mf1\u001b[38;5;132;01m:\u001b[39;00m\u001b[38;5;124m.3f\u001b[39m\u001b[38;5;132;01m}\u001b[39;00m\u001b[38;5;124m\"\u001b[39m)\n\u001b[0;32m     49\u001b[0m \u001b[38;5;28mprint\u001b[39m(\u001b[38;5;124mf\u001b[39m\u001b[38;5;124m\"\u001b[39m\u001b[38;5;124mIoU:       \u001b[39m\u001b[38;5;132;01m{\u001b[39;00miou\u001b[38;5;132;01m:\u001b[39;00m\u001b[38;5;124m.3f\u001b[39m\u001b[38;5;132;01m}\u001b[39;00m\u001b[38;5;124m\"\u001b[39m)\n\u001b[1;32m---> 51\u001b[0m obj_trace \u001b[38;5;241m=\u001b[39m \u001b[43mtrimesh_to_plotly_mesh\u001b[49m(obj_centered_scaled, \u001b[38;5;124m'\u001b[39m\u001b[38;5;124mOBJ Model (Scaled)\u001b[39m\u001b[38;5;124m'\u001b[39m, color\u001b[38;5;241m=\u001b[39m\u001b[38;5;124m'\u001b[39m\u001b[38;5;124mred\u001b[39m\u001b[38;5;124m'\u001b[39m, opacity\u001b[38;5;241m=\u001b[39m\u001b[38;5;241m0.5\u001b[39m)\n",
      "\u001b[1;31mNameError\u001b[0m: name 'trimesh_to_plotly_mesh' is not defined"
     ]
    }
   ],
   "source": [
    "voxel_size = 0.075\n",
    "\n",
    "def rescale_mesh(mesh, scale_factor):\n",
    "    \"\"\"Applies a uniform scale to a trimesh mesh (around its centroid).\"\"\"\n",
    "    center = mesh.centroid\n",
    "    mesh.apply_translation(-center)\n",
    "    mesh.apply_scale(scale_factor)\n",
    "    mesh.apply_translation(center)\n",
    "    return mesh\n",
    "\n",
    "# --- Rescale OBJ model ---\n",
    "scale_factor = 1.01  # Try tweaking this\n",
    "obj_centered_scaled = obj_centered.copy()\n",
    "rescale_mesh(obj_centered_scaled, scale_factor)\n",
    "\n",
    "# --- Voxelize both models ---\n",
    "wkt_vox = wkt_centered.voxelized(pitch=voxel_size)\n",
    "obj_vox = obj_centered_scaled.voxelized(pitch=voxel_size)  # ✅ use scaled mesh\n",
    "\n",
    "wkt_bool = wkt_vox.matrix\n",
    "obj_bool = obj_vox.matrix\n",
    "\n",
    "# Match voxel grid shapes\n",
    "min_shape = np.minimum(wkt_bool.shape, obj_bool.shape)\n",
    "wkt_bool = wkt_bool[:min_shape[0], :min_shape[1], :min_shape[2]]\n",
    "obj_bool = obj_bool[:min_shape[0], :min_shape[1], :min_shape[2]]\n",
    "\n",
    "# --- Apply buffer with dilation ---\n",
    "from scipy.ndimage import binary_dilation\n",
    "\n",
    "buffer_mm = 30  # tolerance in mm\n",
    "buffer_voxels = int(np.ceil(buffer_mm / (voxel_size * 1000)))  # mm → voxel count\n",
    "\n",
    "wkt_dil = binary_dilation(wkt_bool, iterations=buffer_voxels)\n",
    "\n",
    "# --- Compute metrics with buffer ---\n",
    "tp = np.logical_and(obj_bool, wkt_dil).sum()\n",
    "fp = np.logical_and(obj_bool, ~wkt_dil).sum()\n",
    "fn = np.logical_and(wkt_bool, ~obj_bool).sum()\n",
    "\n",
    "precision = tp / (tp + fp) if (tp + fp) else 0\n",
    "recall = tp / (tp + fn) if (tp + fn) else 0\n",
    "f1 = 2 * (precision * recall) / (precision + recall) if (precision + recall) else 0\n",
    "iou = tp / (tp + fp + fn) if (tp + fp + fn) else 0\n",
    "\n",
    "print(f\"Precision: {precision:.3f}\")\n",
    "print(f\"Recall:    {recall:.3f}\")\n",
    "print(f\"F1 Score:  {f1:.3f}\")\n",
    "print(f\"IoU:       {iou:.3f}\")\n",
    "\n",
    "\n"
   ]
  },
  {
   "cell_type": "code",
   "execution_count": 5,
   "id": "32d82835",
   "metadata": {},
   "outputs": [
    {
     "name": "stdout",
     "output_type": "stream",
     "text": [
      "Precision: 0.713\n",
      "Recall:    0.457\n",
      "F1 Score:  0.557\n",
      "IoU:       0.354\n"
     ]
    }
   ],
   "source": [
    "from scipy.ndimage import binary_dilation\n",
    "\n",
    "# Define buffer in meters\n",
    "tolerance_m = 0.025 # e.g. 10 cm\n",
    "buffer_voxels = int(np.ceil(tolerance_m / voxel_size))\n",
    "\n",
    "# Dilate both masks\n",
    "wkt_dilated = binary_dilation(wkt_bool, iterations=buffer_voxels)\n",
    "obj_dilated = binary_dilation(obj_bool, iterations=buffer_voxels)\n",
    "\n",
    "# Intersection & union with buffer\n",
    "intersection = np.logical_and(wkt_dilated, obj_bool).sum()\n",
    "union = np.logical_or(wkt_bool, obj_bool).sum()\n",
    "\n",
    "# Compute metrics\n",
    "precision = intersection / obj_bool.sum()\n",
    "recall = intersection / wkt_bool.sum()\n",
    "f1 = 2 * (precision * recall) / (precision + recall)\n",
    "iou = intersection / union\n",
    "\n",
    "print(f\"Precision: {precision:.3f}\")\n",
    "print(f\"Recall:    {recall:.3f}\")\n",
    "print(f\"F1 Score:  {f1:.3f}\")\n",
    "print(f\"IoU:       {iou:.3f}\")\n"
   ]
  },
  {
   "cell_type": "code",
   "execution_count": 8,
   "id": "50fc3ca0",
   "metadata": {},
   "outputs": [],
   "source": [
    "import plotly.graph_objects as go\n",
    "import numpy as np\n",
    "\n",
    "def trimesh_to_plotly_mesh(mesh, name, color='blue', opacity=0.5):\n",
    "    vertices = mesh.vertices\n",
    "    faces = mesh.faces\n",
    "\n",
    "    return go.Mesh3d(\n",
    "        x=vertices[:, 0],\n",
    "        y=vertices[:, 1],\n",
    "        z=vertices[:, 2],\n",
    "        i=faces[:, 0],\n",
    "        j=faces[:, 1],\n",
    "        k=faces[:, 2],\n",
    "        name=name,\n",
    "        color=color,\n",
    "        opacity=opacity\n",
    "    )\n"
   ]
  },
  {
   "cell_type": "code",
   "execution_count": 11,
   "id": "500e4ba2",
   "metadata": {},
   "outputs": [
    {
     "name": "stdout",
     "output_type": "stream",
     "text": [
      "Precision: 0.922\n",
      "Recall:    0.476\n",
      "F1 Score:  0.628\n",
      "IoU:       0.458\n"
     ]
    },
    {
     "data": {
      "application/vnd.plotly.v1+json": {
       "config": {
        "plotlyServerURL": "https://plot.ly"
       },
       "data": [
        {
         "color": "blue",
         "i": {
          "bdata": "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",
          "dtype": "i2"
         },
         "j": {
          "bdata": "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",
          "dtype": "i2"
         },
         "k": {
          "bdata": "AgADAAQABwAIAAkADAANAA4AEQASABMAFgAXABgAGwAcAB0AIAAhACIAJQAmACcAKAArACwALQAuADEAMgAzADYANwA4ADsAPAA9AEAAQQBCAEUARgBHAEoASwBMAE8AUABRAFQAVQBWAFkAWgBbAF4AXwBgAGMAZABlAGgAaQBqAG0AbgBvAHIAcwB0AHcAeAB5AHwAfQB+AIEAggCDAIYAhwCIAIsAjACNAJAAkQCSAJUAlgCXAJoAmwCcAJ8AoAChAKQApQCmAKkAqgCrAK4ArwCwALMAtAC1ALgAuQC6AL0AvgC/AMIAwwDEAMcAyADJAMwAzQDOANEA0gDTANYA1wDYANsA3ADdAOAA4QDiAOUA5gDnAOoA6wDsAO8A8ADxAPQA9QD2APkA+gD7AP4A/wAAAQMBBAEFAQgBCQEKAQsBDAENAQ4BDwEQAREBEgETARQBFQEWARcBGAEZARoBGwEcAR0BHgEfASIBIwEkASUBJgEnASgBKQEqASsBLAEtAS4BLwEwATEBMgEzATQBNQE2ATcBOAE5ATwBPQE+AUEBQgFDAUYBRwFIAUsBTAFNAVABUQFSAVUBVgFXAVoBWwFcAV8BYAFhAWQBZQFmAWkBagFrAW4BbwFwAXMBdAF1AXgBeQF6AX0BfgF/AYIBgwGEAYUBhgGHAYoBiwGMAY0BjgGPAZIBkwGUAZcBmAGZAZwBnQGeAaEBogGjAaYBpwGoAasBrAGtAbABsQGyAbUBtgG3AboBuwG8Ab8BwAHBAcQBxQHGAckBygHLAc4BzwHQAdMB1AHVAdgB2QHaAd0B3gHfAeAB4QHiAeMB5AHlAeYB5wHqAesB7AHtAe4B7wHwAfEB8gHzAfQB9wH4AfkB/AH9Af4BAQICAgMCBgIHAggCCwIMAg0CEAIRAhICFQIWAhcCGgIbAhwCHwIgAiECIgIlAiYCJwIoAisCLAItAjACMQIyAjUCNgI3AjoCOwI8Aj8CQAJBAkQCRQJGAkkCSgJLAk4CTwJQAlMCVAJVAlgCWQJaAl0CXgJfAmICYwJkAmcCaAJpAmwCbQJuAnECcgJzAnYCdwJ4AnsCfAJ9AoACgQKCAoUChgKHAogCiwKMAo0CjgKRApICkwKWApcCmAKbApwCnQKgAqECogKjAqQCpQKmAqkCqgKrAq4CrwKwArMCtAK1ArgCuQK6Ar0CvgK/AsICwwLEAsUCyALJAsoCywLOAs8C0ALTAtQC1QLYAtkC2gLdAt4C3wLiAuMC5ALnAugC6QLsAu0C7gLxAvIC8wL0AvcC+AL5AvoC/QL+Av8CAgMDAwQDBwMIAwkDDAMNAw4DEQMSAxMDFgMXAxgDGwMcAx0DIAMhAyIDJQMmAycDKgMrAywDLwMwAzEDNAM1AzYDOQM6AzsDPgM/A0ADQQNCA0MDRgNHA0gDSQNKA0sDTgNPA1ADUwNUA1UDWANZA1oDXQNeA18DYgNjA2QDZwNoA2kDbANtA24DbwNyA3MDdAN1A3gDeQN6A30DfgN/A4IDgwOEA4cDiAOJA4wDjQOOA5EDkgOTA5YDlwOYA5sDnAOdA6ADoQOiA6MDpAOnA6gDqQOqA6sDrgOvA7ADswO0A7UDuAO5A7oDvQO+A78DwgPDA8QDxwPIA8kDzAPNA84DzwPSA9MD1APVA9gD2QPaA90D3gPfA+ID4wPkA+cD6APpA+wD7QPuA/ED8gPzA/YD9wP4A/sD/AP9A/4D/wMCBAMEBAQFBAYECQQKBAsEDgQPBBAEEwQUBBUEGAQZBBoEHQQeBB8EIgQjBCQEJwQoBCkELAQtBC4EMQQyBDMENgQ3BDgEOwQ8BD0EQARBBEIERQRGBEcESgRLBEwETQRQBFEEUgRTBFYEVwRYBFsEXARdBGAEYQRiBGUEZgRnBGoEawRsBG8EcARxBHQEdQR2BHkEegR7BH4EfwSABIEEggSFBIYEhwSIBIkEjASNBI4EkQSSBJMElgSXBJgEmwScBJ0EoAShBKIEpQSmBKcEqgSrBKwErwSwBLEEtAS1BLYEuQS6BLsEvgS/BMAEwwTEBMUEyATJBMoEzQTOBM8E0gTTBNQE1wTYBNkE",
          "dtype": "i2"
         },
         "name": "WKT Model",
         "opacity": 0.5,
         "type": "mesh3d",
         "x": {
          "bdata": "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",
          "dtype": "f8"
         },
         "y": {
          "bdata": "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",
          "dtype": "f8"
         },
         "z": {
          "bdata": "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",
          "dtype": "f8"
         }
        },
        {
         "color": "red",
         "i": {
          "bdata": "BgAEAAIABwAEAAEACwAIAA8ADAATABAAFwAUABkAFgAdABoAIQAeACUAIgApACYALQAqAC8ALAAzADAANQAyADkANgA9ADoAQgA+AEMAPwBIAEQASQBFAE0ASgBPAFMAUgBOAFAAVwBbAFcAWgBaAFwAXwBfAGIAYwBmAGcAagBtAG0AbAByAG8AdgBzAHoAdwB+AHsAgAB9AIQAgQCGAIMAiACFAIoAhwCMAIkAkwCRAI8AlACRAI4AlQCYAJkAnACdAKAAoQCkAKUAqACpAKwAsACtALEAtAC4ALUAugC3ALwAuQC+ALsAwAC9AMUAwQDGAMIAyADJAMsAygDOAM8A0gDTANYA1wDaANsA3gDfAOQA4QDoAOUA7ADpAPAA7QD0APEA9gDzAPoA9wD8APkA",
          "dtype": "i2"
         },
         "j": {
          "bdata": "BAACAAQAAQAGAAcACQAKAA0ADgARABIAFQAWABcAGAAbABwAHwAgACMAJAAnACgAKwAsAC0ALgAxADIAMwA0ADcAOAA7ADwAPwBBAEAAQgBFAEcARgBIAEsATABOAFQAUwBQAFEAWQBZAFgAWwBYAGAAXQBgAGEAZABlAGgAaQBqAGsAagBwAHEAdAB1AHgAeQB8AH0AfgB/AIIAgwCEAIUAhgCHAIgAiQCKAIsAkQCPAJEAjgCTAJQAlwCWAJsAmgCfAJ4AowCiAKcApgCrAKoArgCvALMAsgC2ALcAuAC5ALoAuwC8AL0AvgC/AMIAxADDAMUAxwDKAMwAyQDNANAA0QDUANUA2ADZANwA3QDgAOIA4wDmAOcA6gDrAO4A7wDyAPMA9AD1APgA+QD6APsA",
          "dtype": "i2"
         },
         "k": {
          "bdata": "BQADAAEABgABAAAACAALAAwADwAQABMAFAAXABYAGQAaAB0AHgAhACIAJQAmACkAKgAtACwALwAwADMAMgA1ADYAOQA6AD0APgBCAD8AQwBEAEgARQBJAEoATQBUAE4AUABTAFIAVQBXAFsAWABWAF8AXABeAGMAYgBnAGYAbgBuAGwAbQBvAHIAcwB2AHcAegB7AH4AfQCAAIEAhACDAIYAhQCIAIcAigCJAIwAkgCQAI4AkwCOAI0AmACVAJwAmQCgAJ0ApAChAKgApQCsAKkArQCwALQAsQC1ALgAtwC6ALkAvAC7AL4AvQDAAMEAxQDCAMYAyQDIAMoAywDPAM4A0wDSANcA1gDbANoA3wDeAOEA5ADlAOgA6QDsAO0A8ADxAPQA8wD2APcA+gD5APwA",
          "dtype": "i2"
         },
         "name": "OBJ Model (Scaled)",
         "opacity": 0.5,
         "type": "mesh3d",
         "x": {
          "bdata": "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",
          "dtype": "f8"
         },
         "y": {
          "bdata": "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",
          "dtype": "f8"
         },
         "z": {
          "bdata": "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",
          "dtype": "f8"
         }
        }
       ],
       "layout": {
        "height": 800,
        "legend": {
         "x": 0.7,
         "y": 0.9
        },
        "scene": {
         "aspectmode": "data",
         "xaxis": {
          "title": {
           "text": "X"
          }
         },
         "yaxis": {
          "title": {
           "text": "Y"
          }
         },
         "zaxis": {
          "title": {
           "text": "Z"
          }
         }
        },
        "template": {
         "data": {
          "bar": [
           {
            "error_x": {
             "color": "#2a3f5f"
            },
            "error_y": {
             "color": "#2a3f5f"
            },
            "marker": {
             "line": {
              "color": "#E5ECF6",
              "width": 0.5
             },
             "pattern": {
              "fillmode": "overlay",
              "size": 10,
              "solidity": 0.2
             }
            },
            "type": "bar"
           }
          ],
          "barpolar": [
           {
            "marker": {
             "line": {
              "color": "#E5ECF6",
              "width": 0.5
             },
             "pattern": {
              "fillmode": "overlay",
              "size": 10,
              "solidity": 0.2
             }
            },
            "type": "barpolar"
           }
          ],
          "carpet": [
           {
            "aaxis": {
             "endlinecolor": "#2a3f5f",
             "gridcolor": "white",
             "linecolor": "white",
             "minorgridcolor": "white",
             "startlinecolor": "#2a3f5f"
            },
            "baxis": {
             "endlinecolor": "#2a3f5f",
             "gridcolor": "white",
             "linecolor": "white",
             "minorgridcolor": "white",
             "startlinecolor": "#2a3f5f"
            },
            "type": "carpet"
           }
          ],
          "choropleth": [
           {
            "colorbar": {
             "outlinewidth": 0,
             "ticks": ""
            },
            "type": "choropleth"
           }
          ],
          "contour": [
           {
            "colorbar": {
             "outlinewidth": 0,
             "ticks": ""
            },
            "colorscale": [
             [
              0,
              "#0d0887"
             ],
             [
              0.1111111111111111,
              "#46039f"
             ],
             [
              0.2222222222222222,
              "#7201a8"
             ],
             [
              0.3333333333333333,
              "#9c179e"
             ],
             [
              0.4444444444444444,
              "#bd3786"
             ],
             [
              0.5555555555555556,
              "#d8576b"
             ],
             [
              0.6666666666666666,
              "#ed7953"
             ],
             [
              0.7777777777777778,
              "#fb9f3a"
             ],
             [
              0.8888888888888888,
              "#fdca26"
             ],
             [
              1,
              "#f0f921"
             ]
            ],
            "type": "contour"
           }
          ],
          "contourcarpet": [
           {
            "colorbar": {
             "outlinewidth": 0,
             "ticks": ""
            },
            "type": "contourcarpet"
           }
          ],
          "heatmap": [
           {
            "colorbar": {
             "outlinewidth": 0,
             "ticks": ""
            },
            "colorscale": [
             [
              0,
              "#0d0887"
             ],
             [
              0.1111111111111111,
              "#46039f"
             ],
             [
              0.2222222222222222,
              "#7201a8"
             ],
             [
              0.3333333333333333,
              "#9c179e"
             ],
             [
              0.4444444444444444,
              "#bd3786"
             ],
             [
              0.5555555555555556,
              "#d8576b"
             ],
             [
              0.6666666666666666,
              "#ed7953"
             ],
             [
              0.7777777777777778,
              "#fb9f3a"
             ],
             [
              0.8888888888888888,
              "#fdca26"
             ],
             [
              1,
              "#f0f921"
             ]
            ],
            "type": "heatmap"
           }
          ],
          "histogram": [
           {
            "marker": {
             "pattern": {
              "fillmode": "overlay",
              "size": 10,
              "solidity": 0.2
             }
            },
            "type": "histogram"
           }
          ],
          "histogram2d": [
           {
            "colorbar": {
             "outlinewidth": 0,
             "ticks": ""
            },
            "colorscale": [
             [
              0,
              "#0d0887"
             ],
             [
              0.1111111111111111,
              "#46039f"
             ],
             [
              0.2222222222222222,
              "#7201a8"
             ],
             [
              0.3333333333333333,
              "#9c179e"
             ],
             [
              0.4444444444444444,
              "#bd3786"
             ],
             [
              0.5555555555555556,
              "#d8576b"
             ],
             [
              0.6666666666666666,
              "#ed7953"
             ],
             [
              0.7777777777777778,
              "#fb9f3a"
             ],
             [
              0.8888888888888888,
              "#fdca26"
             ],
             [
              1,
              "#f0f921"
             ]
            ],
            "type": "histogram2d"
           }
          ],
          "histogram2dcontour": [
           {
            "colorbar": {
             "outlinewidth": 0,
             "ticks": ""
            },
            "colorscale": [
             [
              0,
              "#0d0887"
             ],
             [
              0.1111111111111111,
              "#46039f"
             ],
             [
              0.2222222222222222,
              "#7201a8"
             ],
             [
              0.3333333333333333,
              "#9c179e"
             ],
             [
              0.4444444444444444,
              "#bd3786"
             ],
             [
              0.5555555555555556,
              "#d8576b"
             ],
             [
              0.6666666666666666,
              "#ed7953"
             ],
             [
              0.7777777777777778,
              "#fb9f3a"
             ],
             [
              0.8888888888888888,
              "#fdca26"
             ],
             [
              1,
              "#f0f921"
             ]
            ],
            "type": "histogram2dcontour"
           }
          ],
          "mesh3d": [
           {
            "colorbar": {
             "outlinewidth": 0,
             "ticks": ""
            },
            "type": "mesh3d"
           }
          ],
          "parcoords": [
           {
            "line": {
             "colorbar": {
              "outlinewidth": 0,
              "ticks": ""
             }
            },
            "type": "parcoords"
           }
          ],
          "pie": [
           {
            "automargin": true,
            "type": "pie"
           }
          ],
          "scatter": [
           {
            "fillpattern": {
             "fillmode": "overlay",
             "size": 10,
             "solidity": 0.2
            },
            "type": "scatter"
           }
          ],
          "scatter3d": [
           {
            "line": {
             "colorbar": {
              "outlinewidth": 0,
              "ticks": ""
             }
            },
            "marker": {
             "colorbar": {
              "outlinewidth": 0,
              "ticks": ""
             }
            },
            "type": "scatter3d"
           }
          ],
          "scattercarpet": [
           {
            "marker": {
             "colorbar": {
              "outlinewidth": 0,
              "ticks": ""
             }
            },
            "type": "scattercarpet"
           }
          ],
          "scattergeo": [
           {
            "marker": {
             "colorbar": {
              "outlinewidth": 0,
              "ticks": ""
             }
            },
            "type": "scattergeo"
           }
          ],
          "scattergl": [
           {
            "marker": {
             "colorbar": {
              "outlinewidth": 0,
              "ticks": ""
             }
            },
            "type": "scattergl"
           }
          ],
          "scattermap": [
           {
            "marker": {
             "colorbar": {
              "outlinewidth": 0,
              "ticks": ""
             }
            },
            "type": "scattermap"
           }
          ],
          "scattermapbox": [
           {
            "marker": {
             "colorbar": {
              "outlinewidth": 0,
              "ticks": ""
             }
            },
            "type": "scattermapbox"
           }
          ],
          "scatterpolar": [
           {
            "marker": {
             "colorbar": {
              "outlinewidth": 0,
              "ticks": ""
             }
            },
            "type": "scatterpolar"
           }
          ],
          "scatterpolargl": [
           {
            "marker": {
             "colorbar": {
              "outlinewidth": 0,
              "ticks": ""
             }
            },
            "type": "scatterpolargl"
           }
          ],
          "scatterternary": [
           {
            "marker": {
             "colorbar": {
              "outlinewidth": 0,
              "ticks": ""
             }
            },
            "type": "scatterternary"
           }
          ],
          "surface": [
           {
            "colorbar": {
             "outlinewidth": 0,
             "ticks": ""
            },
            "colorscale": [
             [
              0,
              "#0d0887"
             ],
             [
              0.1111111111111111,
              "#46039f"
             ],
             [
              0.2222222222222222,
              "#7201a8"
             ],
             [
              0.3333333333333333,
              "#9c179e"
             ],
             [
              0.4444444444444444,
              "#bd3786"
             ],
             [
              0.5555555555555556,
              "#d8576b"
             ],
             [
              0.6666666666666666,
              "#ed7953"
             ],
             [
              0.7777777777777778,
              "#fb9f3a"
             ],
             [
              0.8888888888888888,
              "#fdca26"
             ],
             [
              1,
              "#f0f921"
             ]
            ],
            "type": "surface"
           }
          ],
          "table": [
           {
            "cells": {
             "fill": {
              "color": "#EBF0F8"
             },
             "line": {
              "color": "white"
             }
            },
            "header": {
             "fill": {
              "color": "#C8D4E3"
             },
             "line": {
              "color": "white"
             }
            },
            "type": "table"
           }
          ]
         },
         "layout": {
          "annotationdefaults": {
           "arrowcolor": "#2a3f5f",
           "arrowhead": 0,
           "arrowwidth": 1
          },
          "autotypenumbers": "strict",
          "coloraxis": {
           "colorbar": {
            "outlinewidth": 0,
            "ticks": ""
           }
          },
          "colorscale": {
           "diverging": [
            [
             0,
             "#8e0152"
            ],
            [
             0.1,
             "#c51b7d"
            ],
            [
             0.2,
             "#de77ae"
            ],
            [
             0.3,
             "#f1b6da"
            ],
            [
             0.4,
             "#fde0ef"
            ],
            [
             0.5,
             "#f7f7f7"
            ],
            [
             0.6,
             "#e6f5d0"
            ],
            [
             0.7,
             "#b8e186"
            ],
            [
             0.8,
             "#7fbc41"
            ],
            [
             0.9,
             "#4d9221"
            ],
            [
             1,
             "#276419"
            ]
           ],
           "sequential": [
            [
             0,
             "#0d0887"
            ],
            [
             0.1111111111111111,
             "#46039f"
            ],
            [
             0.2222222222222222,
             "#7201a8"
            ],
            [
             0.3333333333333333,
             "#9c179e"
            ],
            [
             0.4444444444444444,
             "#bd3786"
            ],
            [
             0.5555555555555556,
             "#d8576b"
            ],
            [
             0.6666666666666666,
             "#ed7953"
            ],
            [
             0.7777777777777778,
             "#fb9f3a"
            ],
            [
             0.8888888888888888,
             "#fdca26"
            ],
            [
             1,
             "#f0f921"
            ]
           ],
           "sequentialminus": [
            [
             0,
             "#0d0887"
            ],
            [
             0.1111111111111111,
             "#46039f"
            ],
            [
             0.2222222222222222,
             "#7201a8"
            ],
            [
             0.3333333333333333,
             "#9c179e"
            ],
            [
             0.4444444444444444,
             "#bd3786"
            ],
            [
             0.5555555555555556,
             "#d8576b"
            ],
            [
             0.6666666666666666,
             "#ed7953"
            ],
            [
             0.7777777777777778,
             "#fb9f3a"
            ],
            [
             0.8888888888888888,
             "#fdca26"
            ],
            [
             1,
             "#f0f921"
            ]
           ]
          },
          "colorway": [
           "#636efa",
           "#EF553B",
           "#00cc96",
           "#ab63fa",
           "#FFA15A",
           "#19d3f3",
           "#FF6692",
           "#B6E880",
           "#FF97FF",
           "#FECB52"
          ],
          "font": {
           "color": "#2a3f5f"
          },
          "geo": {
           "bgcolor": "white",
           "lakecolor": "white",
           "landcolor": "#E5ECF6",
           "showlakes": true,
           "showland": true,
           "subunitcolor": "white"
          },
          "hoverlabel": {
           "align": "left"
          },
          "hovermode": "closest",
          "mapbox": {
           "style": "light"
          },
          "paper_bgcolor": "white",
          "plot_bgcolor": "#E5ECF6",
          "polar": {
           "angularaxis": {
            "gridcolor": "white",
            "linecolor": "white",
            "ticks": ""
           },
           "bgcolor": "#E5ECF6",
           "radialaxis": {
            "gridcolor": "white",
            "linecolor": "white",
            "ticks": ""
           }
          },
          "scene": {
           "xaxis": {
            "backgroundcolor": "#E5ECF6",
            "gridcolor": "white",
            "gridwidth": 2,
            "linecolor": "white",
            "showbackground": true,
            "ticks": "",
            "zerolinecolor": "white"
           },
           "yaxis": {
            "backgroundcolor": "#E5ECF6",
            "gridcolor": "white",
            "gridwidth": 2,
            "linecolor": "white",
            "showbackground": true,
            "ticks": "",
            "zerolinecolor": "white"
           },
           "zaxis": {
            "backgroundcolor": "#E5ECF6",
            "gridcolor": "white",
            "gridwidth": 2,
            "linecolor": "white",
            "showbackground": true,
            "ticks": "",
            "zerolinecolor": "white"
           }
          },
          "shapedefaults": {
           "line": {
            "color": "#2a3f5f"
           }
          },
          "ternary": {
           "aaxis": {
            "gridcolor": "white",
            "linecolor": "white",
            "ticks": ""
           },
           "baxis": {
            "gridcolor": "white",
            "linecolor": "white",
            "ticks": ""
           },
           "bgcolor": "#E5ECF6",
           "caxis": {
            "gridcolor": "white",
            "linecolor": "white",
            "ticks": ""
           }
          },
          "title": {
           "x": 0.05
          },
          "xaxis": {
           "automargin": true,
           "gridcolor": "white",
           "linecolor": "white",
           "ticks": "",
           "title": {
            "standoff": 15
           },
           "zerolinecolor": "white",
           "zerolinewidth": 2
          },
          "yaxis": {
           "automargin": true,
           "gridcolor": "white",
           "linecolor": "white",
           "ticks": "",
           "title": {
            "standoff": 15
           },
           "zerolinecolor": "white",
           "zerolinewidth": 2
          }
         }
        },
        "title": {
         "text": "Overlay of WKT and Scaled OBJ Models"
        },
        "width": 1000
       }
      }
     },
     "metadata": {},
     "output_type": "display_data"
    }
   ],
   "source": [
    "from scipy.ndimage import binary_dilation\n",
    "\n",
    "# Define buffer in meters\n",
    "tolerance_m = 0.20\n",
    "buffer_voxels = int(np.ceil(tolerance_m / voxel_size))\n",
    "\n",
    "# Dilate WKT (ground truth) slightly, not OBJ (prediction)\n",
    "wkt_dilated = binary_dilation(wkt_bool, iterations=buffer_voxels)\n",
    "\n",
    "# True Positives = pred inside dilated ground truth\n",
    "tp = np.logical_and(obj_bool, wkt_dilated).sum()\n",
    "\n",
    "# False Positives = pred outside ground truth\n",
    "fp = np.logical_and(obj_bool, ~wkt_dilated).sum()\n",
    "\n",
    "# False Negatives = ground truth missed by pred\n",
    "fn = np.logical_and(wkt_bool, ~obj_bool).sum()\n",
    "\n",
    "# Precision = TP / (TP + FP)\n",
    "# Recall    = TP / (TP + FN)\n",
    "precision = tp / (tp + fp) if (tp + fp) else 0\n",
    "recall = tp / (tp + fn) if (tp + fn) else 0\n",
    "f1 = 2 * (precision * recall) / (precision + recall) if (precision + recall) else 0\n",
    "iou = tp / (tp + fp + fn) if (tp + fp + fn) else 0\n",
    "\n",
    "# Output\n",
    "print(f\"Precision: {precision:.3f}\")\n",
    "print(f\"Recall:    {recall:.3f}\")\n",
    "print(f\"F1 Score:  {f1:.3f}\")\n",
    "print(f\"IoU:       {iou:.3f}\")\n",
    "\n",
    "# Use scaled OBJ model\n",
    "obj_trace = trimesh_to_plotly_mesh(obj_centered_scaled, 'OBJ Model (Scaled)', color='red', opacity=0.5)\n",
    "wkt_trace = trimesh_to_plotly_mesh(wkt_centered, 'WKT Model', color='blue', opacity=0.5)\n",
    "\n",
    "fig = go.Figure(data=[wkt_trace, obj_trace])\n",
    "fig.update_layout(\n",
    "    title='Overlay of WKT and Scaled OBJ Models',\n",
    "    scene=dict(\n",
    "        xaxis_title='X',\n",
    "        yaxis_title='Y',\n",
    "        zaxis_title='Z',\n",
    "        aspectmode='data'\n",
    "    ),\n",
    "    width=1000,\n",
    "    height=800,\n",
    "    legend=dict(x=0.7, y=0.9)\n",
    ")\n",
    "fig.show()\n",
    "\n"
   ]
  },
  {
   "cell_type": "code",
   "execution_count": 15,
   "id": "4ca587f1",
   "metadata": {},
   "outputs": [
    {
     "name": "stdout",
     "output_type": "stream",
     "text": [
      "Precision 0.894\n",
      "F1: 0.875\n",
      "Recovered Recall: 0.857\n",
      "Estimated IoU:    0.778\n"
     ]
    }
   ],
   "source": [
    "def recover_metrics(precision, f1):\n",
    "    # Compute Recall from F1 and Precision\n",
    "    if precision == 0 or f1 == 0:\n",
    "        recall = 0\n",
    "    else:\n",
    "        recall = (f1 * precision) / (2 * precision - f1)\n",
    "\n",
    "    # Compute IoU from Precision and Recall\n",
    "    if precision + recall - (precision * recall) == 0:\n",
    "        iou = 0\n",
    "    else:\n",
    "        iou = (precision * recall) / (precision + recall - (precision * recall))\n",
    "\n",
    "    return recall, iou\n",
    "\n",
    "# Example\n",
    "precision = 0.894\n",
    "f1 = 0.875\n",
    "\n",
    "recall, iou = recover_metrics(precision, f1)\n",
    "\n",
    "print(f'Precision {precision:.3f}')\n",
    "print(f'F1: {f1:.3f}')\n",
    "print(f\"Recovered Recall: {recall:.3f}\")\n",
    "print(f\"Estimated IoU:    {iou:.3f}\")\n"
   ]
  },
  {
   "cell_type": "code",
   "execution_count": 17,
   "id": "06615015",
   "metadata": {},
   "outputs": [
    {
     "name": "stdout",
     "output_type": "stream",
     "text": [
      "Precision: 0.911\n",
      "IoU:       0.881\n",
      "Recovered Recall: 0.811\n",
      "Recomputed F1:    0.858\n"
     ]
    }
   ],
   "source": [
    "def recover_metrics_from_precision_iou(precision, iou):\n",
    "    # Compute Recall from Precision and IoU\n",
    "    if precision == 0 or iou == 0:\n",
    "        recall = 0\n",
    "    else:\n",
    "        recall = (iou * precision) / (precision - iou * (precision - 1))\n",
    "\n",
    "    # Compute F1 from Precision and Recall\n",
    "    if precision + recall == 0:\n",
    "        f1 = 0\n",
    "    else:\n",
    "        f1 = 2 * (precision * recall) / (precision + recall)\n",
    "\n",
    "    return recall, f1\n",
    "\n",
    "# Example\n",
    "precision = 0.911\n",
    "iou = 0.881\n",
    "\n",
    "recall, f1 = recover_metrics_from_precision_iou(precision, iou)\n",
    "\n",
    "print(f'Precision: {precision:.3f}')\n",
    "print(f'IoU:       {iou:.3f}')\n",
    "print(f'Recovered Recall: {recall:.3f}')\n",
    "print(f'Recomputed F1:    {f1:.3f}')\n"
   ]
  },
  {
   "cell_type": "code",
   "execution_count": null,
   "id": "62d4d565",
   "metadata": {},
   "outputs": [
    {
     "data": {
      "image/png": "[encoded data removed]",
      "text/plain": [
       "<Figure size 1600x1000 with 4 Axes>"
      ]
     },
     "metadata": {},
     "output_type": "display_data"
    }
   ],
   "source": [
    "import matplotlib.pyplot as plt\n",
    "import pandas as pd\n",
    "\n",
    "# Define the data\n",
    "data = {\n",
    "    \"Dataset\": [\n",
    "        \"House 01 – Ground Floor\", \"House 01 – First Floor\",\n",
    "        \"Block N - Ground Floor\", \"Block N - First Floor\",\n",
    "        \"Block N - Second Floor\", \"Block N - Third Floor\",\n",
    "        \"Santa Chiara - Trento\", \"School PEA - Prato\"\n",
    "    ],\n",
    "    \"Solid_Precision\": [0.950, 0.961, 0.947, 0.973, 0.984, 0.983, 0.937, 0.930],\n",
    "    \"Solid_Recall\": [0.903, 0.922, 0.930, 0.943, 0.957, 0.953, 0.879, 0.867],\n",
    "    \"Solid_F1\": [0.926, 0.941, 0.938, 0.958, 0.970, 0.968, 0.907, 0.897],\n",
    "    \"Solid_IoU\": [0.948, 0.958, 0.981, 0.968, 0.972, 0.969, 0.934, 0.927],\n",
    "    \"BRep_Precision\": [0.861, 0.882, 0.911, 0.909, 0.931, 0.951, 0.778, 0.741],\n",
    "    \"BRep_Recall\": [0.667, 0.795, 0.811, 0.785, 0.860, 0.904, 0.620, 0.576],\n",
    "    \"BRep_F1\": [0.751, 0.836, 0.858, 0.842, 0.894, 0.927, 0.686, 0.648],\n",
    "    \"BRep_IoU\": [0.847, 0.889, 0.881, 0.852, 0.919, 0.948, 0.763, 0.721]\n",
    "}\n",
    "\n",
    "df = pd.DataFrame(data)\n",
    "\n",
    "# Plotting grouped bar charts\n",
    "metrics = [\"Precision\", \"Recall\", \"F1\", \"IoU\"]\n",
    "fig, axs = plt.subplots(2, 2, figsize=(16, 10))\n",
    "axs = axs.flatten()\n",
    "\n",
    "x = range(len(df[\"Dataset\"]))\n",
    "bar_width = 0.35\n",
    "\n",
    "for i, metric in enumerate(metrics):\n",
    "    ax = axs[i]\n",
    "    ax.bar([p - bar_width / 2 for p in x], df[f\"Solid_{metric}\"], width=bar_width, label='Solid Model')\n",
    "    ax.bar([p + bar_width / 2 for p in x], df[f\"BRep_{metric}\"], width=bar_width, label='B-Rep Model')\n",
    "    ax.set_title(metric)\n",
    "    ax.set_xticks(x)\n",
    "    ax.set_xticklabels(df[\"Dataset\"], rotation=45, ha='right')\n",
    "    ax.set_ylim(0, 1.1)\n",
    "    ax.legend()\n",
    "    ax.grid(axis='y')\n",
    "\n",
    "fig.tight_layout()\n",
    "plt.show()\n"
   ]
  },
  {
   "cell_type": "code",
   "execution_count": 5,
   "id": "c8953367",
   "metadata": {},
   "outputs": [
    {
     "data": {
      "text/plain": [
       "Text(0.5, 0.98, 'COMPARISON OF SOLID vs B-REP MODEL ACROSS DATASETS')"
      ]
     },
     "execution_count": 5,
     "metadata": {},
     "output_type": "execute_result"
    },
    {
     "data": {
      "image/png": "[encoded data removed]",
      "text/plain": [
       "<Figure size 1800x1000 with 4 Axes>"
      ]
     },
     "metadata": {},
     "output_type": "display_data"
    }
   ],
   "source": [
    "import matplotlib.pyplot as plt\n",
    "import numpy as np\n",
    "\n",
    "# Define datasets and metrics\n",
    "datasets = [\n",
    "    \"House 01 – Ground Floor\", \"House 01 – First Floor\",\n",
    "    \"Block N - Ground Floor\", \"Block N - First Floor\",\n",
    "    \"Block N - Second Floor\", \"Block N - Third Floor\",\n",
    "    \"Santa Chiara - Trento\", \"School PEA - Prato\"\n",
    "]\n",
    "\n",
    "metrics = [\"Precision\", \"Recall\", \"F1\", \"IoU\"]\n",
    "\n",
    "# Solid model metrics\n",
    "solid = np.array([\n",
    "    [0.950, 0.903, 0.926, 0.948],\n",
    "    [0.961, 0.922, 0.941, 0.958],\n",
    "    [0.947, 0.930, 0.938, 0.981],\n",
    "    [0.973, 0.943, 0.958, 0.968],\n",
    "    [0.984, 0.957, 0.970, 0.972],\n",
    "    [0.983, 0.953, 0.968, 0.969],\n",
    "    [0.937, 0.879, 0.907, 0.934],\n",
    "    [0.930, 0.867, 0.897, 0.927]\n",
    "])\n",
    "\n",
    "# B-Rep model metrics\n",
    "brep = np.array([\n",
    "    [0.861, 0.667, 0.751, 0.847],\n",
    "    [0.882, 0.795, 0.836, 0.889],\n",
    "    [0.911, 0.811, 0.858, 0.881],\n",
    "    [0.909, 0.785, 0.842, 0.852],\n",
    "    [0.931, 0.860, 0.894, 0.919],\n",
    "    [0.951, 0.904, 0.927, 0.948],\n",
    "    [0.778, 0.620, 0.686, 0.763],\n",
    "    [0.741, 0.576, 0.648, 0.721]\n",
    "])\n",
    "\n",
    "# Colors and styles\n",
    "colors = [\"#E9832F\", \"#D8DB25\"]\n",
    "width = 0.35\n",
    "x = np.arange(len(datasets))\n",
    "\n",
    "fig, axs = plt.subplots(2, 2, figsize=(18, 10))\n",
    "axs = axs.flatten()\n",
    "\n",
    "for i, metric in enumerate(metrics):\n",
    "    ax = axs[i]\n",
    "    ax.bar(x - width / 2, solid[:, i], width, label='Solid Model', color=colors[0])\n",
    "    ax.bar(x + width / 2, brep[:, i], width, label='B-Rep Model', color=colors[1])\n",
    "    ax.set_title(metric, fontsize=12)\n",
    "    ax.set_xticks(x)\n",
    "    ax.set_xticklabels(datasets, rotation=25, ha='right', fontsize=9)\n",
    "    ax.set_ylim(0, 1.1)\n",
    "    ax.grid(axis='y', linestyle='--', linewidth=0.5)\n",
    "    ax.legend()\n",
    "\n",
    "fig.tight_layout()\n",
    "plt.subplots_adjust(top=0.92)\n",
    "fig.suptitle(\"COMPARISON OF SOLID vs B-REP MODEL ACROSS DATASETS\", fontsize=14)\n",
    "\n",
    "\n"
   ]
  },
  {
   "cell_type": "code",
   "execution_count": 11,
   "id": "f93df1a5",
   "metadata": {},
   "outputs": [
    {
     "data": {
      "image/png": "[encoded data removed]",
      "text/plain": [
       "<Figure size 2000x800 with 1 Axes>"
      ]
     },
     "metadata": {},
     "output_type": "display_data"
    }
   ],
   "source": [
    "import matplotlib.pyplot as plt\n",
    "import numpy as np\n",
    "\n",
    "# Define datasets and metrics\n",
    "datasets = [\n",
    "    \"House 01 – Ground Floor\", \"House 01 – First Floor\",\n",
    "    \"Block N - Ground Floor\", \"Block N - First Floor\",\n",
    "    \"Block N - Second Floor\", \"Block N - Third Floor\",\n",
    "    \"Santa Chiara - Trento\", \"School PEA - Prato\"\n",
    "]\n",
    "\n",
    "metrics = [\"Precision\", \"Recall\", \"F1\", \"IoU\"]\n",
    "\n",
    "# Solid model metrics\n",
    "solid = np.array([\n",
    "    [0.950, 0.903, 0.926, 0.948],\n",
    "    [0.961, 0.922, 0.941, 0.958],\n",
    "    [0.947, 0.930, 0.938, 0.981],\n",
    "    [0.973, 0.943, 0.958, 0.968],\n",
    "    [0.984, 0.957, 0.970, 0.972],\n",
    "    [0.983, 0.953, 0.968, 0.969],\n",
    "    [0.937, 0.879, 0.907, 0.934],\n",
    "    [0.930, 0.867, 0.897, 0.927]\n",
    "])\n",
    "\n",
    "# B-Rep model metrics\n",
    "brep = np.array([\n",
    "    [0.861, 0.667, 0.751, 0.847],\n",
    "    [0.882, 0.795, 0.836, 0.889],\n",
    "    [0.911, 0.811, 0.858, 0.881],\n",
    "    [0.909, 0.785, 0.842, 0.852],\n",
    "    [0.931, 0.860, 0.894, 0.919],\n",
    "    [0.951, 0.904, 0.927, 0.948],\n",
    "    [0.778, 0.620, 0.686, 0.763],\n",
    "    [0.741, 0.576, 0.648, 0.721]\n",
    "])\n",
    "\n",
    "# Grouped bar plot\n",
    "x = np.arange(len(datasets))\n",
    "width = 0.1  # Narrower bars for clarity\n",
    "\n",
    "fig, ax = plt.subplots(figsize=(20, 8))\n",
    "\n",
    "# Define new color palette\n",
    "colors = {\n",
    "    \"Precision (Solid)\": \"#1f77b4\",\n",
    "    \"Precision (B-Rep)\": \"#aec7e8\",\n",
    "    \"Recall (Solid)\": \"#ff7f0e\",\n",
    "    \"Recall (B-Rep)\": \"#ffbb78\",\n",
    "    \"F1 (Solid)\": \"#2ca02c\",\n",
    "    \"F1 (B-Rep)\": \"#98df8a\",\n",
    "    \"IoU (Solid)\": \"#d62728\",\n",
    "    \"IoU (B-Rep)\": \"#ff9896\"\n",
    "}\n",
    "\n",
    "# Plot each bar with appropriate offset and color\n",
    "for i, metric in enumerate(metrics):\n",
    "    ax.bar(x + (i * 2 - 3.5) * width, solid[:, i], width, label=f\"{metric} (Solid)\", color=colors[f\"{metric} (Solid)\"])\n",
    "    ax.bar(x + (i * 2 - 2.5) * width, brep[:, i], width, label=f\"{metric} (B-Rep)\", color=colors[f\"{metric} (B-Rep)\"])\n",
    "\n",
    "# Styling\n",
    "ax.set_ylabel(\"Score\")\n",
    "ax.set_title(\"Performance Metrics Comparison for Solid and B-Rep Models\")\n",
    "ax.set_xticks(x)\n",
    "ax.set_xticklabels(datasets, rotation=30, ha='right')\n",
    "ax.set_ylim(0, 1.1)\n",
    "ax.grid(axis='y', linestyle='--', linewidth=0.5)\n",
    "ax.legend(ncol=4, loc='upper center', bbox_to_anchor=(0.5, 1.15))\n",
    "\n",
    "plt.tight_layout()\n",
    "plt.show()\n"
   ]
  }
 ],
 "metadata": {
  "kernelspec": {
   "display_name": "cvpr",
   "language": "python",
   "name": "python3"
  },
  "language_info": {
   "codemirror_mode": {
    "name": "ipython",
    "version": 3
   },
   "file_extension": ".py",
   "mimetype": "text/x-python",
   "name": "python",
   "nbconvert_exporter": "python",
   "pygments_lexer": "ipython3",
   "version": "3.9.21"
  }
 },
 "nbformat": 4,
 "nbformat_minor": 5
}
