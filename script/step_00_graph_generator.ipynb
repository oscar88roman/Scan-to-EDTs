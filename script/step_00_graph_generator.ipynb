{
 "cells": [
  {
   "cell_type": "markdown",
   "metadata": {},
   "source": [
    "# T4 Combine Detection Results\n",
    "\n",
    "- import the t1 inferenced point clouds\n",
    "- import the t3 doors \n",
    "- export graphs"
   ]
  },
  {
   "cell_type": "markdown",
   "metadata": {},
   "source": [
    "## LIBRARIES"
   ]
  },
  {
   "cell_type": "code",
   "execution_count": 11,
   "metadata": {},
   "outputs": [],
   "source": [
    "#IMPORT PACKAGES\n",
    "from rdflib import Graph, URIRef\n",
    "import os.path\n",
    "\n",
    "import importlib\n",
    "from pathlib import Path\n",
    "import numpy as np\n",
    "import xml.etree.ElementTree as ET\n",
    "import open3d as o3d\n",
    "import uuid    \n",
    "import pye57 \n",
    "import ifcopenshell\n",
    "import ifcopenshell.geom as geom\n",
    "import ifcopenshell.util\n",
    "# from ifcopenshell.util.selector import Selector\n",
    "import multiprocessing\n",
    "import random as rd\n",
    "import pandas as pd\n",
    "# from tabulate import tabulate\n",
    "import cv2\n",
    "import laspy\n",
    "\n",
    "import geomapi\n",
    "from geomapi.nodes import *\n",
    "import geomapi.utils as ut\n",
    "from geomapi.utils import geometryutils as gmu\n",
    "import geomapi.tools as tl\n",
    "\n",
    "import utils\n",
    "import context \n",
    "import utils as utl\n",
    "# import utils.t1_utils as t1"
   ]
  },
  {
   "cell_type": "code",
   "execution_count": 6,
   "metadata": {},
   "outputs": [],
   "source": [
    "%load_ext autoreload"
   ]
  },
  {
   "cell_type": "code",
   "execution_count": 7,
   "metadata": {},
   "outputs": [],
   "source": [
    "%autoreload 2"
   ]
  },
  {
   "cell_type": "markdown",
   "metadata": {},
   "source": [
    "## INPUTS"
   ]
  },
  {
   "cell_type": "code",
   "execution_count": 12,
   "metadata": {},
   "outputs": [
    {
     "name": "stdout",
     "output_type": "stream",
     "text": [
      "c:\\Users\\oscar\\OneDrive - Fondazione Bruno Kessler\\KUL_GeometricModel\\script\n",
      "pcd_input_path: c:\\Users\\oscar\\OneDrive - Fondazione Bruno Kessler\\KUL_GeometricModel\\data\\house_01\n",
      "Directory exists: c:\\Users\\oscar\\OneDrive - Fondazione Bruno Kessler\\KUL_GeometricModel\\data\\house_01\n",
      "class_file: c:\\Users\\oscar\\OneDrive - Fondazione Bruno Kessler\\KUL_GeometricModel\\script\\_classes_expanded.json\n",
      "Class file exists: c:\\Users\\oscar\\OneDrive - Fondazione Bruno Kessler\\KUL_GeometricModel\\script\\_classes_expanded.json\n"
     ]
    }
   ],
   "source": [
    "#Currect directory\n",
    "current_directory=Path(os.getcwd())\n",
    "print(current_directory)\n",
    "\n",
    "# name = 'Theatre'\n",
    "name = 'house_01'\n",
    "\n",
    "path = Path(os.getcwd()).parents[0] / 'data'\n",
    "\n",
    "pcd_input_path = path / name\n",
    "print('pcd_input_path:', pcd_input_path)\n",
    "\n",
    "if not pcd_input_path.exists():\n",
    "    print(f\"Directory not found: {pcd_input_path}\")\n",
    "else:\n",
    "    print(f\"Directory exists: {pcd_input_path}\")\n",
    "\n",
    "class_file = Path(os.getcwd()) / '_classes_expanded.json'\n",
    "print('class_file:', class_file)\n",
    "\n",
    "# Check if the class file exists\n",
    "if not class_file.exists():\n",
    "    print(f\"Class file not found: {class_file}\")\n",
    "else:\n",
    "    print(f\"Class file exists: {class_file}\")\n"
   ]
  },
  {
   "cell_type": "markdown",
   "metadata": {},
   "source": [
    "OUTPUT"
   ]
  },
  {
   "cell_type": "code",
   "execution_count": 13,
   "metadata": {},
   "outputs": [
    {
     "name": "stdout",
     "output_type": "stream",
     "text": [
      "c:\\Users\\oscar\\OneDrive - Fondazione Bruno Kessler\\KUL_GeometricModel\\data\\house_01\n",
      "Output folder c:\\Users\\oscar\\OneDrive - Fondazione Bruno Kessler\\KUL_GeometricModel\\data\\house_01\\outputs\n"
     ]
    }
   ],
   "source": [
    "output_folder = pcd_input_path / 'outputs'\n",
    "json_output_path=os.path.join(output_folder, f'{name}_elemnts.json') \n",
    "geometry_output_path= os.path.join(output_folder, f'{name}_elements.obj') # these are the bounding surfaces of the reference levels (optional)\n",
    "print(pcd_input_path)\n",
    "\n",
    "# file_graph_name = f'{name}'\n",
    "graphPath = str(output_folder / f'{name}_graph.ttl')\n",
    "print('Output folder', output_folder)"
   ]
  },
  {
   "cell_type": "markdown",
   "metadata": {},
   "source": [
    "### IMPORT PCD"
   ]
  },
  {
   "cell_type": "markdown",
   "metadata": {},
   "source": [
    "GET FILES"
   ]
  },
  {
   "cell_type": "code",
   "execution_count": 14,
   "metadata": {},
   "outputs": [],
   "source": [
    "def get_list_of_files(folder: Path | str , ext: str = None) -> list:\n",
    "\n",
    "    folder = Path(folder)  # Ensure the folder is a Path object\n",
    "    allFiles = []\n",
    "    # Iterate over all the entries in the directory\n",
    "    for entry in folder.iterdir():\n",
    "        # Create full path\n",
    "        fullPath = entry\n",
    "        # If entry is a directory then get the list of files in this directory \n",
    "        if fullPath.is_dir():\n",
    "            allFiles += get_list_of_files(fullPath, ext=ext)\n",
    "        else:\n",
    "            # Check if file matches the extension\n",
    "            if ext is None or fullPath.suffix.lower() == ext.lower():\n",
    "                allFiles.append(fullPath.as_posix())\n",
    "                \n",
    "    return allFiles\n"
   ]
  },
  {
   "cell_type": "code",
   "execution_count": 15,
   "metadata": {},
   "outputs": [
    {
     "name": "stdout",
     "output_type": "stream",
     "text": [
      "c:\\Users\\oscar\\OneDrive - Fondazione Bruno Kessler\\KUL_GeometricModel\\data\\house_01\n",
      "Input files: ['c:\\\\Users\\\\oscar\\\\OneDrive - Fondazione Bruno Kessler\\\\KUL_GeometricModel\\\\data\\\\house_01\\\\house_01_.las']\n"
     ]
    }
   ],
   "source": [
    "def get_list_of_files(folder, extension):\n",
    "   \n",
    "    return [str(file) for file in Path(folder).glob(f'*{extension}')]\n",
    "\n",
    "input_ = path / 'house_01'\n",
    "print(input_)\n",
    "files = get_list_of_files(input_, '.las')\n",
    "\n",
    "# Check if any files were found\n",
    "if not files:\n",
    "    print(\"No .laz files found.\")\n",
    "else:\n",
    "    print('Input files:', files)"
   ]
  },
  {
   "cell_type": "code",
   "execution_count": 16,
   "metadata": {},
   "outputs": [
    {
     "name": "stdout",
     "output_type": "stream",
     "text": [
      "Checking file path: c:\\Users\\oscar\\OneDrive - Fondazione Bruno Kessler\\KUL_GeometricModel\\data\\house_01\\house_01_.las\n"
     ]
    }
   ],
   "source": [
    "files = os.path.join(pcd_input_path, f'{name}_.las')\n",
    "print('Checking file path:', files)\n",
    "\n",
    "if not os.path.exists(files):\n",
    "    print(\"Error: File does not exist at the specified path.\")\n",
    "else:\n",
    "    laz = laspy.read(files)\n",
    "\n",
    "\n"
   ]
  },
  {
   "cell_type": "code",
   "execution_count": 17,
   "metadata": {},
   "outputs": [],
   "source": [
    "laz=laspy.read(files)"
   ]
  },
  {
   "cell_type": "code",
   "execution_count": 18,
   "metadata": {},
   "outputs": [
    {
     "name": "stdout",
     "output_type": "stream",
     "text": [
      "{'classes': [{'name': 'Unassigned', 'id': 255, 'temp_id': -1, 'color': '#9da2ab'}, {'name': 'Floors', 'id': 0, 'temp_id': 0, 'color': '#03c2fc'}, {'name': 'Ceilings', 'id': 1, 'temp_id': 1, 'color': '#e81416'}, {'name': 'Walls', 'id': 2, 'temp_id': 2, 'color': '#ffa500'}, {'name': 'Columns', 'id': 3, 'temp_id': 3, 'color': '#faeb36'}, {'name': 'Doors', 'id': 4, 'temp_id': 4, 'color': '#79c314'}, {'name': 'Windows', 'id': 5, 'temp_id': 5, 'color': '#4b369d'}, {'name': 'Lights', 'id': 6, 'temp_id': 6, 'color': '#7a93eb'}, {'name': 'Radiators', 'id': 7, 'temp_id': 7, 'color': '#d93b67'}, {'name': 'HVAC', 'id': 8, 'temp_id': 8, 'color': '#42b8a6'}], 'default': 255, 'type': 'semantic_segmentation', 'format': 'kitti', 'created_with': {'name': 'Saiga', 'version': '1.0.1'}}\n"
     ]
    }
   ],
   "source": [
    "import json\n",
    "\n",
    "input_class_file = Path(r\"C:\\Users\\oscar\\OneDrive - Fondazione Bruno Kessler\\KUL_GeometricModel\\script\")\n",
    "\n",
    "# Combine the input path with the file name\n",
    "class_file = os.path.join(input_class_file, \"_classes_expanded.json\")\n",
    "\n",
    "# Try reading the JSON file\n",
    "try:\n",
    "    with open(class_file, 'r') as file:\n",
    "        json_data = json.load(file)\n",
    "\n",
    "    # Create a dictionary with selected keys\n",
    "    class_dict = {\n",
    "        'classes': json_data.get('classes', {}),\n",
    "        'default': json_data.get('default', {}),\n",
    "        'type': json_data.get('type', {}),\n",
    "        'format': json_data.get('format', {}),\n",
    "        'created_with': json_data.get('created_with', {})\n",
    "    }\n",
    "\n",
    "    # Print the dictionary\n",
    "    print(class_dict)\n",
    "\n",
    "except FileNotFoundError:\n",
    "    print(f\"Error: The file at {class_file} was not found.\")\n",
    "except json.JSONDecodeError:\n",
    "    print(\"Error: Failed to decode JSON, please check the file format.\")\n",
    "    "
   ]
  },
  {
   "cell_type": "code",
   "execution_count": 28,
   "metadata": {},
   "outputs": [
    {
     "name": "stdout",
     "output_type": "stream",
     "text": [
      "created 32_05_01_test: PointCloud with 3928910 points.\n"
     ]
    }
   ],
   "source": [
    "# from geomapi.nodes import PointCloudNode\n",
    "\n",
    "# pcdNodes=[]\n",
    "\n",
    "# # for f in files[0:1]:\n",
    "# laz  = laspy.read(files)\n",
    "# pcd=gmu.las_to_pcd(laz)\n",
    "# pcdNodes.append(PointCloudNode(resource=pcd,\n",
    "#                             name=ut.get_filename(files)))\n",
    "# # del laz\n",
    "# # del pcd\n",
    "# print(f'created {pcdNodes[-1].name}: {pcdNodes[-1].resource}')"
   ]
  },
  {
   "cell_type": "code",
   "execution_count": 19,
   "metadata": {},
   "outputs": [],
   "source": [
    "from geomapi.nodes import PointCloudNode"
   ]
  },
  {
   "cell_type": "code",
   "execution_count": 20,
   "metadata": {},
   "outputs": [
    {
     "name": "stdout",
     "output_type": "stream",
     "text": [
      "processing c:\\Users\\oscar\\OneDrive - Fondazione Bruno Kessler\\KUL_GeometricModel\\data\\house_01\\house_01_.las\n",
      "loaded 2723675 points\n",
      "created 10 from house_01_\n"
     ]
    }
   ],
   "source": [
    "pcdNodes=[]\n",
    "\n",
    "print(f'processing {files}')\n",
    "# laz  = laspy.read(f) #enable this\n",
    "print(f'loaded {len(laz.xyz)} points')\n",
    "\n",
    "#seperate classes\n",
    "for c in class_dict['classes']:\n",
    "    idx=np.where((laz['classes']==c['id']))\n",
    "    objects_ids=laz['objects'][idx]        \n",
    "    class_points=laz.xyz[idx]\n",
    "    \n",
    "    #separate objects\n",
    "    for u in np.unique(objects_ids):\n",
    "        idx=np.where(objects_ids==u)\n",
    "        object_pcd=o3d.geometry.PointCloud()\n",
    "        object_pcd.points=o3d.utility.Vector3dVector(class_points[idx])\n",
    "        pcdNode=PointCloudNode(resource=object_pcd,\n",
    "                                name=ut.get_filename(files)+'_'+c['name']+'_'+str(u),\n",
    "                                class_name=c['name'],\n",
    "                                class_id=c['id'],\n",
    "                                object_id=u,\n",
    "                                color=ut.random_color(),\n",
    "                                derived_from=ut.get_filename(files))\n",
    "        pcdNode.get_oriented_bounding_box()\n",
    "        pcdNodes.append(pcdNode)\n",
    "# del laz\n",
    "# del class_points\n",
    "print(f'created {len(pcdNodes)} from {ut.get_filename(files)}')\n"
   ]
  },
  {
   "cell_type": "code",
   "execution_count": 34,
   "metadata": {},
   "outputs": [
    {
     "name": "stdout",
     "output_type": "stream",
     "text": [
      "\u001b[1;33m[Open3D WARNING] GLFW Error: Cocoa: Failed to find service port for display\u001b[0;m\n"
     ]
    }
   ],
   "source": [
    "# laz= laspy.read(files)\n",
    "# pcd=gmu.las_to_pcd(laz)\n",
    "# pcdNodes.append(PointCloudNode(resource=pcd))\n",
    "# pcd=gmu.las_to_pcd(laz)\n",
    "# o3d.visualization.draw_geometries([pcd])"
   ]
  },
  {
   "cell_type": "markdown",
   "metadata": {},
   "source": [
    "### import entire folder of PCD's"
   ]
  },
  {
   "cell_type": "markdown",
   "metadata": {},
   "source": [
    "## OUTPUTS"
   ]
  },
  {
   "cell_type": "markdown",
   "metadata": {},
   "source": [
    "### export graphs"
   ]
  },
  {
   "cell_type": "code",
   "execution_count": 21,
   "metadata": {},
   "outputs": [
    {
     "data": {
      "text/plain": [
       "WindowsPath('c:/Users/oscar/OneDrive - Fondazione Bruno Kessler/KUL_GeometricModel/data/house_01/outputs')"
      ]
     },
     "execution_count": 21,
     "metadata": {},
     "output_type": "execute_result"
    }
   ],
   "source": [
    "output_folder"
   ]
  },
  {
   "cell_type": "code",
   "execution_count": 22,
   "metadata": {},
   "outputs": [
    {
     "name": "stdout",
     "output_type": "stream",
     "text": [
      "Output path:  c:\\Users\\oscar\\OneDrive - Fondazione Bruno Kessler\\KUL_GeometricModel\\data\\house_01\\outputs\n",
      "c:\\Users\\oscar\\OneDrive - Fondazione Bruno Kessler\\KUL_GeometricModel\\data\\house_01\\outputs\\house_01_graph.ttl\n"
     ]
    },
    {
     "data": {
      "text/plain": [
       "<Graph identifier=Ne9382f8cd13f41c8af017fa51f3427f5 (<class 'rdflib.graph.Graph'>)>"
      ]
     },
     "execution_count": 22,
     "metadata": {},
     "output_type": "execute_result"
    }
   ],
   "source": [
    "name = name\n",
    "\n",
    "print('Output path: ', output_folder)\n",
    "output = os.path.join(output_folder , f'{name}_graph.ttl')\n",
    "print(output)\n",
    "\n",
    "tl.nodes_to_graph(pcdNodes, path=output, save=True)\n"
   ]
  },
  {
   "cell_type": "code",
   "execution_count": null,
   "metadata": {},
   "outputs": [],
   "source": []
  },
  {
   "cell_type": "code",
   "execution_count": 23,
   "metadata": {},
   "outputs": [
    {
     "ename": "SyntaxError",
     "evalue": "invalid syntax (779750090.py, line 2)",
     "output_type": "error",
     "traceback": [
      "\u001b[1;36m  Cell \u001b[1;32mIn[23], line 2\u001b[1;36m\u001b[0m\n\u001b[1;33m    import scipy.spatial.transform import Rotation as R\u001b[0m\n\u001b[1;37m                                   ^\u001b[0m\n\u001b[1;31mSyntaxError\u001b[0m\u001b[1;31m:\u001b[0m invalid syntax\n"
     ]
    }
   ],
   "source": [
    "import copy\n",
    "import scipy.spatial.transform import Rotation as R\n",
    "import laspy \n",
    "\n",
    "laz=laspy.read(pcd_input_path)\n",
    "z_values=laz[:,2]\n",
    "z_values=laz.z\n",
    "\n",
    "highest_z=np.max(z_values)\n",
    "lowest_z=np.min(z_values)\n",
    "\n",
    "delta_levels= (highest_z-lowest_z)\n",
    "\n",
    "print(f'Highest z value: {highest_z}')\n",
    "print(f'Lowest z value: {lowest_z}')\n",
    "print(f'Delta z: {delta_levels}')"
   ]
  },
  {
   "cell_type": "code",
   "execution_count": 29,
   "metadata": {},
   "outputs": [
    {
     "ename": "NameError",
     "evalue": "name 'columnNodes' is not defined",
     "output_type": "error",
     "traceback": [
      "\u001b[1;31m---------------------------------------------------------------------------\u001b[0m",
      "\u001b[1;31mNameError\u001b[0m                                 Traceback (most recent call last)",
      "Cell \u001b[1;32mIn[29], line 1\u001b[0m\n\u001b[1;32m----> 1\u001b[0m \u001b[38;5;28;01mfor\u001b[39;00m n \u001b[38;5;129;01min\u001b[39;00m \u001b[43mcolumnNodes\u001b[49m:\n\u001b[0;32m      2\u001b[0m    \n\u001b[0;32m      3\u001b[0m     \u001b[38;5;66;03m#compute the oriented bounding box\u001b[39;00m\n\u001b[0;32m      4\u001b[0m     n\u001b[38;5;241m.\u001b[39mbox\u001b[38;5;241m=\u001b[39mn\u001b[38;5;241m.\u001b[39mget_oriented_bounding_box()\n\u001b[0;32m      5\u001b[0m     n\u001b[38;5;241m.\u001b[39mbox\u001b[38;5;241m.\u001b[39mcolor\u001b[38;5;241m=\u001b[39m[\u001b[38;5;241m1\u001b[39m,\u001b[38;5;241m0\u001b[39m,\u001b[38;5;241m0\u001b[39m]\n",
      "\u001b[1;31mNameError\u001b[0m: name 'columnNodes' is not defined"
     ]
    }
   ],
   "source": [
    "for n in columnNodes:\n",
    "   \n",
    "    #compute the oriented bounding box\n",
    "    n.box=n.get_oriented_bounding_box()\n",
    "    n.box.color=[1,0,0]\n",
    " \n",
    "    #translate the resource a bit higher\n",
    "    pcd= copy.deepcopy(n.resource)\n",
    "    pcd.translate([0,0,5])\n",
    "   \n",
    "    #combine these point clouds\n",
    "    pcd+=n.resource\n",
    "    n.box2=pcd.get_oriented_bounding_box()\n",
    "    n.box2.color=[0,1,0]\n",
    "   \n",
    "    #retrieve the rotation of the box\n",
    "    rotation_matrix = np.array(n.box2.R, copy=True)  # Create a writable copy\n",
    " \n",
    "    #report the rotation matrix as euler angles using scipy.spatial.transform.Rotation\n",
    "    r = R.from_matrix(rotation_matrix)\n",
    "    euler_angles = r.as_euler('zyx', degrees=True)\n",
    "    print(euler_angles)\n",
    "   \n",
    "    #create rotation matrix from Z=-euler_angles , Y=0, X=0\n",
    "    r = R.from_euler('zyx', [-euler_angles[1],0,0], degrees=True)\n",
    "    rotation_matrix = r.as_matrix()\n",
    "   \n",
    "    #rotating the box back to the original position\n",
    "    n.box3=copy.deepcopy(n.box2)\n",
    "    n.box3.rotate(r.as_matrix(  ))\n",
    "    n.box3.color=[0,0,1]"
   ]
  },
  {
 
